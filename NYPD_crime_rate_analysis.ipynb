{
 "cells": [
  {
   "cell_type": "code",
   "execution_count": 1,
   "metadata": {},
   "outputs": [],
   "source": [
    "import pandas as pd\n",
    "import matplotlib.pyplot as plt\n",
    "import numpy as np"
   ]
  },
  {
   "cell_type": "code",
   "execution_count": 25,
   "metadata": {},
   "outputs": [
    {
     "data": {
      "text/html": [
       "<div>\n",
       "<style scoped>\n",
       "    .dataframe tbody tr th:only-of-type {\n",
       "        vertical-align: middle;\n",
       "    }\n",
       "\n",
       "    .dataframe tbody tr th {\n",
       "        vertical-align: top;\n",
       "    }\n",
       "\n",
       "    .dataframe thead th {\n",
       "        text-align: right;\n",
       "    }\n",
       "</style>\n",
       "<table border=\"1\" class=\"dataframe\">\n",
       "  <thead>\n",
       "    <tr style=\"text-align: right;\">\n",
       "      <th></th>\n",
       "      <th>CMPLNT_NUM</th>\n",
       "      <th>CMPLNT_FR_DT</th>\n",
       "      <th>CMPLNT_FR_TM</th>\n",
       "      <th>CMPLNT_TO_DT</th>\n",
       "      <th>CMPLNT_TO_TM</th>\n",
       "      <th>ADDR_PCT_CD</th>\n",
       "      <th>RPT_DT</th>\n",
       "      <th>KY_CD</th>\n",
       "      <th>OFNS_DESC</th>\n",
       "      <th>PD_CD</th>\n",
       "      <th>...</th>\n",
       "      <th>SUSP_SEX</th>\n",
       "      <th>TRANSIT_DISTRICT</th>\n",
       "      <th>Latitude</th>\n",
       "      <th>Longitude</th>\n",
       "      <th>Lat_Lon</th>\n",
       "      <th>PATROL_BORO</th>\n",
       "      <th>STATION_NAME</th>\n",
       "      <th>VIC_AGE_GROUP</th>\n",
       "      <th>VIC_RACE</th>\n",
       "      <th>VIC_SEX</th>\n",
       "    </tr>\n",
       "  </thead>\n",
       "  <tbody>\n",
       "    <tr>\n",
       "      <th>0</th>\n",
       "      <td>700381962</td>\n",
       "      <td>05/28/2015</td>\n",
       "      <td>15:00:00</td>\n",
       "      <td>NaN</td>\n",
       "      <td>NaN</td>\n",
       "      <td>46.0</td>\n",
       "      <td>06/01/2015</td>\n",
       "      <td>578.0</td>\n",
       "      <td>HARRASSMENT 2</td>\n",
       "      <td>638.0</td>\n",
       "      <td>...</td>\n",
       "      <td>M</td>\n",
       "      <td>NaN</td>\n",
       "      <td>40.845868</td>\n",
       "      <td>-73.915888</td>\n",
       "      <td>(40.84586773, -73.915888033)</td>\n",
       "      <td>PATROL BORO BRONX</td>\n",
       "      <td>NaN</td>\n",
       "      <td>25-44</td>\n",
       "      <td>WHITE HISPANIC</td>\n",
       "      <td>F</td>\n",
       "    </tr>\n",
       "    <tr>\n",
       "      <th>1</th>\n",
       "      <td>642234217</td>\n",
       "      <td>10/28/2013</td>\n",
       "      <td>13:50:00</td>\n",
       "      <td>10/28/2013</td>\n",
       "      <td>13:50:00</td>\n",
       "      <td>120.0</td>\n",
       "      <td>10/28/2013</td>\n",
       "      <td>351.0</td>\n",
       "      <td>CRIMINAL MISCHIEF &amp; RELATED OF</td>\n",
       "      <td>259.0</td>\n",
       "      <td>...</td>\n",
       "      <td>NaN</td>\n",
       "      <td>NaN</td>\n",
       "      <td>40.627061</td>\n",
       "      <td>-74.077149</td>\n",
       "      <td>(40.627060894, -74.077149232)</td>\n",
       "      <td>PATROL BORO STATEN ISLAND</td>\n",
       "      <td>NaN</td>\n",
       "      <td>45-64</td>\n",
       "      <td>WHITE</td>\n",
       "      <td>M</td>\n",
       "    </tr>\n",
       "    <tr>\n",
       "      <th>2</th>\n",
       "      <td>242465164</td>\n",
       "      <td>05/09/2012</td>\n",
       "      <td>20:50:00</td>\n",
       "      <td>05/09/2012</td>\n",
       "      <td>21:00:00</td>\n",
       "      <td>24.0</td>\n",
       "      <td>05/09/2012</td>\n",
       "      <td>236.0</td>\n",
       "      <td>DANGEROUS WEAPONS</td>\n",
       "      <td>782.0</td>\n",
       "      <td>...</td>\n",
       "      <td>NaN</td>\n",
       "      <td>NaN</td>\n",
       "      <td>40.800966</td>\n",
       "      <td>-73.969047</td>\n",
       "      <td>(40.800965968, -73.969047272)</td>\n",
       "      <td>PATROL BORO MAN NORTH</td>\n",
       "      <td>NaN</td>\n",
       "      <td>NaN</td>\n",
       "      <td>UNKNOWN</td>\n",
       "      <td>E</td>\n",
       "    </tr>\n",
       "    <tr>\n",
       "      <th>3</th>\n",
       "      <td>927207428</td>\n",
       "      <td>01/03/2014</td>\n",
       "      <td>13:30:00</td>\n",
       "      <td>01/03/2014</td>\n",
       "      <td>13:35:00</td>\n",
       "      <td>108.0</td>\n",
       "      <td>01/03/2014</td>\n",
       "      <td>109.0</td>\n",
       "      <td>GRAND LARCENY</td>\n",
       "      <td>409.0</td>\n",
       "      <td>...</td>\n",
       "      <td>M</td>\n",
       "      <td>NaN</td>\n",
       "      <td>40.745242</td>\n",
       "      <td>-73.894253</td>\n",
       "      <td>(40.745241809, -73.894253382)</td>\n",
       "      <td>PATROL BORO QUEENS NORTH</td>\n",
       "      <td>NaN</td>\n",
       "      <td>45-64</td>\n",
       "      <td>ASIAN / PACIFIC ISLANDER</td>\n",
       "      <td>M</td>\n",
       "    </tr>\n",
       "    <tr>\n",
       "      <th>4</th>\n",
       "      <td>492142357</td>\n",
       "      <td>04/13/2016</td>\n",
       "      <td>00:00:00</td>\n",
       "      <td>NaN</td>\n",
       "      <td>NaN</td>\n",
       "      <td>40.0</td>\n",
       "      <td>04/13/2016</td>\n",
       "      <td>351.0</td>\n",
       "      <td>CRIMINAL MISCHIEF &amp; RELATED OF</td>\n",
       "      <td>258.0</td>\n",
       "      <td>...</td>\n",
       "      <td>NaN</td>\n",
       "      <td>NaN</td>\n",
       "      <td>40.810352</td>\n",
       "      <td>-73.924942</td>\n",
       "      <td>(40.810351863, -73.924942326)</td>\n",
       "      <td>PATROL BORO BRONX</td>\n",
       "      <td>NaN</td>\n",
       "      <td>UNKNOWN</td>\n",
       "      <td>UNKNOWN</td>\n",
       "      <td>E</td>\n",
       "    </tr>\n",
       "  </tbody>\n",
       "</table>\n",
       "<p>5 rows × 35 columns</p>\n",
       "</div>"
      ],
      "text/plain": [
       "  CMPLNT_NUM CMPLNT_FR_DT CMPLNT_FR_TM CMPLNT_TO_DT CMPLNT_TO_TM  ADDR_PCT_CD  \\\n",
       "0  700381962   05/28/2015     15:00:00          NaN          NaN         46.0   \n",
       "1  642234217   10/28/2013     13:50:00   10/28/2013     13:50:00        120.0   \n",
       "2  242465164   05/09/2012     20:50:00   05/09/2012     21:00:00         24.0   \n",
       "3  927207428   01/03/2014     13:30:00   01/03/2014     13:35:00        108.0   \n",
       "4  492142357   04/13/2016     00:00:00          NaN          NaN         40.0   \n",
       "\n",
       "       RPT_DT  KY_CD                       OFNS_DESC  PD_CD  ... SUSP_SEX  \\\n",
       "0  06/01/2015  578.0                   HARRASSMENT 2  638.0  ...        M   \n",
       "1  10/28/2013  351.0  CRIMINAL MISCHIEF & RELATED OF  259.0  ...      NaN   \n",
       "2  05/09/2012  236.0               DANGEROUS WEAPONS  782.0  ...      NaN   \n",
       "3  01/03/2014  109.0                   GRAND LARCENY  409.0  ...        M   \n",
       "4  04/13/2016  351.0  CRIMINAL MISCHIEF & RELATED OF  258.0  ...      NaN   \n",
       "\n",
       "  TRANSIT_DISTRICT   Latitude  Longitude                        Lat_Lon  \\\n",
       "0              NaN  40.845868 -73.915888   (40.84586773, -73.915888033)   \n",
       "1              NaN  40.627061 -74.077149  (40.627060894, -74.077149232)   \n",
       "2              NaN  40.800966 -73.969047  (40.800965968, -73.969047272)   \n",
       "3              NaN  40.745242 -73.894253  (40.745241809, -73.894253382)   \n",
       "4              NaN  40.810352 -73.924942  (40.810351863, -73.924942326)   \n",
       "\n",
       "                 PATROL_BORO STATION_NAME  VIC_AGE_GROUP  \\\n",
       "0          PATROL BORO BRONX          NaN          25-44   \n",
       "1  PATROL BORO STATEN ISLAND          NaN          45-64   \n",
       "2      PATROL BORO MAN NORTH          NaN            NaN   \n",
       "3   PATROL BORO QUEENS NORTH          NaN          45-64   \n",
       "4          PATROL BORO BRONX          NaN        UNKNOWN   \n",
       "\n",
       "                   VIC_RACE VIC_SEX  \n",
       "0            WHITE HISPANIC       F  \n",
       "1                     WHITE       M  \n",
       "2                   UNKNOWN       E  \n",
       "3  ASIAN / PACIFIC ISLANDER       M  \n",
       "4                   UNKNOWN       E  \n",
       "\n",
       "[5 rows x 35 columns]"
      ]
     },
     "execution_count": 25,
     "metadata": {},
     "output_type": "execute_result"
    }
   ],
   "source": [
    "data = pd.read_csv(\"data/NYPD_Complaint_Data_Historic.csv\")\n",
    "data.head()"
   ]
  },
  {
   "cell_type": "code",
   "execution_count": 26,
   "metadata": {
    "scrolled": true
   },
   "outputs": [
    {
     "name": "stdout",
     "output_type": "stream",
     "text": [
      "CMPLNT_NUM                 0\n",
      "CMPLNT_FR_DT              67\n",
      "CMPLNT_FR_TM               4\n",
      "CMPLNT_TO_DT          333094\n",
      "CMPLNT_TO_TM          332353\n",
      "ADDR_PCT_CD              301\n",
      "RPT_DT                     4\n",
      "KY_CD                      4\n",
      "OFNS_DESC               2943\n",
      "PD_CD                   1822\n",
      "PD_DESC                 1822\n",
      "CRM_ATPT_CPTD_CD           5\n",
      "LAW_CAT_CD                 4\n",
      "BORO_NM                 1886\n",
      "LOC_OF_OCCUR_DESC     358839\n",
      "PREM_TYP_DESC           8465\n",
      "JURIS_DESC                 4\n",
      "JURISDICTION_CODE       1822\n",
      "PARKS_NM             1754996\n",
      "HADEVELOPT           1680048\n",
      "HOUSING_PSA          1632363\n",
      "X_COORD_CD              5386\n",
      "Y_COORD_CD              5386\n",
      "SUSP_AGE_GROUP        912569\n",
      "SUSP_RACE             671395\n",
      "SUSP_SEX              671719\n",
      "TRANSIT_DISTRICT     1724338\n",
      "Latitude                5386\n",
      "Longitude               5386\n",
      "Lat_Lon                 5386\n",
      "PATROL_BORO             1913\n",
      "STATION_NAME         1724338\n",
      "VIC_AGE_GROUP         271498\n",
      "VIC_RACE                  21\n",
      "VIC_SEX                   21\n",
      "dtype: int64\n",
      "Total number of missing values: 12115588\n"
     ]
    }
   ],
   "source": [
    "print(data.isnull().sum())\n",
    "total_na_values = data.isnull().sum().sum()\n",
    "print(\"Total number of missing values: {}\".format(total_na_values))"
   ]
  },
  {
   "cell_type": "code",
   "execution_count": 27,
   "metadata": {},
   "outputs": [
    {
     "data": {
      "text/html": [
       "<div>\n",
       "<style scoped>\n",
       "    .dataframe tbody tr th:only-of-type {\n",
       "        vertical-align: middle;\n",
       "    }\n",
       "\n",
       "    .dataframe tbody tr th {\n",
       "        vertical-align: top;\n",
       "    }\n",
       "\n",
       "    .dataframe thead th {\n",
       "        text-align: right;\n",
       "    }\n",
       "</style>\n",
       "<table border=\"1\" class=\"dataframe\">\n",
       "  <thead>\n",
       "    <tr style=\"text-align: right;\">\n",
       "      <th></th>\n",
       "      <th>ADDR_PCT_CD</th>\n",
       "      <th>KY_CD</th>\n",
       "      <th>PD_CD</th>\n",
       "      <th>JURISDICTION_CODE</th>\n",
       "      <th>X_COORD_CD</th>\n",
       "      <th>Y_COORD_CD</th>\n",
       "      <th>TRANSIT_DISTRICT</th>\n",
       "      <th>Latitude</th>\n",
       "      <th>Longitude</th>\n",
       "    </tr>\n",
       "  </thead>\n",
       "  <tbody>\n",
       "    <tr>\n",
       "      <th>count</th>\n",
       "      <td>1.765931e+06</td>\n",
       "      <td>1.766228e+06</td>\n",
       "      <td>1.764410e+06</td>\n",
       "      <td>1.764410e+06</td>\n",
       "      <td>1.760846e+06</td>\n",
       "      <td>1.760846e+06</td>\n",
       "      <td>41894.000000</td>\n",
       "      <td>1.760846e+06</td>\n",
       "      <td>1.760846e+06</td>\n",
       "    </tr>\n",
       "    <tr>\n",
       "      <th>mean</th>\n",
       "      <td>6.307106e+01</td>\n",
       "      <td>2.975526e+02</td>\n",
       "      <td>4.098599e+02</td>\n",
       "      <td>8.014146e-01</td>\n",
       "      <td>1.005038e+06</td>\n",
       "      <td>2.073390e+05</td>\n",
       "      <td>13.428964</td>\n",
       "      <td>4.073573e+01</td>\n",
       "      <td>-7.392496e+01</td>\n",
       "    </tr>\n",
       "    <tr>\n",
       "      <th>std</th>\n",
       "      <td>3.460790e+01</td>\n",
       "      <td>1.519195e+02</td>\n",
       "      <td>2.187282e+02</td>\n",
       "      <td>7.236646e+00</td>\n",
       "      <td>2.136537e+04</td>\n",
       "      <td>3.055795e+04</td>\n",
       "      <td>12.323076</td>\n",
       "      <td>8.386972e-02</td>\n",
       "      <td>7.705234e-02</td>\n",
       "    </tr>\n",
       "    <tr>\n",
       "      <th>min</th>\n",
       "      <td>-9.900000e+01</td>\n",
       "      <td>1.010000e+02</td>\n",
       "      <td>1.000000e+02</td>\n",
       "      <td>0.000000e+00</td>\n",
       "      <td>1.926690e+05</td>\n",
       "      <td>1.211310e+05</td>\n",
       "      <td>1.000000</td>\n",
       "      <td>4.049891e+01</td>\n",
       "      <td>-7.685360e+01</td>\n",
       "    </tr>\n",
       "    <tr>\n",
       "      <th>25%</th>\n",
       "      <td>4.000000e+01</td>\n",
       "      <td>1.170000e+02</td>\n",
       "      <td>2.540000e+02</td>\n",
       "      <td>0.000000e+00</td>\n",
       "      <td>9.918560e+05</td>\n",
       "      <td>1.845780e+05</td>\n",
       "      <td>3.000000</td>\n",
       "      <td>4.067325e+01</td>\n",
       "      <td>-7.397258e+01</td>\n",
       "    </tr>\n",
       "    <tr>\n",
       "      <th>50%</th>\n",
       "      <td>6.300000e+01</td>\n",
       "      <td>3.410000e+02</td>\n",
       "      <td>3.570000e+02</td>\n",
       "      <td>0.000000e+00</td>\n",
       "      <td>1.004563e+06</td>\n",
       "      <td>2.063350e+05</td>\n",
       "      <td>11.000000</td>\n",
       "      <td>4.073294e+01</td>\n",
       "      <td>-7.392669e+01</td>\n",
       "    </tr>\n",
       "    <tr>\n",
       "      <th>75%</th>\n",
       "      <td>9.400000e+01</td>\n",
       "      <td>3.510000e+02</td>\n",
       "      <td>6.370000e+02</td>\n",
       "      <td>0.000000e+00</td>\n",
       "      <td>1.016705e+06</td>\n",
       "      <td>2.352320e+05</td>\n",
       "      <td>30.000000</td>\n",
       "      <td>4.081231e+01</td>\n",
       "      <td>-7.388283e+01</td>\n",
       "    </tr>\n",
       "    <tr>\n",
       "      <th>max</th>\n",
       "      <td>1.230000e+02</td>\n",
       "      <td>8.810000e+02</td>\n",
       "      <td>9.690000e+02</td>\n",
       "      <td>9.700000e+01</td>\n",
       "      <td>1.067226e+06</td>\n",
       "      <td>4.242486e+06</td>\n",
       "      <td>34.000000</td>\n",
       "      <td>5.173171e+01</td>\n",
       "      <td>-7.370057e+01</td>\n",
       "    </tr>\n",
       "  </tbody>\n",
       "</table>\n",
       "</div>"
      ],
      "text/plain": [
       "        ADDR_PCT_CD         KY_CD         PD_CD  JURISDICTION_CODE  \\\n",
       "count  1.765931e+06  1.766228e+06  1.764410e+06       1.764410e+06   \n",
       "mean   6.307106e+01  2.975526e+02  4.098599e+02       8.014146e-01   \n",
       "std    3.460790e+01  1.519195e+02  2.187282e+02       7.236646e+00   \n",
       "min   -9.900000e+01  1.010000e+02  1.000000e+02       0.000000e+00   \n",
       "25%    4.000000e+01  1.170000e+02  2.540000e+02       0.000000e+00   \n",
       "50%    6.300000e+01  3.410000e+02  3.570000e+02       0.000000e+00   \n",
       "75%    9.400000e+01  3.510000e+02  6.370000e+02       0.000000e+00   \n",
       "max    1.230000e+02  8.810000e+02  9.690000e+02       9.700000e+01   \n",
       "\n",
       "         X_COORD_CD    Y_COORD_CD  TRANSIT_DISTRICT      Latitude  \\\n",
       "count  1.760846e+06  1.760846e+06      41894.000000  1.760846e+06   \n",
       "mean   1.005038e+06  2.073390e+05         13.428964  4.073573e+01   \n",
       "std    2.136537e+04  3.055795e+04         12.323076  8.386972e-02   \n",
       "min    1.926690e+05  1.211310e+05          1.000000  4.049891e+01   \n",
       "25%    9.918560e+05  1.845780e+05          3.000000  4.067325e+01   \n",
       "50%    1.004563e+06  2.063350e+05         11.000000  4.073294e+01   \n",
       "75%    1.016705e+06  2.352320e+05         30.000000  4.081231e+01   \n",
       "max    1.067226e+06  4.242486e+06         34.000000  5.173171e+01   \n",
       "\n",
       "          Longitude  \n",
       "count  1.760846e+06  \n",
       "mean  -7.392496e+01  \n",
       "std    7.705234e-02  \n",
       "min   -7.685360e+01  \n",
       "25%   -7.397258e+01  \n",
       "50%   -7.392669e+01  \n",
       "75%   -7.388283e+01  \n",
       "max   -7.370057e+01  "
      ]
     },
     "execution_count": 27,
     "metadata": {},
     "output_type": "execute_result"
    }
   ],
   "source": [
    "data.describe()"
   ]
  },
  {
   "cell_type": "code",
   "execution_count": 42,
   "metadata": {},
   "outputs": [],
   "source": [
    "new_data = data.drop([\"CMPLNT_NUM\",\"CMPLNT_TO_DT\",\"CMPLNT_FR_TM\",\"CMPLNT_TO_TM\",\"CMPLNT_FR_DT\",\"KY_CD\",\"TRANSIT_DISTRICT\",\"PD_CD\",\"PD_DESC\",\"CRM_ATPT_CPTD_CD\",\"HADEVELOPT\",\"PARKS_NM\",\"HOUSING_PSA\",\"X_COORD_CD\",\"Y_COORD_CD\",\"PATROL_BORO\",\"STATION_NAME\",\"JURISDICTION_CODE\",\"Lat_Lon\"], axis=1)"
   ]
  },
  {
   "cell_type": "code",
   "execution_count": 43,
   "metadata": {},
   "outputs": [
    {
     "data": {
      "text/html": [
       "<div>\n",
       "<style scoped>\n",
       "    .dataframe tbody tr th:only-of-type {\n",
       "        vertical-align: middle;\n",
       "    }\n",
       "\n",
       "    .dataframe tbody tr th {\n",
       "        vertical-align: top;\n",
       "    }\n",
       "\n",
       "    .dataframe thead th {\n",
       "        text-align: right;\n",
       "    }\n",
       "</style>\n",
       "<table border=\"1\" class=\"dataframe\">\n",
       "  <thead>\n",
       "    <tr style=\"text-align: right;\">\n",
       "      <th></th>\n",
       "      <th>ADDR_PCT_CD</th>\n",
       "      <th>RPT_DT</th>\n",
       "      <th>OFNS_DESC</th>\n",
       "      <th>LAW_CAT_CD</th>\n",
       "      <th>BORO_NM</th>\n",
       "      <th>LOC_OF_OCCUR_DESC</th>\n",
       "      <th>PREM_TYP_DESC</th>\n",
       "      <th>JURIS_DESC</th>\n",
       "      <th>SUSP_AGE_GROUP</th>\n",
       "      <th>SUSP_RACE</th>\n",
       "      <th>SUSP_SEX</th>\n",
       "      <th>Latitude</th>\n",
       "      <th>Longitude</th>\n",
       "      <th>VIC_AGE_GROUP</th>\n",
       "      <th>VIC_RACE</th>\n",
       "      <th>VIC_SEX</th>\n",
       "    </tr>\n",
       "  </thead>\n",
       "  <tbody>\n",
       "    <tr>\n",
       "      <th>0</th>\n",
       "      <td>46.0</td>\n",
       "      <td>06/01/2015</td>\n",
       "      <td>HARRASSMENT 2</td>\n",
       "      <td>VIOLATION</td>\n",
       "      <td>BRONX</td>\n",
       "      <td>INSIDE</td>\n",
       "      <td>RESIDENCE - APT. HOUSE</td>\n",
       "      <td>N.Y. POLICE DEPT</td>\n",
       "      <td>25-44</td>\n",
       "      <td>BLACK</td>\n",
       "      <td>M</td>\n",
       "      <td>40.845868</td>\n",
       "      <td>-73.915888</td>\n",
       "      <td>25-44</td>\n",
       "      <td>WHITE HISPANIC</td>\n",
       "      <td>F</td>\n",
       "    </tr>\n",
       "    <tr>\n",
       "      <th>1</th>\n",
       "      <td>120.0</td>\n",
       "      <td>10/28/2013</td>\n",
       "      <td>CRIMINAL MISCHIEF &amp; RELATED OF</td>\n",
       "      <td>MISDEMEANOR</td>\n",
       "      <td>STATEN ISLAND</td>\n",
       "      <td>INSIDE</td>\n",
       "      <td>RESIDENCE - APT. HOUSE</td>\n",
       "      <td>N.Y. POLICE DEPT</td>\n",
       "      <td>NaN</td>\n",
       "      <td>NaN</td>\n",
       "      <td>NaN</td>\n",
       "      <td>40.627061</td>\n",
       "      <td>-74.077149</td>\n",
       "      <td>45-64</td>\n",
       "      <td>WHITE</td>\n",
       "      <td>M</td>\n",
       "    </tr>\n",
       "    <tr>\n",
       "      <th>2</th>\n",
       "      <td>24.0</td>\n",
       "      <td>05/09/2012</td>\n",
       "      <td>DANGEROUS WEAPONS</td>\n",
       "      <td>MISDEMEANOR</td>\n",
       "      <td>MANHATTAN</td>\n",
       "      <td>NaN</td>\n",
       "      <td>STREET</td>\n",
       "      <td>N.Y. POLICE DEPT</td>\n",
       "      <td>NaN</td>\n",
       "      <td>NaN</td>\n",
       "      <td>NaN</td>\n",
       "      <td>40.800966</td>\n",
       "      <td>-73.969047</td>\n",
       "      <td>NaN</td>\n",
       "      <td>UNKNOWN</td>\n",
       "      <td>E</td>\n",
       "    </tr>\n",
       "    <tr>\n",
       "      <th>3</th>\n",
       "      <td>108.0</td>\n",
       "      <td>01/03/2014</td>\n",
       "      <td>GRAND LARCENY</td>\n",
       "      <td>FELONY</td>\n",
       "      <td>QUEENS</td>\n",
       "      <td>INSIDE</td>\n",
       "      <td>RESIDENCE - APT. HOUSE</td>\n",
       "      <td>N.Y. POLICE DEPT</td>\n",
       "      <td>NaN</td>\n",
       "      <td>UNKNOWN</td>\n",
       "      <td>M</td>\n",
       "      <td>40.745242</td>\n",
       "      <td>-73.894253</td>\n",
       "      <td>45-64</td>\n",
       "      <td>ASIAN / PACIFIC ISLANDER</td>\n",
       "      <td>M</td>\n",
       "    </tr>\n",
       "    <tr>\n",
       "      <th>4</th>\n",
       "      <td>40.0</td>\n",
       "      <td>04/13/2016</td>\n",
       "      <td>CRIMINAL MISCHIEF &amp; RELATED OF</td>\n",
       "      <td>MISDEMEANOR</td>\n",
       "      <td>BRONX</td>\n",
       "      <td>NaN</td>\n",
       "      <td>HIGHWAY/PARKWAY</td>\n",
       "      <td>N.Y. POLICE DEPT</td>\n",
       "      <td>NaN</td>\n",
       "      <td>NaN</td>\n",
       "      <td>NaN</td>\n",
       "      <td>40.810352</td>\n",
       "      <td>-73.924942</td>\n",
       "      <td>UNKNOWN</td>\n",
       "      <td>UNKNOWN</td>\n",
       "      <td>E</td>\n",
       "    </tr>\n",
       "  </tbody>\n",
       "</table>\n",
       "</div>"
      ],
      "text/plain": [
       "   ADDR_PCT_CD      RPT_DT                       OFNS_DESC   LAW_CAT_CD  \\\n",
       "0         46.0  06/01/2015                   HARRASSMENT 2    VIOLATION   \n",
       "1        120.0  10/28/2013  CRIMINAL MISCHIEF & RELATED OF  MISDEMEANOR   \n",
       "2         24.0  05/09/2012               DANGEROUS WEAPONS  MISDEMEANOR   \n",
       "3        108.0  01/03/2014                   GRAND LARCENY       FELONY   \n",
       "4         40.0  04/13/2016  CRIMINAL MISCHIEF & RELATED OF  MISDEMEANOR   \n",
       "\n",
       "         BORO_NM LOC_OF_OCCUR_DESC           PREM_TYP_DESC        JURIS_DESC  \\\n",
       "0          BRONX            INSIDE  RESIDENCE - APT. HOUSE  N.Y. POLICE DEPT   \n",
       "1  STATEN ISLAND            INSIDE  RESIDENCE - APT. HOUSE  N.Y. POLICE DEPT   \n",
       "2      MANHATTAN               NaN                  STREET  N.Y. POLICE DEPT   \n",
       "3         QUEENS            INSIDE  RESIDENCE - APT. HOUSE  N.Y. POLICE DEPT   \n",
       "4          BRONX               NaN         HIGHWAY/PARKWAY  N.Y. POLICE DEPT   \n",
       "\n",
       "  SUSP_AGE_GROUP SUSP_RACE SUSP_SEX   Latitude  Longitude VIC_AGE_GROUP  \\\n",
       "0          25-44     BLACK        M  40.845868 -73.915888         25-44   \n",
       "1            NaN       NaN      NaN  40.627061 -74.077149         45-64   \n",
       "2            NaN       NaN      NaN  40.800966 -73.969047           NaN   \n",
       "3            NaN   UNKNOWN        M  40.745242 -73.894253         45-64   \n",
       "4            NaN       NaN      NaN  40.810352 -73.924942       UNKNOWN   \n",
       "\n",
       "                   VIC_RACE VIC_SEX  \n",
       "0            WHITE HISPANIC       F  \n",
       "1                     WHITE       M  \n",
       "2                   UNKNOWN       E  \n",
       "3  ASIAN / PACIFIC ISLANDER       M  \n",
       "4                   UNKNOWN       E  "
      ]
     },
     "execution_count": 43,
     "metadata": {},
     "output_type": "execute_result"
    }
   ],
   "source": [
    "new_data.head()"
   ]
  },
  {
   "cell_type": "code",
   "execution_count": 46,
   "metadata": {},
   "outputs": [
    {
     "name": "stdout",
     "output_type": "stream",
     "text": [
      "        ADDR_PCT_CD      Latitude     Longitude\n",
      "count  1.765931e+06  1.760846e+06  1.760846e+06\n",
      "mean   6.307106e+01  4.073573e+01 -7.392496e+01\n",
      "std    3.460790e+01  8.386972e-02  7.705234e-02\n",
      "min   -9.900000e+01  4.049891e+01 -7.685360e+01\n",
      "25%    4.000000e+01  4.067325e+01 -7.397258e+01\n",
      "50%    6.300000e+01  4.073294e+01 -7.392669e+01\n",
      "75%    9.400000e+01  4.081231e+01 -7.388283e+01\n",
      "max    1.230000e+02  5.173171e+01 -7.370057e+01\n",
      "<class 'pandas.core.frame.DataFrame'>\n",
      "RangeIndex: 1766232 entries, 0 to 1766231\n",
      "Data columns (total 16 columns):\n",
      "ADDR_PCT_CD          float64\n",
      "RPT_DT               object\n",
      "OFNS_DESC            object\n",
      "LAW_CAT_CD           object\n",
      "BORO_NM              object\n",
      "LOC_OF_OCCUR_DESC    object\n",
      "PREM_TYP_DESC        object\n",
      "JURIS_DESC           object\n",
      "SUSP_AGE_GROUP       object\n",
      "SUSP_RACE            object\n",
      "SUSP_SEX             object\n",
      "Latitude             float64\n",
      "Longitude            float64\n",
      "VIC_AGE_GROUP        object\n",
      "VIC_RACE             object\n",
      "VIC_SEX              object\n",
      "dtypes: float64(3), object(13)\n",
      "memory usage: 215.6+ MB\n",
      "None\n"
     ]
    }
   ],
   "source": [
    "print(new_data.describe())\n",
    "print(new_data.info())"
   ]
  },
  {
   "cell_type": "code",
   "execution_count": 50,
   "metadata": {
    "scrolled": false
   },
   "outputs": [
    {
     "data": {
      "text/plain": [
       "ADDR_PCT_CD             301\n",
       "RPT_DT                    4\n",
       "OFNS_DESC              2943\n",
       "LAW_CAT_CD                4\n",
       "BORO_NM                1886\n",
       "LOC_OF_OCCUR_DESC    358839\n",
       "PREM_TYP_DESC          8465\n",
       "JURIS_DESC                4\n",
       "SUSP_AGE_GROUP       912569\n",
       "SUSP_RACE            671395\n",
       "SUSP_SEX             671719\n",
       "Latitude               5386\n",
       "Longitude              5386\n",
       "VIC_AGE_GROUP        271498\n",
       "VIC_RACE                 21\n",
       "VIC_SEX                  21\n",
       "dtype: int64"
      ]
     },
     "execution_count": 50,
     "metadata": {},
     "output_type": "execute_result"
    }
   ],
   "source": [
    "new_data.isna().sum()"
   ]
  },
  {
   "cell_type": "code",
   "execution_count": 52,
   "metadata": {},
   "outputs": [],
   "source": [
    "new_data = new_data[new_data['RPT_DT'].notna()]"
   ]
  },
  {
   "cell_type": "code",
   "execution_count": 53,
   "metadata": {},
   "outputs": [],
   "source": [
    "date = new_data[\"RPT_DT\"].str.split(\"/\", n = 3, expand = True)\n",
    "new_data['year'] = date[2].astype('int32')\n",
    "new_data['day'] = date[1].astype('int32')\n",
    "new_data['month'] = date[0].astype('int32')"
   ]
  },
  {
   "cell_type": "code",
   "execution_count": 54,
   "metadata": {},
   "outputs": [
    {
     "data": {
      "text/html": [
       "<div>\n",
       "<style scoped>\n",
       "    .dataframe tbody tr th:only-of-type {\n",
       "        vertical-align: middle;\n",
       "    }\n",
       "\n",
       "    .dataframe tbody tr th {\n",
       "        vertical-align: top;\n",
       "    }\n",
       "\n",
       "    .dataframe thead th {\n",
       "        text-align: right;\n",
       "    }\n",
       "</style>\n",
       "<table border=\"1\" class=\"dataframe\">\n",
       "  <thead>\n",
       "    <tr style=\"text-align: right;\">\n",
       "      <th></th>\n",
       "      <th>ADDR_PCT_CD</th>\n",
       "      <th>RPT_DT</th>\n",
       "      <th>OFNS_DESC</th>\n",
       "      <th>LAW_CAT_CD</th>\n",
       "      <th>BORO_NM</th>\n",
       "      <th>LOC_OF_OCCUR_DESC</th>\n",
       "      <th>PREM_TYP_DESC</th>\n",
       "      <th>JURIS_DESC</th>\n",
       "      <th>SUSP_AGE_GROUP</th>\n",
       "      <th>SUSP_RACE</th>\n",
       "      <th>SUSP_SEX</th>\n",
       "      <th>Latitude</th>\n",
       "      <th>Longitude</th>\n",
       "      <th>VIC_AGE_GROUP</th>\n",
       "      <th>VIC_RACE</th>\n",
       "      <th>VIC_SEX</th>\n",
       "      <th>year</th>\n",
       "      <th>day</th>\n",
       "      <th>month</th>\n",
       "    </tr>\n",
       "  </thead>\n",
       "  <tbody>\n",
       "    <tr>\n",
       "      <th>0</th>\n",
       "      <td>46.0</td>\n",
       "      <td>06/01/2015</td>\n",
       "      <td>HARRASSMENT 2</td>\n",
       "      <td>VIOLATION</td>\n",
       "      <td>BRONX</td>\n",
       "      <td>INSIDE</td>\n",
       "      <td>RESIDENCE - APT. HOUSE</td>\n",
       "      <td>N.Y. POLICE DEPT</td>\n",
       "      <td>25-44</td>\n",
       "      <td>BLACK</td>\n",
       "      <td>M</td>\n",
       "      <td>40.845868</td>\n",
       "      <td>-73.915888</td>\n",
       "      <td>25-44</td>\n",
       "      <td>WHITE HISPANIC</td>\n",
       "      <td>F</td>\n",
       "      <td>2015</td>\n",
       "      <td>1</td>\n",
       "      <td>6</td>\n",
       "    </tr>\n",
       "    <tr>\n",
       "      <th>1</th>\n",
       "      <td>120.0</td>\n",
       "      <td>10/28/2013</td>\n",
       "      <td>CRIMINAL MISCHIEF &amp; RELATED OF</td>\n",
       "      <td>MISDEMEANOR</td>\n",
       "      <td>STATEN ISLAND</td>\n",
       "      <td>INSIDE</td>\n",
       "      <td>RESIDENCE - APT. HOUSE</td>\n",
       "      <td>N.Y. POLICE DEPT</td>\n",
       "      <td>NaN</td>\n",
       "      <td>NaN</td>\n",
       "      <td>NaN</td>\n",
       "      <td>40.627061</td>\n",
       "      <td>-74.077149</td>\n",
       "      <td>45-64</td>\n",
       "      <td>WHITE</td>\n",
       "      <td>M</td>\n",
       "      <td>2013</td>\n",
       "      <td>28</td>\n",
       "      <td>10</td>\n",
       "    </tr>\n",
       "    <tr>\n",
       "      <th>2</th>\n",
       "      <td>24.0</td>\n",
       "      <td>05/09/2012</td>\n",
       "      <td>DANGEROUS WEAPONS</td>\n",
       "      <td>MISDEMEANOR</td>\n",
       "      <td>MANHATTAN</td>\n",
       "      <td>NaN</td>\n",
       "      <td>STREET</td>\n",
       "      <td>N.Y. POLICE DEPT</td>\n",
       "      <td>NaN</td>\n",
       "      <td>NaN</td>\n",
       "      <td>NaN</td>\n",
       "      <td>40.800966</td>\n",
       "      <td>-73.969047</td>\n",
       "      <td>NaN</td>\n",
       "      <td>UNKNOWN</td>\n",
       "      <td>E</td>\n",
       "      <td>2012</td>\n",
       "      <td>9</td>\n",
       "      <td>5</td>\n",
       "    </tr>\n",
       "    <tr>\n",
       "      <th>3</th>\n",
       "      <td>108.0</td>\n",
       "      <td>01/03/2014</td>\n",
       "      <td>GRAND LARCENY</td>\n",
       "      <td>FELONY</td>\n",
       "      <td>QUEENS</td>\n",
       "      <td>INSIDE</td>\n",
       "      <td>RESIDENCE - APT. HOUSE</td>\n",
       "      <td>N.Y. POLICE DEPT</td>\n",
       "      <td>NaN</td>\n",
       "      <td>UNKNOWN</td>\n",
       "      <td>M</td>\n",
       "      <td>40.745242</td>\n",
       "      <td>-73.894253</td>\n",
       "      <td>45-64</td>\n",
       "      <td>ASIAN / PACIFIC ISLANDER</td>\n",
       "      <td>M</td>\n",
       "      <td>2014</td>\n",
       "      <td>3</td>\n",
       "      <td>1</td>\n",
       "    </tr>\n",
       "    <tr>\n",
       "      <th>4</th>\n",
       "      <td>40.0</td>\n",
       "      <td>04/13/2016</td>\n",
       "      <td>CRIMINAL MISCHIEF &amp; RELATED OF</td>\n",
       "      <td>MISDEMEANOR</td>\n",
       "      <td>BRONX</td>\n",
       "      <td>NaN</td>\n",
       "      <td>HIGHWAY/PARKWAY</td>\n",
       "      <td>N.Y. POLICE DEPT</td>\n",
       "      <td>NaN</td>\n",
       "      <td>NaN</td>\n",
       "      <td>NaN</td>\n",
       "      <td>40.810352</td>\n",
       "      <td>-73.924942</td>\n",
       "      <td>UNKNOWN</td>\n",
       "      <td>UNKNOWN</td>\n",
       "      <td>E</td>\n",
       "      <td>2016</td>\n",
       "      <td>13</td>\n",
       "      <td>4</td>\n",
       "    </tr>\n",
       "  </tbody>\n",
       "</table>\n",
       "</div>"
      ],
      "text/plain": [
       "   ADDR_PCT_CD      RPT_DT                       OFNS_DESC   LAW_CAT_CD  \\\n",
       "0         46.0  06/01/2015                   HARRASSMENT 2    VIOLATION   \n",
       "1        120.0  10/28/2013  CRIMINAL MISCHIEF & RELATED OF  MISDEMEANOR   \n",
       "2         24.0  05/09/2012               DANGEROUS WEAPONS  MISDEMEANOR   \n",
       "3        108.0  01/03/2014                   GRAND LARCENY       FELONY   \n",
       "4         40.0  04/13/2016  CRIMINAL MISCHIEF & RELATED OF  MISDEMEANOR   \n",
       "\n",
       "         BORO_NM LOC_OF_OCCUR_DESC           PREM_TYP_DESC        JURIS_DESC  \\\n",
       "0          BRONX            INSIDE  RESIDENCE - APT. HOUSE  N.Y. POLICE DEPT   \n",
       "1  STATEN ISLAND            INSIDE  RESIDENCE - APT. HOUSE  N.Y. POLICE DEPT   \n",
       "2      MANHATTAN               NaN                  STREET  N.Y. POLICE DEPT   \n",
       "3         QUEENS            INSIDE  RESIDENCE - APT. HOUSE  N.Y. POLICE DEPT   \n",
       "4          BRONX               NaN         HIGHWAY/PARKWAY  N.Y. POLICE DEPT   \n",
       "\n",
       "  SUSP_AGE_GROUP SUSP_RACE SUSP_SEX   Latitude  Longitude VIC_AGE_GROUP  \\\n",
       "0          25-44     BLACK        M  40.845868 -73.915888         25-44   \n",
       "1            NaN       NaN      NaN  40.627061 -74.077149         45-64   \n",
       "2            NaN       NaN      NaN  40.800966 -73.969047           NaN   \n",
       "3            NaN   UNKNOWN        M  40.745242 -73.894253         45-64   \n",
       "4            NaN       NaN      NaN  40.810352 -73.924942       UNKNOWN   \n",
       "\n",
       "                   VIC_RACE VIC_SEX  year  day  month  \n",
       "0            WHITE HISPANIC       F  2015    1      6  \n",
       "1                     WHITE       M  2013   28     10  \n",
       "2                   UNKNOWN       E  2012    9      5  \n",
       "3  ASIAN / PACIFIC ISLANDER       M  2014    3      1  \n",
       "4                   UNKNOWN       E  2016   13      4  "
      ]
     },
     "execution_count": 54,
     "metadata": {},
     "output_type": "execute_result"
    }
   ],
   "source": [
    "new_data.head()"
   ]
  },
  {
   "cell_type": "code",
   "execution_count": 60,
   "metadata": {
    "scrolled": false
   },
   "outputs": [
    {
     "data": {
      "text/plain": [
       "<matplotlib.axes._subplots.AxesSubplot at 0x7fe6c0f2db38>"
      ]
     },
     "execution_count": 60,
     "metadata": {},
     "output_type": "execute_result"
    },
    {
     "data": {
      "image/png": "[encoded data removed]",
      "text/plain": [
       "<Figure size 1800x1080 with 1 Axes>"
      ]
     },
     "metadata": {
      "needs_background": "light"
     },
     "output_type": "display_data"
    }
   ],
   "source": [
    "import seaborn as sns\n",
    "\n",
    "f, ax = plt.subplots(figsize=(25, 15))\n",
    "sns.countplot(y=\"day\", data=new_data, palette=\"pastel\")"
   ]
  },
  {
   "cell_type": "code",
   "execution_count": 62,
   "metadata": {
    "scrolled": true
   },
   "outputs": [
    {
     "data": {
      "text/plain": [
       "<matplotlib.axes._subplots.AxesSubplot at 0x7fe6bfc77e10>"
      ]
     },
     "execution_count": 62,
     "metadata": {},
     "output_type": "execute_result"
    },
    {
     "data": {
      "image/png": "[encoded data removed]",
      "text/plain": [
       "<Figure size 432x288 with 1 Axes>"
      ]
     },
     "metadata": {
      "needs_background": "light"
     },
     "output_type": "display_data"
    }
   ],
   "source": [
    "sns.countplot(x=\"month\", data=new_data)"
   ]
  },
  {
   "cell_type": "code",
   "execution_count": 83,
   "metadata": {
    "scrolled": true
   },
   "outputs": [
    {
     "data": {
      "text/plain": [
       "<seaborn.axisgrid.FacetGrid at 0x7fe7f41b8d30>"
      ]
     },
     "execution_count": 83,
     "metadata": {},
     "output_type": "execute_result"
    },
    {
     "data": {
      "image/png": "[encoded data removed]",
      "text/plain": [
       "<Figure size 720x720 with 1 Axes>"
      ]
     },
     "metadata": {
      "needs_background": "light"
     },
     "output_type": "display_data"
    }
   ],
   "source": [
    "sns.catplot(x=\"year\", data=new_data,kind=\"count\", palette=\"pastel\", height=10, aspect=1)"
   ]
  },
  {
   "cell_type": "code",
   "execution_count": 64,
   "metadata": {},
   "outputs": [],
   "source": [
    "new_data[['SUSP_RACE']] = new_data[['SUSP_RACE']].fillna(value=\"UNKNOWN\")"
   ]
  },
  {
   "cell_type": "code",
   "execution_count": 72,
   "metadata": {
    "scrolled": true
   },
   "outputs": [
    {
     "data": {
      "text/plain": [
       "<seaborn.axisgrid.FacetGrid at 0x7fe7ae7df358>"
      ]
     },
     "execution_count": 72,
     "metadata": {},
     "output_type": "execute_result"
    },
    {
     "data": {
      "image/png": "[encoded data removed]",
      "text/plain": [
       "<Figure size 1620x1080 with 1 Axes>"
      ]
     },
     "metadata": {
      "needs_background": "light"
     },
     "output_type": "display_data"
    }
   ],
   "source": [
    "sns.catplot(x=\"SUSP_RACE\", data=new_data,kind=\"count\", palette=\"pastel\", height=15, aspect=1.5)"
   ]
  },
  {
   "cell_type": "code",
   "execution_count": 73,
   "metadata": {
    "scrolled": true
   },
   "outputs": [
    {
     "data": {
      "text/plain": [
       "<seaborn.axisgrid.FacetGrid at 0x7fe6a1752ef0>"
      ]
     },
     "execution_count": 73,
     "metadata": {},
     "output_type": "execute_result"
    },
    {
     "data": {
      "image/png": "[encoded data removed]",
      "text/plain": [
       "<Figure size 1620x1080 with 1 Axes>"
      ]
     },
     "metadata": {
      "needs_background": "light"
     },
     "output_type": "display_data"
    }
   ],
   "source": [
    "new_data[['VIC_RACE']] = new_data[['VIC_RACE']].fillna(value=\"UNKNOWN\")\n",
    "sns.catplot(x=\"VIC_RACE\", data=new_data,kind=\"count\", palette=\"pastel\", height=15, aspect=1.5)"
   ]
  },
  {
   "cell_type": "code",
   "execution_count": 88,
   "metadata": {
    "scrolled": true
   },
   "outputs": [
    {
     "data": {
      "text/plain": [
       "<seaborn.axisgrid.FacetGrid at 0x7fe6c4653d30>"
      ]
     },
     "execution_count": 88,
     "metadata": {},
     "output_type": "execute_result"
    },
    {
     "data": {
      "image/png": "[encoded data removed]",
      "text/plain": [
       "<Figure size 360x360 with 1 Axes>"
      ]
     },
     "metadata": {
      "needs_background": "light"
     },
     "output_type": "display_data"
    }
   ],
   "source": [
    "new_data = new_data[new_data['LAW_CAT_CD'].notna()]\n",
    "sns.catplot(x=\"LAW_CAT_CD\", data=new_data,kind=\"count\", palette=\"pastel\")  "
   ]
  },
  {
   "cell_type": "code",
   "execution_count": 98,
   "metadata": {},
   "outputs": [
    {
     "data": {
      "text/plain": [
       "MISDEMEANOR    2791\n",
       "FELONY          144\n",
       "VIOLATION         4\n",
       "Name: LAW_CAT_CD, dtype: int64"
      ]
     },
     "execution_count": 98,
     "metadata": {},
     "output_type": "execute_result"
    }
   ],
   "source": [
    "new_data.loc[new_data['OFNS_DESC'].isna(), 'LAW_CAT_CD'].value_counts()\n"
   ]
  },
  {
   "cell_type": "code",
   "execution_count": null,
   "metadata": {},
   "outputs": [],
   "source": []
  }
 ],
 "metadata": {
  "kernelspec": {
   "display_name": "Python 3",
   "language": "python",
   "name": "python3"
  },
  "language_info": {
   "codemirror_mode": {
    "name": "ipython",
    "version": 3
   },
   "file_extension": ".py",
   "mimetype": "text/x-python",
   "name": "python",
   "nbconvert_exporter": "python",
   "pygments_lexer": "ipython3",
   "version": "3.5.2"
  }
 },
 "nbformat": 4,
 "nbformat_minor": 2
}
