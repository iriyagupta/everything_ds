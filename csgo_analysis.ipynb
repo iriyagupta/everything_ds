{
 "cells": [
  {
   "cell_type": "markdown",
   "metadata": {
    "id": "4nHSeYSEQclq"
   },
   "source": [
    "# Homework 2: Trees and Calibration\n",
    "\n",
    "\n",
    "## Instructions\n",
    "\n",
    "Please push the .ipynb, .py, and .pdf to Github Classroom prior to the deadline. Please include your UNI as well.\n",
    "\n",
    "**Make sure to use the dataset that we provide in CourseWorks/Classroom. DO NOT download it from the link provided (It may be different).**\n",
    "\n",
    "Due Date : 03/02 (2nd March), 11:59 PM EST"
   ]
  },
  {
   "cell_type": "markdown",
   "metadata": {
    "id": "YnGgRAIRwMlI"
   },
   "source": [
    "## Name: Riya Gupta\n",
    "\n",
    "## UNI: rg3332"
   ]
  },
  {
   "cell_type": "markdown",
   "metadata": {
    "id": "bbOG2REfo0bh"
   },
   "source": [
    "## The Dataset\n",
    "Credit ([Link](https://www.kaggle.com/gamersclub/brazilian-csgo-plataform-dataset-by-gamers-club?select=tb_lobby_stats_player.csv) | [License](https://creativecommons.org/licenses/by-nc-sa/4.0/))\n",
    "\n",
    "The goal is to predict wins based on in match performace of multiple players. Please use this dataset and this task for all parts of the assignment.\n",
    "\n",
    "### Features\n",
    "\n",
    "idLobbyGame - Categorical (The Lobby ID for the game)\n",
    "\n",
    "idPlayer - Categorical (The ID of the player)\n",
    "\n",
    "idRooom - Categorical (The ID of the room)\n",
    "\n",
    "qtKill - Numerical (Number of kills)\n",
    "\n",
    "qtAssist - Numerical (Number of Assists)\n",
    "\n",
    "qtDeath - Numerical (Number of Deaths)\n",
    "\n",
    "qtHs - Numerical (Number of kills by head shot)\n",
    "\n",
    "qtBombeDefuse - Numerical (Number of Bombs Defuses)\n",
    "\n",
    "qtBombePlant - Numerical (Number of Bomb plants)\n",
    "\n",
    "qtTk - Numerical (Number of Team kills)\n",
    "\n",
    "qtTkAssist - Numerical Number of team kills assists)\n",
    "\n",
    "qt1Kill - Numerical (Number of rounds with one kill)\n",
    "\n",
    "qt2Kill - Numerical (Number of rounds with two kill)\n",
    "\n",
    "qt3Kill - Numerical (Number of rounds with three kill)\n",
    "\n",
    "qt4Kill - Numerical (Number of rounds with four kill)\n",
    "\n",
    "qt5Kill - Numerical (Number of rounds with five kill)\n",
    "\n",
    "qtPlusKill - Numerical (Number of rounds with more than one kill)\n",
    "\n",
    "qtFirstKill - Numerical (Number of rounds with first kill)\n",
    "\n",
    "vlDamage - Numerical (Total match Damage)\n",
    "\n",
    "qtHits - Numerical (Total match hits)\n",
    "\n",
    "qtShots - Numerical (Total match shots)\n",
    "\n",
    "qtLastAlive - Numerical (Number of rounds being last alive)\n",
    "\n",
    "qtClutchWon - Numerical (Number of total clutchs wons)\n",
    "\n",
    "qtRoundsPlayed - Numerical (Number of total Rounds Played)\n",
    "\n",
    "descMapName - Categorical (Map Name - de_mirage, de_inferno, de_dust2, de_vertigo, de_overpass, de_nuke, de_train, de_ancient)\n",
    "\n",
    "vlLevel - Numerical (GC Level)\n",
    "\n",
    "qtSurvived - Numerical (Number of rounds survived)\n",
    "\n",
    "qtTrade - Numerical (Number of trade kills)\n",
    "\n",
    "qtFlashAssist - Numerical (Number of flashbang assists)\n",
    "\n",
    "qtHitHeadshot - Numerical (Number of times the player hit headshot\n",
    "\n",
    "qtHitChest - Numerical (Number of times the player hit chest)\n",
    "\n",
    "qtHitStomach - Numerical (Number of times the player hit stomach)\n",
    "\n",
    "qtHitLeftAtm - Numerical (Number of times the player hit left arm)\n",
    "\n",
    "qtHitRightArm - Numerical (Number of times the player hit right arm)\n",
    "\n",
    "qtHitLeftLeg - Numerical (Number of times the player hit left leg)\n",
    "\n",
    "qtHitRightLeg - Numerical (Number of times the player hit right leg)\n",
    "\n",
    "flWinner - Winner Flag (**Target Variable**).\n",
    "\n",
    "dtCreatedAt - Date at which this current row was added. (Date)\n"
   ]
  },
  {
   "cell_type": "markdown",
   "metadata": {
    "id": "gFh2_utPbAK7"
   },
   "source": [
    "## Question 1: Decision Trees"
   ]
  },
  {
   "cell_type": "markdown",
   "metadata": {
    "id": "SCEJZC5bFjin"
   },
   "source": [
    "**1.1: Load the provided dataset**"
   ]
  },
  {
   "cell_type": "markdown",
   "metadata": {},
   "source": [
    "*import important modules*"
   ]
  },
  {
   "cell_type": "code",
   "execution_count": 1,
   "metadata": {
    "id": "t7_jJvfqk5Qx"
   },
   "outputs": [],
   "source": [
    "import numpy as np\n",
    "import pandas as pd\n",
    "import matplotlib.pyplot as plt\n",
    "import sklearn as sk\n",
    "import os, re, sys\n",
    "import random\n",
    "import seaborn as sns"
   ]
  },
  {
   "cell_type": "code",
   "execution_count": 2,
   "metadata": {},
   "outputs": [
    {
     "data": {
      "text/html": [
       "<div>\n",
       "<style scoped>\n",
       "    .dataframe tbody tr th:only-of-type {\n",
       "        vertical-align: middle;\n",
       "    }\n",
       "\n",
       "    .dataframe tbody tr th {\n",
       "        vertical-align: top;\n",
       "    }\n",
       "\n",
       "    .dataframe thead th {\n",
       "        text-align: right;\n",
       "    }\n",
       "</style>\n",
       "<table border=\"1\" class=\"dataframe\">\n",
       "  <thead>\n",
       "    <tr style=\"text-align: right;\">\n",
       "      <th></th>\n",
       "      <th>idLobbyGame</th>\n",
       "      <th>idPlayer</th>\n",
       "      <th>idRoom</th>\n",
       "      <th>qtKill</th>\n",
       "      <th>qtAssist</th>\n",
       "      <th>qtDeath</th>\n",
       "      <th>qtHs</th>\n",
       "      <th>qtBombeDefuse</th>\n",
       "      <th>qtBombePlant</th>\n",
       "      <th>qtTk</th>\n",
       "      <th>...</th>\n",
       "      <th>qtFlashAssist</th>\n",
       "      <th>qtHitHeadshot</th>\n",
       "      <th>qtHitChest</th>\n",
       "      <th>qtHitStomach</th>\n",
       "      <th>qtHitLeftAtm</th>\n",
       "      <th>qtHitRightArm</th>\n",
       "      <th>qtHitLeftLeg</th>\n",
       "      <th>qtHitRightLeg</th>\n",
       "      <th>flWinner</th>\n",
       "      <th>dtCreatedAt</th>\n",
       "    </tr>\n",
       "  </thead>\n",
       "  <tbody>\n",
       "    <tr>\n",
       "      <th>0</th>\n",
       "      <td>1</td>\n",
       "      <td>1</td>\n",
       "      <td>1</td>\n",
       "      <td>5</td>\n",
       "      <td>1</td>\n",
       "      <td>16</td>\n",
       "      <td>2</td>\n",
       "      <td>0</td>\n",
       "      <td>0</td>\n",
       "      <td>0.0</td>\n",
       "      <td>...</td>\n",
       "      <td>0.0</td>\n",
       "      <td>3.0</td>\n",
       "      <td>13.0</td>\n",
       "      <td>4.0</td>\n",
       "      <td>2.0</td>\n",
       "      <td>2.0</td>\n",
       "      <td>1.0</td>\n",
       "      <td>0.0</td>\n",
       "      <td>0</td>\n",
       "      <td>2022-01-21 19:45:44</td>\n",
       "    </tr>\n",
       "    <tr>\n",
       "      <th>1</th>\n",
       "      <td>2</td>\n",
       "      <td>1</td>\n",
       "      <td>2</td>\n",
       "      <td>24</td>\n",
       "      <td>3</td>\n",
       "      <td>18</td>\n",
       "      <td>6</td>\n",
       "      <td>0</td>\n",
       "      <td>4</td>\n",
       "      <td>0.0</td>\n",
       "      <td>...</td>\n",
       "      <td>0.0</td>\n",
       "      <td>7.0</td>\n",
       "      <td>26.0</td>\n",
       "      <td>14.0</td>\n",
       "      <td>2.0</td>\n",
       "      <td>1.0</td>\n",
       "      <td>1.0</td>\n",
       "      <td>3.0</td>\n",
       "      <td>1</td>\n",
       "      <td>2022-02-04 02:09:47</td>\n",
       "    </tr>\n",
       "    <tr>\n",
       "      <th>2</th>\n",
       "      <td>3</td>\n",
       "      <td>2</td>\n",
       "      <td>3</td>\n",
       "      <td>6</td>\n",
       "      <td>4</td>\n",
       "      <td>23</td>\n",
       "      <td>2</td>\n",
       "      <td>0</td>\n",
       "      <td>1</td>\n",
       "      <td>0.0</td>\n",
       "      <td>...</td>\n",
       "      <td>0.0</td>\n",
       "      <td>3.0</td>\n",
       "      <td>15.0</td>\n",
       "      <td>8.0</td>\n",
       "      <td>1.0</td>\n",
       "      <td>2.0</td>\n",
       "      <td>0.0</td>\n",
       "      <td>2.0</td>\n",
       "      <td>0</td>\n",
       "      <td>2021-09-18 18:07:43</td>\n",
       "    </tr>\n",
       "    <tr>\n",
       "      <th>3</th>\n",
       "      <td>3</td>\n",
       "      <td>391</td>\n",
       "      <td>27508</td>\n",
       "      <td>10</td>\n",
       "      <td>5</td>\n",
       "      <td>20</td>\n",
       "      <td>4</td>\n",
       "      <td>1</td>\n",
       "      <td>0</td>\n",
       "      <td>0.0</td>\n",
       "      <td>...</td>\n",
       "      <td>0.0</td>\n",
       "      <td>6.0</td>\n",
       "      <td>27.0</td>\n",
       "      <td>10.0</td>\n",
       "      <td>1.0</td>\n",
       "      <td>7.0</td>\n",
       "      <td>6.0</td>\n",
       "      <td>6.0</td>\n",
       "      <td>1</td>\n",
       "      <td>2021-09-18 18:07:43</td>\n",
       "    </tr>\n",
       "    <tr>\n",
       "      <th>4</th>\n",
       "      <td>4</td>\n",
       "      <td>2</td>\n",
       "      <td>4</td>\n",
       "      <td>8</td>\n",
       "      <td>4</td>\n",
       "      <td>26</td>\n",
       "      <td>6</td>\n",
       "      <td>0</td>\n",
       "      <td>2</td>\n",
       "      <td>0.0</td>\n",
       "      <td>...</td>\n",
       "      <td>2.0</td>\n",
       "      <td>8.0</td>\n",
       "      <td>19.0</td>\n",
       "      <td>12.0</td>\n",
       "      <td>2.0</td>\n",
       "      <td>3.0</td>\n",
       "      <td>2.0</td>\n",
       "      <td>5.0</td>\n",
       "      <td>0</td>\n",
       "      <td>2021-09-27 00:17:45</td>\n",
       "    </tr>\n",
       "  </tbody>\n",
       "</table>\n",
       "<p>5 rows × 38 columns</p>\n",
       "</div>"
      ],
      "text/plain": [
       "   idLobbyGame  idPlayer  idRoom  qtKill  qtAssist  qtDeath  qtHs  \\\n",
       "0            1         1       1       5         1       16     2   \n",
       "1            2         1       2      24         3       18     6   \n",
       "2            3         2       3       6         4       23     2   \n",
       "3            3       391   27508      10         5       20     4   \n",
       "4            4         2       4       8         4       26     6   \n",
       "\n",
       "   qtBombeDefuse  qtBombePlant  qtTk  ...  qtFlashAssist  qtHitHeadshot  \\\n",
       "0              0             0   0.0  ...            0.0            3.0   \n",
       "1              0             4   0.0  ...            0.0            7.0   \n",
       "2              0             1   0.0  ...            0.0            3.0   \n",
       "3              1             0   0.0  ...            0.0            6.0   \n",
       "4              0             2   0.0  ...            2.0            8.0   \n",
       "\n",
       "   qtHitChest  qtHitStomach  qtHitLeftAtm  qtHitRightArm  qtHitLeftLeg  \\\n",
       "0        13.0           4.0           2.0            2.0           1.0   \n",
       "1        26.0          14.0           2.0            1.0           1.0   \n",
       "2        15.0           8.0           1.0            2.0           0.0   \n",
       "3        27.0          10.0           1.0            7.0           6.0   \n",
       "4        19.0          12.0           2.0            3.0           2.0   \n",
       "\n",
       "   qtHitRightLeg  flWinner          dtCreatedAt  \n",
       "0            0.0         0  2022-01-21 19:45:44  \n",
       "1            3.0         1  2022-02-04 02:09:47  \n",
       "2            2.0         0  2021-09-18 18:07:43  \n",
       "3            6.0         1  2021-09-18 18:07:43  \n",
       "4            5.0         0  2021-09-27 00:17:45  \n",
       "\n",
       "[5 rows x 38 columns]"
      ]
     },
     "execution_count": 2,
     "metadata": {},
     "output_type": "execute_result"
    }
   ],
   "source": [
    "df = pd.read_csv(\"tb_lobby_stats_player.csv\")  ##load the dataset and view it\n",
    "df.head()"
   ]
  },
  {
   "cell_type": "code",
   "execution_count": 3,
   "metadata": {},
   "outputs": [
    {
     "data": {
      "text/html": [
       "<div>\n",
       "<style scoped>\n",
       "    .dataframe tbody tr th:only-of-type {\n",
       "        vertical-align: middle;\n",
       "    }\n",
       "\n",
       "    .dataframe tbody tr th {\n",
       "        vertical-align: top;\n",
       "    }\n",
       "\n",
       "    .dataframe thead th {\n",
       "        text-align: right;\n",
       "    }\n",
       "</style>\n",
       "<table border=\"1\" class=\"dataframe\">\n",
       "  <thead>\n",
       "    <tr style=\"text-align: right;\">\n",
       "      <th></th>\n",
       "      <th>idLobbyGame</th>\n",
       "      <th>idPlayer</th>\n",
       "      <th>idRoom</th>\n",
       "      <th>qtKill</th>\n",
       "      <th>qtAssist</th>\n",
       "      <th>qtDeath</th>\n",
       "      <th>qtHs</th>\n",
       "      <th>qtBombeDefuse</th>\n",
       "      <th>qtBombePlant</th>\n",
       "      <th>qtTk</th>\n",
       "      <th>...</th>\n",
       "      <th>qtTrade</th>\n",
       "      <th>qtFlashAssist</th>\n",
       "      <th>qtHitHeadshot</th>\n",
       "      <th>qtHitChest</th>\n",
       "      <th>qtHitStomach</th>\n",
       "      <th>qtHitLeftAtm</th>\n",
       "      <th>qtHitRightArm</th>\n",
       "      <th>qtHitLeftLeg</th>\n",
       "      <th>qtHitRightLeg</th>\n",
       "      <th>flWinner</th>\n",
       "    </tr>\n",
       "  </thead>\n",
       "  <tbody>\n",
       "    <tr>\n",
       "      <th>count</th>\n",
       "      <td>184152.000000</td>\n",
       "      <td>184152.000000</td>\n",
       "      <td>184152.000000</td>\n",
       "      <td>184152.000000</td>\n",
       "      <td>184152.000000</td>\n",
       "      <td>184152.000000</td>\n",
       "      <td>184152.000000</td>\n",
       "      <td>184152.000000</td>\n",
       "      <td>184152.000000</td>\n",
       "      <td>184032.000000</td>\n",
       "      <td>...</td>\n",
       "      <td>183447.000000</td>\n",
       "      <td>183447.000000</td>\n",
       "      <td>183447.000000</td>\n",
       "      <td>183447.000000</td>\n",
       "      <td>183447.000000</td>\n",
       "      <td>183447.000000</td>\n",
       "      <td>183447.000000</td>\n",
       "      <td>183447.000000</td>\n",
       "      <td>183447.000000</td>\n",
       "      <td>184152.000000</td>\n",
       "    </tr>\n",
       "    <tr>\n",
       "      <th>mean</th>\n",
       "      <td>84720.886854</td>\n",
       "      <td>1361.148622</td>\n",
       "      <td>88343.226248</td>\n",
       "      <td>19.113531</td>\n",
       "      <td>3.756033</td>\n",
       "      <td>18.792459</td>\n",
       "      <td>7.640123</td>\n",
       "      <td>0.316054</td>\n",
       "      <td>1.321349</td>\n",
       "      <td>0.022463</td>\n",
       "      <td>...</td>\n",
       "      <td>3.095254</td>\n",
       "      <td>0.570012</td>\n",
       "      <td>9.642889</td>\n",
       "      <td>29.305194</td>\n",
       "      <td>13.525509</td>\n",
       "      <td>1.902511</td>\n",
       "      <td>5.106091</td>\n",
       "      <td>2.265641</td>\n",
       "      <td>2.496509</td>\n",
       "      <td>0.493766</td>\n",
       "    </tr>\n",
       "    <tr>\n",
       "      <th>std</th>\n",
       "      <td>49931.048091</td>\n",
       "      <td>784.157397</td>\n",
       "      <td>51564.451107</td>\n",
       "      <td>7.481041</td>\n",
       "      <td>2.205265</td>\n",
       "      <td>5.211614</td>\n",
       "      <td>4.042324</td>\n",
       "      <td>0.575803</td>\n",
       "      <td>1.336699</td>\n",
       "      <td>0.156566</td>\n",
       "      <td>...</td>\n",
       "      <td>1.885027</td>\n",
       "      <td>0.906774</td>\n",
       "      <td>4.769723</td>\n",
       "      <td>11.657993</td>\n",
       "      <td>7.102067</td>\n",
       "      <td>1.650325</td>\n",
       "      <td>2.924184</td>\n",
       "      <td>2.062294</td>\n",
       "      <td>2.162557</td>\n",
       "      <td>0.499962</td>\n",
       "    </tr>\n",
       "    <tr>\n",
       "      <th>min</th>\n",
       "      <td>1.000000</td>\n",
       "      <td>1.000000</td>\n",
       "      <td>1.000000</td>\n",
       "      <td>0.000000</td>\n",
       "      <td>0.000000</td>\n",
       "      <td>0.000000</td>\n",
       "      <td>0.000000</td>\n",
       "      <td>0.000000</td>\n",
       "      <td>0.000000</td>\n",
       "      <td>0.000000</td>\n",
       "      <td>...</td>\n",
       "      <td>0.000000</td>\n",
       "      <td>0.000000</td>\n",
       "      <td>0.000000</td>\n",
       "      <td>0.000000</td>\n",
       "      <td>0.000000</td>\n",
       "      <td>0.000000</td>\n",
       "      <td>0.000000</td>\n",
       "      <td>0.000000</td>\n",
       "      <td>0.000000</td>\n",
       "      <td>0.000000</td>\n",
       "    </tr>\n",
       "    <tr>\n",
       "      <th>25%</th>\n",
       "      <td>41399.750000</td>\n",
       "      <td>676.000000</td>\n",
       "      <td>43742.750000</td>\n",
       "      <td>14.000000</td>\n",
       "      <td>2.000000</td>\n",
       "      <td>16.000000</td>\n",
       "      <td>5.000000</td>\n",
       "      <td>0.000000</td>\n",
       "      <td>0.000000</td>\n",
       "      <td>0.000000</td>\n",
       "      <td>...</td>\n",
       "      <td>2.000000</td>\n",
       "      <td>0.000000</td>\n",
       "      <td>6.000000</td>\n",
       "      <td>21.000000</td>\n",
       "      <td>8.000000</td>\n",
       "      <td>1.000000</td>\n",
       "      <td>3.000000</td>\n",
       "      <td>1.000000</td>\n",
       "      <td>1.000000</td>\n",
       "      <td>0.000000</td>\n",
       "    </tr>\n",
       "    <tr>\n",
       "      <th>50%</th>\n",
       "      <td>83838.500000</td>\n",
       "      <td>1388.000000</td>\n",
       "      <td>87877.500000</td>\n",
       "      <td>19.000000</td>\n",
       "      <td>4.000000</td>\n",
       "      <td>19.000000</td>\n",
       "      <td>7.000000</td>\n",
       "      <td>0.000000</td>\n",
       "      <td>1.000000</td>\n",
       "      <td>0.000000</td>\n",
       "      <td>...</td>\n",
       "      <td>3.000000</td>\n",
       "      <td>0.000000</td>\n",
       "      <td>9.000000</td>\n",
       "      <td>28.000000</td>\n",
       "      <td>13.000000</td>\n",
       "      <td>2.000000</td>\n",
       "      <td>5.000000</td>\n",
       "      <td>2.000000</td>\n",
       "      <td>2.000000</td>\n",
       "      <td>0.000000</td>\n",
       "    </tr>\n",
       "    <tr>\n",
       "      <th>75%</th>\n",
       "      <td>127911.250000</td>\n",
       "      <td>2061.000000</td>\n",
       "      <td>133000.250000</td>\n",
       "      <td>24.000000</td>\n",
       "      <td>5.000000</td>\n",
       "      <td>22.000000</td>\n",
       "      <td>10.000000</td>\n",
       "      <td>1.000000</td>\n",
       "      <td>2.000000</td>\n",
       "      <td>0.000000</td>\n",
       "      <td>...</td>\n",
       "      <td>4.000000</td>\n",
       "      <td>1.000000</td>\n",
       "      <td>12.000000</td>\n",
       "      <td>36.000000</td>\n",
       "      <td>18.000000</td>\n",
       "      <td>3.000000</td>\n",
       "      <td>7.000000</td>\n",
       "      <td>3.000000</td>\n",
       "      <td>4.000000</td>\n",
       "      <td>1.000000</td>\n",
       "    </tr>\n",
       "    <tr>\n",
       "      <th>max</th>\n",
       "      <td>172911.000000</td>\n",
       "      <td>2716.000000</td>\n",
       "      <td>178500.000000</td>\n",
       "      <td>85.000000</td>\n",
       "      <td>24.000000</td>\n",
       "      <td>65.000000</td>\n",
       "      <td>41.000000</td>\n",
       "      <td>5.000000</td>\n",
       "      <td>12.000000</td>\n",
       "      <td>12.000000</td>\n",
       "      <td>...</td>\n",
       "      <td>20.000000</td>\n",
       "      <td>14.000000</td>\n",
       "      <td>49.000000</td>\n",
       "      <td>122.000000</td>\n",
       "      <td>77.000000</td>\n",
       "      <td>17.000000</td>\n",
       "      <td>30.000000</td>\n",
       "      <td>21.000000</td>\n",
       "      <td>22.000000</td>\n",
       "      <td>1.000000</td>\n",
       "    </tr>\n",
       "  </tbody>\n",
       "</table>\n",
       "<p>8 rows × 36 columns</p>\n",
       "</div>"
      ],
      "text/plain": [
       "         idLobbyGame       idPlayer         idRoom         qtKill  \\\n",
       "count  184152.000000  184152.000000  184152.000000  184152.000000   \n",
       "mean    84720.886854    1361.148622   88343.226248      19.113531   \n",
       "std     49931.048091     784.157397   51564.451107       7.481041   \n",
       "min         1.000000       1.000000       1.000000       0.000000   \n",
       "25%     41399.750000     676.000000   43742.750000      14.000000   \n",
       "50%     83838.500000    1388.000000   87877.500000      19.000000   \n",
       "75%    127911.250000    2061.000000  133000.250000      24.000000   \n",
       "max    172911.000000    2716.000000  178500.000000      85.000000   \n",
       "\n",
       "            qtAssist        qtDeath           qtHs  qtBombeDefuse  \\\n",
       "count  184152.000000  184152.000000  184152.000000  184152.000000   \n",
       "mean        3.756033      18.792459       7.640123       0.316054   \n",
       "std         2.205265       5.211614       4.042324       0.575803   \n",
       "min         0.000000       0.000000       0.000000       0.000000   \n",
       "25%         2.000000      16.000000       5.000000       0.000000   \n",
       "50%         4.000000      19.000000       7.000000       0.000000   \n",
       "75%         5.000000      22.000000      10.000000       1.000000   \n",
       "max        24.000000      65.000000      41.000000       5.000000   \n",
       "\n",
       "        qtBombePlant           qtTk  ...        qtTrade  qtFlashAssist  \\\n",
       "count  184152.000000  184032.000000  ...  183447.000000  183447.000000   \n",
       "mean        1.321349       0.022463  ...       3.095254       0.570012   \n",
       "std         1.336699       0.156566  ...       1.885027       0.906774   \n",
       "min         0.000000       0.000000  ...       0.000000       0.000000   \n",
       "25%         0.000000       0.000000  ...       2.000000       0.000000   \n",
       "50%         1.000000       0.000000  ...       3.000000       0.000000   \n",
       "75%         2.000000       0.000000  ...       4.000000       1.000000   \n",
       "max        12.000000      12.000000  ...      20.000000      14.000000   \n",
       "\n",
       "       qtHitHeadshot     qtHitChest   qtHitStomach   qtHitLeftAtm  \\\n",
       "count  183447.000000  183447.000000  183447.000000  183447.000000   \n",
       "mean        9.642889      29.305194      13.525509       1.902511   \n",
       "std         4.769723      11.657993       7.102067       1.650325   \n",
       "min         0.000000       0.000000       0.000000       0.000000   \n",
       "25%         6.000000      21.000000       8.000000       1.000000   \n",
       "50%         9.000000      28.000000      13.000000       2.000000   \n",
       "75%        12.000000      36.000000      18.000000       3.000000   \n",
       "max        49.000000     122.000000      77.000000      17.000000   \n",
       "\n",
       "       qtHitRightArm   qtHitLeftLeg  qtHitRightLeg       flWinner  \n",
       "count  183447.000000  183447.000000  183447.000000  184152.000000  \n",
       "mean        5.106091       2.265641       2.496509       0.493766  \n",
       "std         2.924184       2.062294       2.162557       0.499962  \n",
       "min         0.000000       0.000000       0.000000       0.000000  \n",
       "25%         3.000000       1.000000       1.000000       0.000000  \n",
       "50%         5.000000       2.000000       2.000000       0.000000  \n",
       "75%         7.000000       3.000000       4.000000       1.000000  \n",
       "max        30.000000      21.000000      22.000000       1.000000  \n",
       "\n",
       "[8 rows x 36 columns]"
      ]
     },
     "execution_count": 3,
     "metadata": {},
     "output_type": "execute_result"
    }
   ],
   "source": [
    "df.describe()"
   ]
  },
  {
   "cell_type": "code",
   "execution_count": 4,
   "metadata": {},
   "outputs": [
    {
     "name": "stdout",
     "output_type": "stream",
     "text": [
      "<class 'pandas.core.frame.DataFrame'>\n",
      "RangeIndex: 184152 entries, 0 to 184151\n",
      "Data columns (total 38 columns):\n",
      " #   Column          Non-Null Count   Dtype  \n",
      "---  ------          --------------   -----  \n",
      " 0   idLobbyGame     184152 non-null  int64  \n",
      " 1   idPlayer        184152 non-null  int64  \n",
      " 2   idRoom          184152 non-null  int64  \n",
      " 3   qtKill          184152 non-null  int64  \n",
      " 4   qtAssist        184152 non-null  int64  \n",
      " 5   qtDeath         184152 non-null  int64  \n",
      " 6   qtHs            184152 non-null  int64  \n",
      " 7   qtBombeDefuse   184152 non-null  int64  \n",
      " 8   qtBombePlant    184152 non-null  int64  \n",
      " 9   qtTk            184032 non-null  float64\n",
      " 10  qtTkAssist      184032 non-null  float64\n",
      " 11  qt1Kill         184152 non-null  int64  \n",
      " 12  qt2Kill         184152 non-null  int64  \n",
      " 13  qt3Kill         184152 non-null  int64  \n",
      " 14  qt4Kill         184152 non-null  int64  \n",
      " 15  qt5Kill         184152 non-null  int64  \n",
      " 16  qtPlusKill      184152 non-null  int64  \n",
      " 17  qtFirstKill     184152 non-null  int64  \n",
      " 18  vlDamage        184152 non-null  int64  \n",
      " 19  qtHits          184032 non-null  float64\n",
      " 20  qtShots         184152 non-null  int64  \n",
      " 21  qtLastAlive     184032 non-null  float64\n",
      " 22  qtClutchWon     184152 non-null  int64  \n",
      " 23  qtRoundsPlayed  184152 non-null  int64  \n",
      " 24  descMapName     184152 non-null  object \n",
      " 25  vlLevel         184152 non-null  int64  \n",
      " 26  qtSurvived      183447 non-null  float64\n",
      " 27  qtTrade         183447 non-null  float64\n",
      " 28  qtFlashAssist   183447 non-null  float64\n",
      " 29  qtHitHeadshot   183447 non-null  float64\n",
      " 30  qtHitChest      183447 non-null  float64\n",
      " 31  qtHitStomach    183447 non-null  float64\n",
      " 32  qtHitLeftAtm    183447 non-null  float64\n",
      " 33  qtHitRightArm   183447 non-null  float64\n",
      " 34  qtHitLeftLeg    183447 non-null  float64\n",
      " 35  qtHitRightLeg   183447 non-null  float64\n",
      " 36  flWinner        184152 non-null  int64  \n",
      " 37  dtCreatedAt     184152 non-null  object \n",
      "dtypes: float64(14), int64(22), object(2)\n",
      "memory usage: 53.4+ MB\n"
     ]
    }
   ],
   "source": [
    "df.info()"
   ]
  },
  {
   "cell_type": "code",
   "execution_count": 5,
   "metadata": {},
   "outputs": [
    {
     "name": "stdout",
     "output_type": "stream",
     "text": [
      "['idLobbyGame', 'idPlayer', 'idRoom', 'qtKill', 'qtAssist', 'qtDeath', 'qtHs', 'qtBombeDefuse', 'qtBombePlant', 'qtTk', 'qtTkAssist', 'qt1Kill', 'qt2Kill', 'qt3Kill', 'qt4Kill', 'qt5Kill', 'qtPlusKill', 'qtFirstKill', 'vlDamage', 'qtHits', 'qtShots', 'qtLastAlive', 'qtClutchWon', 'qtRoundsPlayed', 'descMapName', 'vlLevel', 'qtSurvived', 'qtTrade', 'qtFlashAssist', 'qtHitHeadshot', 'qtHitChest', 'qtHitStomach', 'qtHitLeftAtm', 'qtHitRightArm', 'qtHitLeftLeg', 'qtHitRightLeg', 'flWinner', 'dtCreatedAt']\n"
     ]
    }
   ],
   "source": [
    "cols = df.columns.values.tolist()\n",
    "print(cols)"
   ]
  },
  {
   "cell_type": "markdown",
   "metadata": {
    "id": "C88LB8AAdr6P"
   },
   "source": [
    "**1.2: Plot % of missing values in each column. Would you consider dropping any columns? Assuming we want to train a decision tree, would you consider imputing the missing values? If not, why? (Remove the columns that you consider dropping - you must remove the dtCreatedAt column)**"
   ]
  },
  {
   "cell_type": "markdown",
   "metadata": {},
   "source": [
    "Steps for 1.2 :\n",
    "- Finding out the missing values and percentage of missing values\n",
    "- Answers to the questions asked\n",
    "- Dropping columns"
   ]
  },
  {
   "cell_type": "code",
   "execution_count": 6,
   "metadata": {
    "id": "qsSxhcZnk5vB"
   },
   "outputs": [
    {
     "name": "stdout",
     "output_type": "stream",
     "text": [
      "Are there are any null values : True\n",
      "NaN values features ['qtTk', 'qtTkAssist', 'qtHits', 'qtLastAlive', 'qtSurvived', 'qtTrade', 'qtFlashAssist', 'qtHitHeadshot', 'qtHitChest', 'qtHitStomach', 'qtHitLeftAtm', 'qtHitRightArm', 'qtHitLeftLeg', 'qtHitRightLeg']\n",
      "Categorical: ['descMapName', 'dtCreatedAt']\n",
      "Numerical: ['idLobbyGame', 'idPlayer', 'idRoom', 'qtKill', 'qtAssist', 'qtDeath', 'qtHs', 'qtBombeDefuse', 'qtBombePlant', 'qtTk', 'qtTkAssist', 'qt1Kill', 'qt2Kill', 'qt3Kill', 'qt4Kill', 'qt5Kill', 'qtPlusKill', 'qtFirstKill', 'vlDamage', 'qtHits', 'qtShots', 'qtLastAlive', 'qtClutchWon', 'qtRoundsPlayed', 'vlLevel', 'qtSurvived', 'qtTrade', 'qtFlashAssist', 'qtHitHeadshot', 'qtHitChest', 'qtHitStomach', 'qtHitLeftAtm', 'qtHitRightArm', 'qtHitLeftLeg', 'qtHitRightLeg', 'flWinner']\n"
     ]
    },
    {
     "data": {
      "text/html": [
       "<div>\n",
       "<style scoped>\n",
       "    .dataframe tbody tr th:only-of-type {\n",
       "        vertical-align: middle;\n",
       "    }\n",
       "\n",
       "    .dataframe tbody tr th {\n",
       "        vertical-align: top;\n",
       "    }\n",
       "\n",
       "    .dataframe thead th {\n",
       "        text-align: right;\n",
       "    }\n",
       "</style>\n",
       "<table border=\"1\" class=\"dataframe\">\n",
       "  <thead>\n",
       "    <tr style=\"text-align: right;\">\n",
       "      <th></th>\n",
       "      <th>unique</th>\n",
       "      <th>total_null</th>\n",
       "      <th>percentage</th>\n",
       "    </tr>\n",
       "  </thead>\n",
       "  <tbody>\n",
       "    <tr>\n",
       "      <th>idLobbyGame</th>\n",
       "      <td>0</td>\n",
       "      <td>0.000000</td>\n",
       "      <td>172911</td>\n",
       "    </tr>\n",
       "    <tr>\n",
       "      <th>idPlayer</th>\n",
       "      <td>0</td>\n",
       "      <td>0.000000</td>\n",
       "      <td>2469</td>\n",
       "    </tr>\n",
       "    <tr>\n",
       "      <th>idRoom</th>\n",
       "      <td>0</td>\n",
       "      <td>0.000000</td>\n",
       "      <td>178500</td>\n",
       "    </tr>\n",
       "    <tr>\n",
       "      <th>qtKill</th>\n",
       "      <td>0</td>\n",
       "      <td>0.000000</td>\n",
       "      <td>74</td>\n",
       "    </tr>\n",
       "    <tr>\n",
       "      <th>qtAssist</th>\n",
       "      <td>0</td>\n",
       "      <td>0.000000</td>\n",
       "      <td>21</td>\n",
       "    </tr>\n",
       "    <tr>\n",
       "      <th>qtDeath</th>\n",
       "      <td>0</td>\n",
       "      <td>0.000000</td>\n",
       "      <td>58</td>\n",
       "    </tr>\n",
       "    <tr>\n",
       "      <th>qtHs</th>\n",
       "      <td>0</td>\n",
       "      <td>0.000000</td>\n",
       "      <td>39</td>\n",
       "    </tr>\n",
       "    <tr>\n",
       "      <th>qtBombeDefuse</th>\n",
       "      <td>0</td>\n",
       "      <td>0.000000</td>\n",
       "      <td>6</td>\n",
       "    </tr>\n",
       "    <tr>\n",
       "      <th>qtBombePlant</th>\n",
       "      <td>0</td>\n",
       "      <td>0.000000</td>\n",
       "      <td>13</td>\n",
       "    </tr>\n",
       "    <tr>\n",
       "      <th>qtTk</th>\n",
       "      <td>120</td>\n",
       "      <td>0.065164</td>\n",
       "      <td>7</td>\n",
       "    </tr>\n",
       "    <tr>\n",
       "      <th>qtTkAssist</th>\n",
       "      <td>120</td>\n",
       "      <td>0.065164</td>\n",
       "      <td>9</td>\n",
       "    </tr>\n",
       "    <tr>\n",
       "      <th>qt1Kill</th>\n",
       "      <td>0</td>\n",
       "      <td>0.000000</td>\n",
       "      <td>30</td>\n",
       "    </tr>\n",
       "    <tr>\n",
       "      <th>qt2Kill</th>\n",
       "      <td>0</td>\n",
       "      <td>0.000000</td>\n",
       "      <td>17</td>\n",
       "    </tr>\n",
       "    <tr>\n",
       "      <th>qt3Kill</th>\n",
       "      <td>0</td>\n",
       "      <td>0.000000</td>\n",
       "      <td>12</td>\n",
       "    </tr>\n",
       "    <tr>\n",
       "      <th>qt4Kill</th>\n",
       "      <td>0</td>\n",
       "      <td>0.000000</td>\n",
       "      <td>7</td>\n",
       "    </tr>\n",
       "    <tr>\n",
       "      <th>qt5Kill</th>\n",
       "      <td>0</td>\n",
       "      <td>0.000000</td>\n",
       "      <td>4</td>\n",
       "    </tr>\n",
       "    <tr>\n",
       "      <th>qtPlusKill</th>\n",
       "      <td>0</td>\n",
       "      <td>0.000000</td>\n",
       "      <td>1</td>\n",
       "    </tr>\n",
       "    <tr>\n",
       "      <th>qtFirstKill</th>\n",
       "      <td>0</td>\n",
       "      <td>0.000000</td>\n",
       "      <td>20</td>\n",
       "    </tr>\n",
       "    <tr>\n",
       "      <th>vlDamage</th>\n",
       "      <td>0</td>\n",
       "      <td>0.000000</td>\n",
       "      <td>5891</td>\n",
       "    </tr>\n",
       "    <tr>\n",
       "      <th>qtHits</th>\n",
       "      <td>120</td>\n",
       "      <td>0.065164</td>\n",
       "      <td>213</td>\n",
       "    </tr>\n",
       "    <tr>\n",
       "      <th>qtShots</th>\n",
       "      <td>0</td>\n",
       "      <td>0.000000</td>\n",
       "      <td>1401</td>\n",
       "    </tr>\n",
       "    <tr>\n",
       "      <th>qtLastAlive</th>\n",
       "      <td>120</td>\n",
       "      <td>0.065164</td>\n",
       "      <td>28</td>\n",
       "    </tr>\n",
       "    <tr>\n",
       "      <th>qtClutchWon</th>\n",
       "      <td>0</td>\n",
       "      <td>0.000000</td>\n",
       "      <td>9</td>\n",
       "    </tr>\n",
       "    <tr>\n",
       "      <th>qtRoundsPlayed</th>\n",
       "      <td>0</td>\n",
       "      <td>0.000000</td>\n",
       "      <td>67</td>\n",
       "    </tr>\n",
       "    <tr>\n",
       "      <th>descMapName</th>\n",
       "      <td>0</td>\n",
       "      <td>0.000000</td>\n",
       "      <td>8</td>\n",
       "    </tr>\n",
       "    <tr>\n",
       "      <th>vlLevel</th>\n",
       "      <td>0</td>\n",
       "      <td>0.000000</td>\n",
       "      <td>22</td>\n",
       "    </tr>\n",
       "    <tr>\n",
       "      <th>qtSurvived</th>\n",
       "      <td>705</td>\n",
       "      <td>0.382836</td>\n",
       "      <td>36</td>\n",
       "    </tr>\n",
       "    <tr>\n",
       "      <th>qtTrade</th>\n",
       "      <td>705</td>\n",
       "      <td>0.382836</td>\n",
       "      <td>18</td>\n",
       "    </tr>\n",
       "    <tr>\n",
       "      <th>qtFlashAssist</th>\n",
       "      <td>705</td>\n",
       "      <td>0.382836</td>\n",
       "      <td>12</td>\n",
       "    </tr>\n",
       "    <tr>\n",
       "      <th>qtHitHeadshot</th>\n",
       "      <td>705</td>\n",
       "      <td>0.382836</td>\n",
       "      <td>48</td>\n",
       "    </tr>\n",
       "    <tr>\n",
       "      <th>qtHitChest</th>\n",
       "      <td>705</td>\n",
       "      <td>0.382836</td>\n",
       "      <td>108</td>\n",
       "    </tr>\n",
       "    <tr>\n",
       "      <th>qtHitStomach</th>\n",
       "      <td>705</td>\n",
       "      <td>0.382836</td>\n",
       "      <td>69</td>\n",
       "    </tr>\n",
       "    <tr>\n",
       "      <th>qtHitLeftAtm</th>\n",
       "      <td>705</td>\n",
       "      <td>0.382836</td>\n",
       "      <td>18</td>\n",
       "    </tr>\n",
       "    <tr>\n",
       "      <th>qtHitRightArm</th>\n",
       "      <td>705</td>\n",
       "      <td>0.382836</td>\n",
       "      <td>28</td>\n",
       "    </tr>\n",
       "    <tr>\n",
       "      <th>qtHitLeftLeg</th>\n",
       "      <td>705</td>\n",
       "      <td>0.382836</td>\n",
       "      <td>22</td>\n",
       "    </tr>\n",
       "    <tr>\n",
       "      <th>qtHitRightLeg</th>\n",
       "      <td>705</td>\n",
       "      <td>0.382836</td>\n",
       "      <td>23</td>\n",
       "    </tr>\n",
       "    <tr>\n",
       "      <th>flWinner</th>\n",
       "      <td>0</td>\n",
       "      <td>0.000000</td>\n",
       "      <td>2</td>\n",
       "    </tr>\n",
       "    <tr>\n",
       "      <th>dtCreatedAt</th>\n",
       "      <td>0</td>\n",
       "      <td>0.000000</td>\n",
       "      <td>170489</td>\n",
       "    </tr>\n",
       "  </tbody>\n",
       "</table>\n",
       "</div>"
      ],
      "text/plain": [
       "                unique  total_null  percentage\n",
       "idLobbyGame          0    0.000000      172911\n",
       "idPlayer             0    0.000000        2469\n",
       "idRoom               0    0.000000      178500\n",
       "qtKill               0    0.000000          74\n",
       "qtAssist             0    0.000000          21\n",
       "qtDeath              0    0.000000          58\n",
       "qtHs                 0    0.000000          39\n",
       "qtBombeDefuse        0    0.000000           6\n",
       "qtBombePlant         0    0.000000          13\n",
       "qtTk               120    0.065164           7\n",
       "qtTkAssist         120    0.065164           9\n",
       "qt1Kill              0    0.000000          30\n",
       "qt2Kill              0    0.000000          17\n",
       "qt3Kill              0    0.000000          12\n",
       "qt4Kill              0    0.000000           7\n",
       "qt5Kill              0    0.000000           4\n",
       "qtPlusKill           0    0.000000           1\n",
       "qtFirstKill          0    0.000000          20\n",
       "vlDamage             0    0.000000        5891\n",
       "qtHits             120    0.065164         213\n",
       "qtShots              0    0.000000        1401\n",
       "qtLastAlive        120    0.065164          28\n",
       "qtClutchWon          0    0.000000           9\n",
       "qtRoundsPlayed       0    0.000000          67\n",
       "descMapName          0    0.000000           8\n",
       "vlLevel              0    0.000000          22\n",
       "qtSurvived         705    0.382836          36\n",
       "qtTrade            705    0.382836          18\n",
       "qtFlashAssist      705    0.382836          12\n",
       "qtHitHeadshot      705    0.382836          48\n",
       "qtHitChest         705    0.382836         108\n",
       "qtHitStomach       705    0.382836          69\n",
       "qtHitLeftAtm       705    0.382836          18\n",
       "qtHitRightArm      705    0.382836          28\n",
       "qtHitLeftLeg       705    0.382836          22\n",
       "qtHitRightLeg      705    0.382836          23\n",
       "flWinner             0    0.000000           2\n",
       "dtCreatedAt          0    0.000000      170489"
      ]
     },
     "execution_count": 6,
     "metadata": {},
     "output_type": "execute_result"
    }
   ],
   "source": [
    "###some basic information of the dataset, also to figure out how many of them are categorical or numerical\n",
    "## code from my previous notebook (Assignment 1) to check the null values \n",
    "\n",
    "print(\"Are there are any null values :\", df.isnull().values.any())\n",
    "print(\"NaN values features\", df.columns[df.isnull().any()].tolist() )\n",
    "print(\"Categorical:\", list(df.select_dtypes(include=['object']).columns))\n",
    "print(\"Numerical:\", list(df.select_dtypes(exclude=['object']).columns))\n",
    "total_null = df.isnull().sum()\n",
    "unique = df.nunique(axis=0)\n",
    "percentage = (df.isnull().sum().sort_values(ascending=False)/len(df))*100\n",
    "out = pd.concat([total_null,percentage, unique],axis=1, keys=[\"unique\",\"total_null\",\"percentage\"])\n",
    "out"
   ]
  },
  {
   "cell_type": "code",
   "execution_count": 7,
   "metadata": {},
   "outputs": [
    {
     "data": {
      "image/png": "[encoded data removed]",
      "text/plain": [
       "<Figure size 1080x432 with 1 Axes>"
      ]
     },
     "metadata": {},
     "output_type": "display_data"
    }
   ],
   "source": [
    "sns.set(rc={'figure.figsize':(15,6)});\n",
    "plot_df = pd.DataFrame({'features':cols,'percent':percentage});\n",
    "ax = sns.barplot(x='features',y ='percent',data=plot_df);\n",
    "plt.xticks(rotation=90);\n",
    "plt.title(\"Features vs Percentage of missing value in each column\");"
   ]
  },
  {
   "cell_type": "markdown",
   "metadata": {},
   "source": [
    "**Ans :** Yes, we will drop the 'dtCreatedAt', 'idLobbyGame','idPlayer','idRoom' because these are not important features for our model. Yes, I will consider imputing the values in general but CART automatically provides the feature of ignoring missing values. Additonally, I will not impute the **\"categorical\"** features, but we can encode it via labelencoder or onehotencoder."
   ]
  },
  {
   "cell_type": "code",
   "execution_count": 8,
   "metadata": {},
   "outputs": [],
   "source": [
    "final_df = df.drop(columns=['dtCreatedAt'])"
   ]
  },
  {
   "cell_type": "code",
   "execution_count": 9,
   "metadata": {},
   "outputs": [
    {
     "data": {
      "text/html": [
       "<div>\n",
       "<style scoped>\n",
       "    .dataframe tbody tr th:only-of-type {\n",
       "        vertical-align: middle;\n",
       "    }\n",
       "\n",
       "    .dataframe tbody tr th {\n",
       "        vertical-align: top;\n",
       "    }\n",
       "\n",
       "    .dataframe thead th {\n",
       "        text-align: right;\n",
       "    }\n",
       "</style>\n",
       "<table border=\"1\" class=\"dataframe\">\n",
       "  <thead>\n",
       "    <tr style=\"text-align: right;\">\n",
       "      <th></th>\n",
       "      <th>idLobbyGame</th>\n",
       "      <th>idPlayer</th>\n",
       "      <th>idRoom</th>\n",
       "      <th>qtKill</th>\n",
       "      <th>qtAssist</th>\n",
       "      <th>qtDeath</th>\n",
       "      <th>qtHs</th>\n",
       "      <th>qtBombeDefuse</th>\n",
       "      <th>qtBombePlant</th>\n",
       "      <th>qtTk</th>\n",
       "      <th>...</th>\n",
       "      <th>qtTrade</th>\n",
       "      <th>qtFlashAssist</th>\n",
       "      <th>qtHitHeadshot</th>\n",
       "      <th>qtHitChest</th>\n",
       "      <th>qtHitStomach</th>\n",
       "      <th>qtHitLeftAtm</th>\n",
       "      <th>qtHitRightArm</th>\n",
       "      <th>qtHitLeftLeg</th>\n",
       "      <th>qtHitRightLeg</th>\n",
       "      <th>flWinner</th>\n",
       "    </tr>\n",
       "  </thead>\n",
       "  <tbody>\n",
       "    <tr>\n",
       "      <th>0</th>\n",
       "      <td>1</td>\n",
       "      <td>1</td>\n",
       "      <td>1</td>\n",
       "      <td>5</td>\n",
       "      <td>1</td>\n",
       "      <td>16</td>\n",
       "      <td>2</td>\n",
       "      <td>0</td>\n",
       "      <td>0</td>\n",
       "      <td>0.0</td>\n",
       "      <td>...</td>\n",
       "      <td>2.0</td>\n",
       "      <td>0.0</td>\n",
       "      <td>3.0</td>\n",
       "      <td>13.0</td>\n",
       "      <td>4.0</td>\n",
       "      <td>2.0</td>\n",
       "      <td>2.0</td>\n",
       "      <td>1.0</td>\n",
       "      <td>0.0</td>\n",
       "      <td>0</td>\n",
       "    </tr>\n",
       "    <tr>\n",
       "      <th>1</th>\n",
       "      <td>2</td>\n",
       "      <td>1</td>\n",
       "      <td>2</td>\n",
       "      <td>24</td>\n",
       "      <td>3</td>\n",
       "      <td>18</td>\n",
       "      <td>6</td>\n",
       "      <td>0</td>\n",
       "      <td>4</td>\n",
       "      <td>0.0</td>\n",
       "      <td>...</td>\n",
       "      <td>1.0</td>\n",
       "      <td>0.0</td>\n",
       "      <td>7.0</td>\n",
       "      <td>26.0</td>\n",
       "      <td>14.0</td>\n",
       "      <td>2.0</td>\n",
       "      <td>1.0</td>\n",
       "      <td>1.0</td>\n",
       "      <td>3.0</td>\n",
       "      <td>1</td>\n",
       "    </tr>\n",
       "    <tr>\n",
       "      <th>2</th>\n",
       "      <td>3</td>\n",
       "      <td>2</td>\n",
       "      <td>3</td>\n",
       "      <td>6</td>\n",
       "      <td>4</td>\n",
       "      <td>23</td>\n",
       "      <td>2</td>\n",
       "      <td>0</td>\n",
       "      <td>1</td>\n",
       "      <td>0.0</td>\n",
       "      <td>...</td>\n",
       "      <td>3.0</td>\n",
       "      <td>0.0</td>\n",
       "      <td>3.0</td>\n",
       "      <td>15.0</td>\n",
       "      <td>8.0</td>\n",
       "      <td>1.0</td>\n",
       "      <td>2.0</td>\n",
       "      <td>0.0</td>\n",
       "      <td>2.0</td>\n",
       "      <td>0</td>\n",
       "    </tr>\n",
       "    <tr>\n",
       "      <th>3</th>\n",
       "      <td>3</td>\n",
       "      <td>391</td>\n",
       "      <td>27508</td>\n",
       "      <td>10</td>\n",
       "      <td>5</td>\n",
       "      <td>20</td>\n",
       "      <td>4</td>\n",
       "      <td>1</td>\n",
       "      <td>0</td>\n",
       "      <td>0.0</td>\n",
       "      <td>...</td>\n",
       "      <td>4.0</td>\n",
       "      <td>0.0</td>\n",
       "      <td>6.0</td>\n",
       "      <td>27.0</td>\n",
       "      <td>10.0</td>\n",
       "      <td>1.0</td>\n",
       "      <td>7.0</td>\n",
       "      <td>6.0</td>\n",
       "      <td>6.0</td>\n",
       "      <td>1</td>\n",
       "    </tr>\n",
       "    <tr>\n",
       "      <th>4</th>\n",
       "      <td>4</td>\n",
       "      <td>2</td>\n",
       "      <td>4</td>\n",
       "      <td>8</td>\n",
       "      <td>4</td>\n",
       "      <td>26</td>\n",
       "      <td>6</td>\n",
       "      <td>0</td>\n",
       "      <td>2</td>\n",
       "      <td>0.0</td>\n",
       "      <td>...</td>\n",
       "      <td>4.0</td>\n",
       "      <td>2.0</td>\n",
       "      <td>8.0</td>\n",
       "      <td>19.0</td>\n",
       "      <td>12.0</td>\n",
       "      <td>2.0</td>\n",
       "      <td>3.0</td>\n",
       "      <td>2.0</td>\n",
       "      <td>5.0</td>\n",
       "      <td>0</td>\n",
       "    </tr>\n",
       "  </tbody>\n",
       "</table>\n",
       "<p>5 rows × 37 columns</p>\n",
       "</div>"
      ],
      "text/plain": [
       "   idLobbyGame  idPlayer  idRoom  qtKill  qtAssist  qtDeath  qtHs  \\\n",
       "0            1         1       1       5         1       16     2   \n",
       "1            2         1       2      24         3       18     6   \n",
       "2            3         2       3       6         4       23     2   \n",
       "3            3       391   27508      10         5       20     4   \n",
       "4            4         2       4       8         4       26     6   \n",
       "\n",
       "   qtBombeDefuse  qtBombePlant  qtTk  ...  qtTrade  qtFlashAssist  \\\n",
       "0              0             0   0.0  ...      2.0            0.0   \n",
       "1              0             4   0.0  ...      1.0            0.0   \n",
       "2              0             1   0.0  ...      3.0            0.0   \n",
       "3              1             0   0.0  ...      4.0            0.0   \n",
       "4              0             2   0.0  ...      4.0            2.0   \n",
       "\n",
       "   qtHitHeadshot  qtHitChest  qtHitStomach  qtHitLeftAtm  qtHitRightArm  \\\n",
       "0            3.0        13.0           4.0           2.0            2.0   \n",
       "1            7.0        26.0          14.0           2.0            1.0   \n",
       "2            3.0        15.0           8.0           1.0            2.0   \n",
       "3            6.0        27.0          10.0           1.0            7.0   \n",
       "4            8.0        19.0          12.0           2.0            3.0   \n",
       "\n",
       "   qtHitLeftLeg  qtHitRightLeg  flWinner  \n",
       "0           1.0            0.0         0  \n",
       "1           1.0            3.0         1  \n",
       "2           0.0            2.0         0  \n",
       "3           6.0            6.0         1  \n",
       "4           2.0            5.0         0  \n",
       "\n",
       "[5 rows x 37 columns]"
      ]
     },
     "execution_count": 9,
     "metadata": {},
     "output_type": "execute_result"
    }
   ],
   "source": [
    "final_df.head()"
   ]
  },
  {
   "cell_type": "code",
   "execution_count": 10,
   "metadata": {},
   "outputs": [
    {
     "data": {
      "image/png": "[encoded data removed]",
      "text/plain": [
       "<Figure size 1080x432 with 1 Axes>"
      ]
     },
     "metadata": {},
     "output_type": "display_data"
    }
   ],
   "source": [
    "new_df = final_df.drop(columns=['idLobbyGame','idPlayer','idRoom'], axis=1)\n",
    "sns.histplot(data=new_df,x='flWinner');"
   ]
  },
  {
   "cell_type": "code",
   "execution_count": 11,
   "metadata": {},
   "outputs": [
    {
     "data": {
      "image/png": "[encoded data removed]",
      "text/plain": [
       "<Figure size 1080x432 with 1 Axes>"
      ]
     },
     "metadata": {},
     "output_type": "display_data"
    }
   ],
   "source": [
    "sns.histplot(data=new_df,x='descMapName');"
   ]
  },
  {
   "cell_type": "markdown",
   "metadata": {},
   "source": [
    "#### As we can see the class is balanced for x=f1winner feature, and we can also see the best maps are de_mirage and de_inferno which have above than 50% count"
   ]
  },
  {
   "cell_type": "markdown",
   "metadata": {
    "id": "Sfu-N0jQeL5D"
   },
   "source": [
    "**1.3: Plot side-by-siide bars of class distribtuion for each category for the categorical feature and the target categories.**"
   ]
  },
  {
   "cell_type": "code",
   "execution_count": 12,
   "metadata": {
    "id": "ZCmGclwxk6d5"
   },
   "outputs": [
    {
     "name": "stderr",
     "output_type": "stream",
     "text": [
      "/var/folders/hk/fpn69pcx6jq8n7glwbj2pbp40000gn/T/ipykernel_3784/827596898.py:7: UserWarning: FixedFormatter should only be used together with FixedLocator\n",
      "  _ = axes.set_xticklabels(axes.get_xticklabels(), rotation=90)\n"
     ]
    },
    {
     "data": {
      "image/png": "[encoded data removed]",
      "text/plain": [
       "<Figure size 432x216 with 2 Axes>"
      ]
     },
     "metadata": {},
     "output_type": "display_data"
    }
   ],
   "source": [
    "p1 = new_df.select_dtypes(['object']).columns[0];\n",
    "p2 = sns.FacetGrid(new_df,col=\"flWinner\");\n",
    "pltf = p2.map(sns.histplot,p1);\n",
    "plt.suptitle('Label \"flWinner\" with Count');\n",
    "\n",
    "for axes in pltf.axes.flat:\n",
    "    _ = axes.set_xticklabels(axes.get_xticklabels(), rotation=90)"
   ]
  },
  {
   "cell_type": "markdown",
   "metadata": {
    "id": "TzFoX1w5edPW"
   },
   "source": [
    "**1.4: Split the data into development and test datasets. Which splitting methodology did you choose and why?**"
   ]
  },
  {
   "cell_type": "code",
   "execution_count": 13,
   "metadata": {
    "id": "FG0bjSZxk7K5"
   },
   "outputs": [],
   "source": [
    "target = new_df[\"flWinner\"]\n",
    "data = new_df.drop(columns=[\"flWinner\"])"
   ]
  },
  {
   "cell_type": "code",
   "execution_count": 14,
   "metadata": {},
   "outputs": [
    {
     "name": "stdout",
     "output_type": "stream",
     "text": [
      "Missing values in new dataset: 0\n"
     ]
    }
   ],
   "source": [
    "from sklearn.compose import ColumnTransformer\n",
    "from sklearn.impute import SimpleImputer\n",
    "\n",
    "col_null = data.columns[data.isnull().any()].tolist()\n",
    "mean_imputer = SimpleImputer(missing_values=np.nan, strategy='median')\n",
    "for i in col_null:\n",
    "    data[i] = mean_imputer.fit_transform(data[[i]]).ravel()\n",
    "print(\"Missing values in new dataset:\",data.isnull().any().sum())"
   ]
  },
  {
   "cell_type": "markdown",
   "metadata": {},
   "source": [
    "**Ans:** I chose to split the 60-20-20 split for the training-test-val, we choose the random state because the dataset target was balanced as we have seen previously from the barplots, hence we can shuffle it as well"
   ]
  },
  {
   "cell_type": "code",
   "execution_count": 15,
   "metadata": {},
   "outputs": [],
   "source": [
    "from sklearn.model_selection import train_test_split\n",
    "\n",
    "X_dev, X_test, y_dev, y_test = train_test_split(data, target, test_size=0.2, shuffle = True, random_state= 5) #test\n",
    "X_train, X_val, y_train, y_val = train_test_split(X_dev, y_dev, test_size=0.25, shuffle = True, random_state = 5) #val"
   ]
  },
  {
   "cell_type": "code",
   "execution_count": 16,
   "metadata": {},
   "outputs": [
    {
     "name": "stdout",
     "output_type": "stream",
     "text": [
      "Train shape: (110490, 33)\n",
      "Test shape: (36831, 33)\n",
      "Val shape: (36831, 33)\n"
     ]
    }
   ],
   "source": [
    "print(\"Train shape:\",X_train.shape)\n",
    "print(\"Test shape:\", X_test.shape)\n",
    "print(\"Val shape:\", X_val.shape)"
   ]
  },
  {
   "cell_type": "markdown",
   "metadata": {
    "id": "2grWnbK5eqmW"
   },
   "source": [
    "**1.5: Preprocess the data (Handle the Categorical Variable). Do we need to apply scaling? Briefly Justify**"
   ]
  },
  {
   "cell_type": "markdown",
   "metadata": {
    "id": "mVQjLPO3k7nm"
   },
   "source": [
    "* note : added the label encoder so that there are no multiple one-hot encoded columns for maps/categorical values"
   ]
  },
  {
   "cell_type": "code",
   "execution_count": 17,
   "metadata": {},
   "outputs": [],
   "source": [
    "from sklearn.preprocessing import LabelEncoder\n",
    "\n",
    "###to avoid information leak\n",
    "le = LabelEncoder()\n",
    "X_train['descMapName'] = le.fit_transform(X_train['descMapName'])\n",
    "X_dev['descMapName'] = le.transform(X_dev['descMapName'])\n",
    "X_test['descMapName'] = le.transform(X_test['descMapName'])\n",
    "X_val['descMapName'] = le.transform(X_val['descMapName'])"
   ]
  },
  {
   "cell_type": "code",
   "execution_count": 18,
   "metadata": {},
   "outputs": [
    {
     "data": {
      "text/html": [
       "<div>\n",
       "<style scoped>\n",
       "    .dataframe tbody tr th:only-of-type {\n",
       "        vertical-align: middle;\n",
       "    }\n",
       "\n",
       "    .dataframe tbody tr th {\n",
       "        vertical-align: top;\n",
       "    }\n",
       "\n",
       "    .dataframe thead th {\n",
       "        text-align: right;\n",
       "    }\n",
       "</style>\n",
       "<table border=\"1\" class=\"dataframe\">\n",
       "  <thead>\n",
       "    <tr style=\"text-align: right;\">\n",
       "      <th></th>\n",
       "      <th>qtKill</th>\n",
       "      <th>qtAssist</th>\n",
       "      <th>qtDeath</th>\n",
       "      <th>qtHs</th>\n",
       "      <th>qtBombeDefuse</th>\n",
       "      <th>qtBombePlant</th>\n",
       "      <th>qtTk</th>\n",
       "      <th>qtTkAssist</th>\n",
       "      <th>qt1Kill</th>\n",
       "      <th>qt2Kill</th>\n",
       "      <th>...</th>\n",
       "      <th>qtSurvived</th>\n",
       "      <th>qtTrade</th>\n",
       "      <th>qtFlashAssist</th>\n",
       "      <th>qtHitHeadshot</th>\n",
       "      <th>qtHitChest</th>\n",
       "      <th>qtHitStomach</th>\n",
       "      <th>qtHitLeftAtm</th>\n",
       "      <th>qtHitRightArm</th>\n",
       "      <th>qtHitLeftLeg</th>\n",
       "      <th>qtHitRightLeg</th>\n",
       "    </tr>\n",
       "  </thead>\n",
       "  <tbody>\n",
       "    <tr>\n",
       "      <th>13338</th>\n",
       "      <td>17</td>\n",
       "      <td>2</td>\n",
       "      <td>13</td>\n",
       "      <td>13</td>\n",
       "      <td>0</td>\n",
       "      <td>0</td>\n",
       "      <td>0.0</td>\n",
       "      <td>0.0</td>\n",
       "      <td>6</td>\n",
       "      <td>3</td>\n",
       "      <td>...</td>\n",
       "      <td>9.0</td>\n",
       "      <td>1.0</td>\n",
       "      <td>2.0</td>\n",
       "      <td>16.0</td>\n",
       "      <td>19.0</td>\n",
       "      <td>8.0</td>\n",
       "      <td>1.0</td>\n",
       "      <td>1.0</td>\n",
       "      <td>2.0</td>\n",
       "      <td>0.0</td>\n",
       "    </tr>\n",
       "    <tr>\n",
       "      <th>31975</th>\n",
       "      <td>30</td>\n",
       "      <td>6</td>\n",
       "      <td>22</td>\n",
       "      <td>16</td>\n",
       "      <td>0</td>\n",
       "      <td>1</td>\n",
       "      <td>0.0</td>\n",
       "      <td>0.0</td>\n",
       "      <td>11</td>\n",
       "      <td>5</td>\n",
       "      <td>...</td>\n",
       "      <td>7.0</td>\n",
       "      <td>4.0</td>\n",
       "      <td>0.0</td>\n",
       "      <td>17.0</td>\n",
       "      <td>48.0</td>\n",
       "      <td>17.0</td>\n",
       "      <td>2.0</td>\n",
       "      <td>15.0</td>\n",
       "      <td>3.0</td>\n",
       "      <td>1.0</td>\n",
       "    </tr>\n",
       "    <tr>\n",
       "      <th>126175</th>\n",
       "      <td>13</td>\n",
       "      <td>1</td>\n",
       "      <td>21</td>\n",
       "      <td>2</td>\n",
       "      <td>0</td>\n",
       "      <td>0</td>\n",
       "      <td>0.0</td>\n",
       "      <td>0.0</td>\n",
       "      <td>6</td>\n",
       "      <td>2</td>\n",
       "      <td>...</td>\n",
       "      <td>3.0</td>\n",
       "      <td>3.0</td>\n",
       "      <td>1.0</td>\n",
       "      <td>2.0</td>\n",
       "      <td>32.0</td>\n",
       "      <td>6.0</td>\n",
       "      <td>0.0</td>\n",
       "      <td>7.0</td>\n",
       "      <td>0.0</td>\n",
       "      <td>2.0</td>\n",
       "    </tr>\n",
       "    <tr>\n",
       "      <th>69258</th>\n",
       "      <td>24</td>\n",
       "      <td>7</td>\n",
       "      <td>17</td>\n",
       "      <td>13</td>\n",
       "      <td>0</td>\n",
       "      <td>3</td>\n",
       "      <td>0.0</td>\n",
       "      <td>2.0</td>\n",
       "      <td>12</td>\n",
       "      <td>4</td>\n",
       "      <td>...</td>\n",
       "      <td>10.0</td>\n",
       "      <td>4.0</td>\n",
       "      <td>1.0</td>\n",
       "      <td>16.0</td>\n",
       "      <td>32.0</td>\n",
       "      <td>16.0</td>\n",
       "      <td>0.0</td>\n",
       "      <td>10.0</td>\n",
       "      <td>0.0</td>\n",
       "      <td>2.0</td>\n",
       "    </tr>\n",
       "    <tr>\n",
       "      <th>107408</th>\n",
       "      <td>16</td>\n",
       "      <td>5</td>\n",
       "      <td>17</td>\n",
       "      <td>8</td>\n",
       "      <td>1</td>\n",
       "      <td>1</td>\n",
       "      <td>0.0</td>\n",
       "      <td>1.0</td>\n",
       "      <td>6</td>\n",
       "      <td>5</td>\n",
       "      <td>...</td>\n",
       "      <td>3.0</td>\n",
       "      <td>2.0</td>\n",
       "      <td>0.0</td>\n",
       "      <td>10.0</td>\n",
       "      <td>30.0</td>\n",
       "      <td>12.0</td>\n",
       "      <td>1.0</td>\n",
       "      <td>3.0</td>\n",
       "      <td>2.0</td>\n",
       "      <td>4.0</td>\n",
       "    </tr>\n",
       "  </tbody>\n",
       "</table>\n",
       "<p>5 rows × 33 columns</p>\n",
       "</div>"
      ],
      "text/plain": [
       "        qtKill  qtAssist  qtDeath  qtHs  qtBombeDefuse  qtBombePlant  qtTk  \\\n",
       "13338       17         2       13    13              0             0   0.0   \n",
       "31975       30         6       22    16              0             1   0.0   \n",
       "126175      13         1       21     2              0             0   0.0   \n",
       "69258       24         7       17    13              0             3   0.0   \n",
       "107408      16         5       17     8              1             1   0.0   \n",
       "\n",
       "        qtTkAssist  qt1Kill  qt2Kill  ...  qtSurvived  qtTrade  qtFlashAssist  \\\n",
       "13338          0.0        6        3  ...         9.0      1.0            2.0   \n",
       "31975          0.0       11        5  ...         7.0      4.0            0.0   \n",
       "126175         0.0        6        2  ...         3.0      3.0            1.0   \n",
       "69258          2.0       12        4  ...        10.0      4.0            1.0   \n",
       "107408         1.0        6        5  ...         3.0      2.0            0.0   \n",
       "\n",
       "        qtHitHeadshot  qtHitChest  qtHitStomach  qtHitLeftAtm  qtHitRightArm  \\\n",
       "13338            16.0        19.0           8.0           1.0            1.0   \n",
       "31975            17.0        48.0          17.0           2.0           15.0   \n",
       "126175            2.0        32.0           6.0           0.0            7.0   \n",
       "69258            16.0        32.0          16.0           0.0           10.0   \n",
       "107408           10.0        30.0          12.0           1.0            3.0   \n",
       "\n",
       "        qtHitLeftLeg  qtHitRightLeg  \n",
       "13338            2.0            0.0  \n",
       "31975            3.0            1.0  \n",
       "126175           0.0            2.0  \n",
       "69258            0.0            2.0  \n",
       "107408           2.0            4.0  \n",
       "\n",
       "[5 rows x 33 columns]"
      ]
     },
     "execution_count": 18,
     "metadata": {},
     "output_type": "execute_result"
    }
   ],
   "source": [
    "X_dev.head()"
   ]
  },
  {
   "cell_type": "code",
   "execution_count": 19,
   "metadata": {},
   "outputs": [
    {
     "data": {
      "text/html": [
       "<div>\n",
       "<style scoped>\n",
       "    .dataframe tbody tr th:only-of-type {\n",
       "        vertical-align: middle;\n",
       "    }\n",
       "\n",
       "    .dataframe tbody tr th {\n",
       "        vertical-align: top;\n",
       "    }\n",
       "\n",
       "    .dataframe thead th {\n",
       "        text-align: right;\n",
       "    }\n",
       "</style>\n",
       "<table border=\"1\" class=\"dataframe\">\n",
       "  <thead>\n",
       "    <tr style=\"text-align: right;\">\n",
       "      <th></th>\n",
       "      <th>qtKill</th>\n",
       "      <th>qtAssist</th>\n",
       "      <th>qtDeath</th>\n",
       "      <th>qtHs</th>\n",
       "      <th>qtBombeDefuse</th>\n",
       "      <th>qtBombePlant</th>\n",
       "      <th>qtTk</th>\n",
       "      <th>qtTkAssist</th>\n",
       "      <th>qt1Kill</th>\n",
       "      <th>qt2Kill</th>\n",
       "      <th>...</th>\n",
       "      <th>qtSurvived</th>\n",
       "      <th>qtTrade</th>\n",
       "      <th>qtFlashAssist</th>\n",
       "      <th>qtHitHeadshot</th>\n",
       "      <th>qtHitChest</th>\n",
       "      <th>qtHitStomach</th>\n",
       "      <th>qtHitLeftAtm</th>\n",
       "      <th>qtHitRightArm</th>\n",
       "      <th>qtHitLeftLeg</th>\n",
       "      <th>qtHitRightLeg</th>\n",
       "    </tr>\n",
       "  </thead>\n",
       "  <tbody>\n",
       "    <tr>\n",
       "      <th>137470</th>\n",
       "      <td>18</td>\n",
       "      <td>5</td>\n",
       "      <td>13</td>\n",
       "      <td>5</td>\n",
       "      <td>0</td>\n",
       "      <td>2</td>\n",
       "      <td>0.0</td>\n",
       "      <td>0.0</td>\n",
       "      <td>9</td>\n",
       "      <td>3</td>\n",
       "      <td>...</td>\n",
       "      <td>9.0</td>\n",
       "      <td>3.0</td>\n",
       "      <td>1.0</td>\n",
       "      <td>5.0</td>\n",
       "      <td>25.0</td>\n",
       "      <td>14.0</td>\n",
       "      <td>2.0</td>\n",
       "      <td>3.0</td>\n",
       "      <td>1.0</td>\n",
       "      <td>2.0</td>\n",
       "    </tr>\n",
       "    <tr>\n",
       "      <th>149132</th>\n",
       "      <td>20</td>\n",
       "      <td>6</td>\n",
       "      <td>15</td>\n",
       "      <td>8</td>\n",
       "      <td>0</td>\n",
       "      <td>0</td>\n",
       "      <td>0.0</td>\n",
       "      <td>0.0</td>\n",
       "      <td>4</td>\n",
       "      <td>8</td>\n",
       "      <td>...</td>\n",
       "      <td>6.0</td>\n",
       "      <td>2.0</td>\n",
       "      <td>0.0</td>\n",
       "      <td>11.0</td>\n",
       "      <td>28.0</td>\n",
       "      <td>16.0</td>\n",
       "      <td>5.0</td>\n",
       "      <td>6.0</td>\n",
       "      <td>4.0</td>\n",
       "      <td>3.0</td>\n",
       "    </tr>\n",
       "    <tr>\n",
       "      <th>71605</th>\n",
       "      <td>17</td>\n",
       "      <td>4</td>\n",
       "      <td>21</td>\n",
       "      <td>10</td>\n",
       "      <td>0</td>\n",
       "      <td>1</td>\n",
       "      <td>0.0</td>\n",
       "      <td>0.0</td>\n",
       "      <td>8</td>\n",
       "      <td>1</td>\n",
       "      <td>...</td>\n",
       "      <td>4.0</td>\n",
       "      <td>6.0</td>\n",
       "      <td>1.0</td>\n",
       "      <td>12.0</td>\n",
       "      <td>28.0</td>\n",
       "      <td>3.0</td>\n",
       "      <td>3.0</td>\n",
       "      <td>7.0</td>\n",
       "      <td>2.0</td>\n",
       "      <td>1.0</td>\n",
       "    </tr>\n",
       "    <tr>\n",
       "      <th>110669</th>\n",
       "      <td>16</td>\n",
       "      <td>3</td>\n",
       "      <td>19</td>\n",
       "      <td>8</td>\n",
       "      <td>1</td>\n",
       "      <td>2</td>\n",
       "      <td>0.0</td>\n",
       "      <td>0.0</td>\n",
       "      <td>7</td>\n",
       "      <td>1</td>\n",
       "      <td>...</td>\n",
       "      <td>5.0</td>\n",
       "      <td>7.0</td>\n",
       "      <td>0.0</td>\n",
       "      <td>12.0</td>\n",
       "      <td>18.0</td>\n",
       "      <td>10.0</td>\n",
       "      <td>0.0</td>\n",
       "      <td>4.0</td>\n",
       "      <td>3.0</td>\n",
       "      <td>1.0</td>\n",
       "    </tr>\n",
       "    <tr>\n",
       "      <th>65391</th>\n",
       "      <td>11</td>\n",
       "      <td>6</td>\n",
       "      <td>19</td>\n",
       "      <td>1</td>\n",
       "      <td>0</td>\n",
       "      <td>2</td>\n",
       "      <td>0.0</td>\n",
       "      <td>2.0</td>\n",
       "      <td>5</td>\n",
       "      <td>3</td>\n",
       "      <td>...</td>\n",
       "      <td>7.0</td>\n",
       "      <td>7.0</td>\n",
       "      <td>0.0</td>\n",
       "      <td>4.0</td>\n",
       "      <td>25.0</td>\n",
       "      <td>22.0</td>\n",
       "      <td>1.0</td>\n",
       "      <td>3.0</td>\n",
       "      <td>5.0</td>\n",
       "      <td>4.0</td>\n",
       "    </tr>\n",
       "  </tbody>\n",
       "</table>\n",
       "<p>5 rows × 33 columns</p>\n",
       "</div>"
      ],
      "text/plain": [
       "        qtKill  qtAssist  qtDeath  qtHs  qtBombeDefuse  qtBombePlant  qtTk  \\\n",
       "137470      18         5       13     5              0             2   0.0   \n",
       "149132      20         6       15     8              0             0   0.0   \n",
       "71605       17         4       21    10              0             1   0.0   \n",
       "110669      16         3       19     8              1             2   0.0   \n",
       "65391       11         6       19     1              0             2   0.0   \n",
       "\n",
       "        qtTkAssist  qt1Kill  qt2Kill  ...  qtSurvived  qtTrade  qtFlashAssist  \\\n",
       "137470         0.0        9        3  ...         9.0      3.0            1.0   \n",
       "149132         0.0        4        8  ...         6.0      2.0            0.0   \n",
       "71605          0.0        8        1  ...         4.0      6.0            1.0   \n",
       "110669         0.0        7        1  ...         5.0      7.0            0.0   \n",
       "65391          2.0        5        3  ...         7.0      7.0            0.0   \n",
       "\n",
       "        qtHitHeadshot  qtHitChest  qtHitStomach  qtHitLeftAtm  qtHitRightArm  \\\n",
       "137470            5.0        25.0          14.0           2.0            3.0   \n",
       "149132           11.0        28.0          16.0           5.0            6.0   \n",
       "71605            12.0        28.0           3.0           3.0            7.0   \n",
       "110669           12.0        18.0          10.0           0.0            4.0   \n",
       "65391             4.0        25.0          22.0           1.0            3.0   \n",
       "\n",
       "        qtHitLeftLeg  qtHitRightLeg  \n",
       "137470           1.0            2.0  \n",
       "149132           4.0            3.0  \n",
       "71605            2.0            1.0  \n",
       "110669           3.0            1.0  \n",
       "65391            5.0            4.0  \n",
       "\n",
       "[5 rows x 33 columns]"
      ]
     },
     "execution_count": 19,
     "metadata": {},
     "output_type": "execute_result"
    }
   ],
   "source": [
    "X_test.head()"
   ]
  },
  {
   "cell_type": "markdown",
   "metadata": {},
   "source": [
    "**Ans :** Scaling will not be needed in the case of Decision Trees because decision trees make cut between the nodes, so their values does not make a huge difference for the cutting. Hence we can say Decision Tree is *SCALE INVARIANT*"
   ]
  },
  {
   "cell_type": "markdown",
   "metadata": {
    "id": "QOsjqLz8e2xo"
   },
   "source": [
    "**1.6: Fit a Decision Tree on the development data until all leaves are pure. What is the performance of the tree on the development set and test set? Provide metrics you believe are relevant and briefly justify.**"
   ]
  },
  {
   "cell_type": "markdown",
   "metadata": {},
   "source": [
    "#### Unpruned DT"
   ]
  },
  {
   "cell_type": "code",
   "execution_count": 20,
   "metadata": {
    "id": "xGNUFbm-k8Rk"
   },
   "outputs": [],
   "source": [
    "from sklearn.tree import DecisionTreeClassifier\n",
    "from sklearn.metrics import classification_report, accuracy_score, confusion_matrix\n",
    "\n",
    "model_dt = DecisionTreeClassifier()\n",
    "model_dt.fit(X_dev, y_dev)\n",
    "predsDev = model_dt.predict(X_dev)\n",
    "predsTest = model_dt.predict(X_test)"
   ]
  },
  {
   "cell_type": "code",
   "execution_count": 21,
   "metadata": {},
   "outputs": [],
   "source": [
    "test_score =  accuracy_score(y_test, predsTest)\n",
    "dev_score = accuracy_score(y_dev, predsDev)"
   ]
  },
  {
   "cell_type": "code",
   "execution_count": 22,
   "metadata": {},
   "outputs": [
    {
     "name": "stdout",
     "output_type": "stream",
     "text": [
      "Classification Score for DT on Dev dataset:\n",
      "\n",
      "Dev Score :  1.0\n",
      "              precision    recall  f1-score   support\n",
      "\n",
      "           0       1.00      1.00      1.00     74660\n",
      "           1       1.00      1.00      1.00     72661\n",
      "\n",
      "    accuracy                           1.00    147321\n",
      "   macro avg       1.00      1.00      1.00    147321\n",
      "weighted avg       1.00      1.00      1.00    147321\n",
      "\n",
      "[[74660     0]\n",
      " [    0 72661]]\n",
      "--------------------------------------------------------\n",
      "Classification Score for DT on Test dataset:\n",
      "\n",
      "Test Score : 0.7261545980288344\n",
      "              precision    recall  f1-score   support\n",
      "\n",
      "           0       0.73      0.72      0.73     18564\n",
      "           1       0.72      0.73      0.72     18267\n",
      "\n",
      "    accuracy                           0.73     36831\n",
      "   macro avg       0.73      0.73      0.73     36831\n",
      "weighted avg       0.73      0.73      0.73     36831\n",
      "\n",
      "[[13453  5111]\n",
      " [ 4975 13292]]\n"
     ]
    }
   ],
   "source": [
    "print(\"Classification Score for DT on Dev dataset:\\n\")\n",
    "print(\"Dev Score : \", dev_score)\n",
    "print(classification_report(y_dev, predsDev))\n",
    "print(confusion_matrix(y_dev, predsDev))\n",
    "print(\"--------------------------------------------------------\")\n",
    "print(\"Classification Score for DT on Test dataset:\\n\")\n",
    "print(\"Test Score :\", test_score)\n",
    "print(classification_report(y_test, predsTest))\n",
    "print(confusion_matrix(y_test, predsTest))"
   ]
  },
  {
   "cell_type": "markdown",
   "metadata": {},
   "source": [
    "**Ans:** The performance is 1.0 on Dev dataset and 0.725 on Test dataset which has been transformed previously and the categorical value was converted to numerical using label encoder. Additonally, I believe the *accuracy_score, confusion matrix and classification report* are important metrics for our Decision Tree model here because they give us insights on how the features are effecting the model. Calculating just recall and precision does not make any sense here since we want to understand the effects of false positives and false negatives as well along with penalizing our model on the basis of their values.\n"
   ]
  },
  {
   "cell_type": "markdown",
   "metadata": {
    "id": "Y9vSrFM-fqdL"
   },
   "source": [
    "**1.7: Visualize the trained tree until the max_depth 8**"
   ]
  },
  {
   "cell_type": "code",
   "execution_count": 23,
   "metadata": {
    "id": "skZoUeXwk8sy"
   },
   "outputs": [
    {
     "name": "stdout",
     "output_type": "stream",
     "text": [
      "['qtKill', 'qtAssist', 'qtDeath', 'qtHs', 'qtBombeDefuse', 'qtBombePlant', 'qtTk', 'qtTkAssist', 'qt1Kill', 'qt2Kill', 'qt3Kill', 'qt4Kill', 'qt5Kill', 'qtPlusKill', 'qtFirstKill', 'vlDamage', 'qtHits', 'qtShots', 'qtLastAlive', 'qtClutchWon', 'qtRoundsPlayed', 'descMapName', 'vlLevel', 'qtSurvived', 'qtTrade', 'qtFlashAssist', 'qtHitHeadshot', 'qtHitChest', 'qtHitStomach', 'qtHitLeftAtm', 'qtHitRightArm', 'qtHitLeftLeg', 'qtHitRightLeg']\n"
     ]
    },
    {
     "data": {
      "image/png": "[encoded data removed]",
      "text/plain": [
       "<Figure size 1080x432 with 1 Axes>"
      ]
     },
     "metadata": {},
     "output_type": "display_data"
    }
   ],
   "source": [
    "from sklearn import tree \n",
    "from sklearn.tree import plot_tree\n",
    "\n",
    "dev_cols = X_dev.columns.to_list()\n",
    "print(dev_cols)\n",
    "classes = ['0', '1']\n",
    "plot_tree(model_dt,max_depth=8,feature_names=dev_cols,class_names=classes,filled = True);"
   ]
  },
  {
   "cell_type": "markdown",
   "metadata": {
    "id": "v_5pPhS2f12o"
   },
   "source": [
    "**1.8: Prune the tree using one of the techniques discussed in class and evaluate the performance**"
   ]
  },
  {
   "cell_type": "markdown",
   "metadata": {},
   "source": [
    "### Pruned DT"
   ]
  },
  {
   "cell_type": "code",
   "execution_count": 24,
   "metadata": {
    "id": "e9citpjBk9Op"
   },
   "outputs": [
    {
     "name": "stdout",
     "output_type": "stream",
     "text": [
      "[0.00142326 0.00150112 0.00155996 0.0022472  0.00271355 0.00304663\n",
      " 0.00690432 0.01579927 0.04035186 0.11786785]\n"
     ]
    }
   ],
   "source": [
    "path = model_dt.cost_complexity_pruning_path(X_dev, y_dev)\n",
    "alphas, impurities = path.ccp_alphas, path.impurities\n",
    "alphas = alphas[-10:] ###taking last 10 alpha cuz it was taking too much time to train\n",
    "print(alphas)"
   ]
  },
  {
   "cell_type": "code",
   "execution_count": 25,
   "metadata": {},
   "outputs": [],
   "source": [
    "model_dt_alpha = []\n",
    "for i in alphas:\n",
    "    model_dt1 = DecisionTreeClassifier(random_state=0,ccp_alpha=i)\n",
    "    model_dt1.fit(X_dev,y_dev)\n",
    "    model_dt_alpha.append(model_dt1)"
   ]
  },
  {
   "cell_type": "code",
   "execution_count": 26,
   "metadata": {},
   "outputs": [
    {
     "data": {
      "image/png": "[encoded data removed]",
      "text/plain": [
       "<Figure size 1080x432 with 1 Axes>"
      ]
     },
     "metadata": {},
     "output_type": "display_data"
    }
   ],
   "source": [
    "dev_acc = []\n",
    "test_acc = []\n",
    "for i in model_dt_alpha:\n",
    "    y_dev_pred = i.predict(X_dev)\n",
    "    y_test_pred = i.predict(X_test)\n",
    "    dev_acc.append(accuracy_score(y_dev, y_dev_pred))\n",
    "    test_acc.append(accuracy_score(y_test, y_test_pred))\n",
    "    \n",
    "plt.scatter(alphas,dev_acc)\n",
    "plt.scatter(alphas,test_acc)\n",
    "plt.plot(alphas,dev_acc,label='dev_accuracy',drawstyle=\"steps-post\")\n",
    "plt.plot(alphas,test_acc,label='test_accuracy',drawstyle=\"steps-post\")\n",
    "plt.legend()\n",
    "plt.xlabel('Alpha')\n",
    "plt.ylabel('Accuracy')\n",
    "plt.title('Accuracy vs alpha')\n",
    "plt.show()"
   ]
  },
  {
   "cell_type": "markdown",
   "metadata": {},
   "source": [
    "### We can choose alpha as 0.03"
   ]
  },
  {
   "cell_type": "code",
   "execution_count": 27,
   "metadata": {},
   "outputs": [],
   "source": [
    "###cite : https://www.kaggle.com/arunmohan003/pruning-decision-trees-tutorial\n",
    "\n",
    "best_alpha_dt = DecisionTreeClassifier(random_state=0,ccp_alpha=0.03)\n",
    "best_alpha_dt.fit(X_dev,y_dev)\n",
    "y_pruned_dev = best_alpha_dt.predict(X_dev)\n",
    "y_pruned_test = best_alpha_dt.predict(X_test)"
   ]
  },
  {
   "cell_type": "code",
   "execution_count": 28,
   "metadata": {},
   "outputs": [],
   "source": [
    "test_score_pruned =  accuracy_score(y_test, y_pruned_test)\n",
    "dev_score_pruned = accuracy_score(y_dev, y_pruned_dev)"
   ]
  },
  {
   "cell_type": "code",
   "execution_count": 29,
   "metadata": {},
   "outputs": [
    {
     "name": "stdout",
     "output_type": "stream",
     "text": [
      "Classification Score for Pruned DT on Dev dataset:\n",
      "\n",
      "Dev Score :  0.7396908791007392\n",
      "              precision    recall  f1-score   support\n",
      "\n",
      "           0       0.78      0.67      0.72     74660\n",
      "           1       0.71      0.81      0.75     72661\n",
      "\n",
      "    accuracy                           0.74    147321\n",
      "   macro avg       0.74      0.74      0.74    147321\n",
      "weighted avg       0.75      0.74      0.74    147321\n",
      "\n",
      "[[50075 24585]\n",
      " [13764 58897]]\n",
      "--------------------------------------------------------\n",
      "Classification Score for Pruned DT on Test dataset:\n",
      "\n",
      "Test Score : 0.7419293529906872\n",
      "              precision    recall  f1-score   support\n",
      "\n",
      "           0       0.79      0.67      0.72     18564\n",
      "           1       0.71      0.82      0.76     18267\n",
      "\n",
      "    accuracy                           0.74     36831\n",
      "   macro avg       0.75      0.74      0.74     36831\n",
      "weighted avg       0.75      0.74      0.74     36831\n",
      "\n",
      "[[12419  6145]\n",
      " [ 3360 14907]]\n"
     ]
    }
   ],
   "source": [
    "print(\"Classification Score for Pruned DT on Dev dataset:\\n\")\n",
    "print(\"Dev Score : \", dev_score_pruned)\n",
    "print(classification_report(y_dev, y_pruned_dev))\n",
    "print(confusion_matrix(y_dev, y_pruned_dev))\n",
    "print(\"--------------------------------------------------------\")\n",
    "print(\"Classification Score for Pruned DT on Test dataset:\\n\")\n",
    "print(\"Test Score :\", test_score_pruned)\n",
    "print(classification_report(y_test, y_pruned_test))\n",
    "print(confusion_matrix(y_test, y_pruned_test))"
   ]
  },
  {
   "cell_type": "markdown",
   "metadata": {
    "id": "7by9pkAJf-7p"
   },
   "source": [
    "**1.9: List the top 3 most important features for this trained tree? How would you justify these features being the most important?**"
   ]
  },
  {
   "cell_type": "code",
   "execution_count": 30,
   "metadata": {
    "id": "iMokROlNf1P0"
   },
   "outputs": [
    {
     "data": {
      "image/png": "[encoded data removed]",
      "text/plain": [
       "<Figure size 1080x432 with 1 Axes>"
      ]
     },
     "metadata": {},
     "output_type": "display_data"
    }
   ],
   "source": [
    "feature_imp = model_dt.feature_importances_\n",
    "# print(\"Feature importances:\\n{}\".format(feature_imp))\n",
    "final_list = zip(feature_imp,X_dev.columns)\n",
    "res = sorted(final_list, key = lambda x: x[0])\n",
    "res = res[-3:]\n",
    "\n",
    "plt.bar(range(len(res)),[val[0] for val in res],align='center')\n",
    "plt.xticks(range(len(res)),[val[1] for val in res])\n",
    "plt.xticks(rotation=45)\n",
    "plt.xlabel('Features')\n",
    "plt.ylabel('Feature Importance')\n",
    "plt.show()"
   ]
  },
  {
   "cell_type": "markdown",
   "metadata": {},
   "source": [
    "**Ans :** The three top features are \"qtSurvived\", \"qtDeath\", \"qtShots\". This means the first split is happening at \"qtSurvived\" which is followed by second split at \"qtDeath\" and third split at \"qtShots\". Since the first feature or the most important feature is \"qtSurvived\", it also is demonstrating the impurity coeffiocient or gini coefficient is the best at splits occuring after \"qtSurvived\"."
   ]
  },
  {
   "cell_type": "markdown",
   "metadata": {
    "id": "javStHTHbHXx"
   },
   "source": [
    "## Question 2: Random Forests"
   ]
  },
  {
   "cell_type": "markdown",
   "metadata": {},
   "source": [
    "#### import  important modules"
   ]
  },
  {
   "cell_type": "code",
   "execution_count": 31,
   "metadata": {
    "id": "sbKTHdeRk9sr"
   },
   "outputs": [],
   "source": [
    "from sklearn.ensemble import RandomForestClassifier\n",
    "from sklearn.model_selection import RandomizedSearchCV"
   ]
  },
  {
   "cell_type": "markdown",
   "metadata": {
    "id": "dDl3lnx6GAT1"
   },
   "source": [
    "**2.1: Train a Random Forest model on the development dataset using RandomForestClassifier class in sklearn. Use the default parameters. Evaluate the performance of the model on test dataset. Does this perform better than Decision Tree on the test dataset (compare to results in Q 1.6)?**"
   ]
  },
  {
   "cell_type": "code",
   "execution_count": 32,
   "metadata": {
    "id": "RlN4aOX_l2Gn"
   },
   "outputs": [],
   "source": [
    "model_rf = RandomForestClassifier()\n",
    "model_rf.fit(X_dev, y_dev)\n",
    "predsDevrf = model_rf.predict(X_dev)\n",
    "predsTestrf = model_rf.predict(X_test)"
   ]
  },
  {
   "cell_type": "code",
   "execution_count": 33,
   "metadata": {},
   "outputs": [],
   "source": [
    "testrf_score =  accuracy_score(y_test, predsTestrf)\n",
    "devrf_score = accuracy_score(y_dev, predsDevrf)"
   ]
  },
  {
   "cell_type": "code",
   "execution_count": 34,
   "metadata": {},
   "outputs": [
    {
     "name": "stdout",
     "output_type": "stream",
     "text": [
      "Classification Score for Random Forest on Dev dataset:\n",
      "\n",
      "Dev Score :  0.9999932121014655\n",
      "              precision    recall  f1-score   support\n",
      "\n",
      "           0       1.00      1.00      1.00     74660\n",
      "           1       1.00      1.00      1.00     72661\n",
      "\n",
      "    accuracy                           1.00    147321\n",
      "   macro avg       1.00      1.00      1.00    147321\n",
      "weighted avg       1.00      1.00      1.00    147321\n",
      "\n",
      "[[74659     1]\n",
      " [    0 72661]]\n",
      "--------------------------------------------------------\n",
      "Classification Score for Random Forest on Test dataset:\n",
      "\n",
      "Test Score : 0.7878146126903967\n",
      "              precision    recall  f1-score   support\n",
      "\n",
      "           0       0.78      0.81      0.79     18564\n",
      "           1       0.80      0.76      0.78     18267\n",
      "\n",
      "    accuracy                           0.79     36831\n",
      "   macro avg       0.79      0.79      0.79     36831\n",
      "weighted avg       0.79      0.79      0.79     36831\n",
      "\n",
      "[[15061  3503]\n",
      " [ 4312 13955]]\n"
     ]
    }
   ],
   "source": [
    "print(\"Classification Score for Random Forest on Dev dataset:\\n\")\n",
    "print(\"Dev Score : \", devrf_score)\n",
    "print(classification_report(y_dev, predsDevrf))\n",
    "print(confusion_matrix(y_dev, predsDevrf))\n",
    "print(\"--------------------------------------------------------\")\n",
    "print(\"Classification Score for Random Forest on Test dataset:\\n\")\n",
    "print(\"Test Score :\", testrf_score)\n",
    "print(classification_report(y_test, predsTestrf))\n",
    "print(confusion_matrix(y_test, predsTestrf))"
   ]
  },
  {
   "cell_type": "markdown",
   "metadata": {},
   "source": [
    "**Ans:** Yes, the random forest classification performs better than the decision tree (both pruned and unpruned) classifier by miore than 0.02 points. The accuracy score for DT unpruned is 0.7280008688333197 and for DT pruned is 0.7419293529906872 whereas the accuracy score for Random Forest is nearly 0.7867557220819419.\n",
    "\n",
    "hence **RF > DT Pruned > DT Unpruned**"
   ]
  },
  {
   "cell_type": "markdown",
   "metadata": {
    "id": "7oSKB0j4gi2_"
   },
   "source": [
    "**2.2: Does all trees in the trained random forest model have pure leaves? How would you verify this?**"
   ]
  },
  {
   "cell_type": "markdown",
   "metadata": {},
   "source": [
    "**Ans:** Yes, all the leaves are pure, we can verify this using the below code"
   ]
  },
  {
   "cell_type": "code",
   "execution_count": 35,
   "metadata": {
    "id": "BQ32vtYEl3c8"
   },
   "outputs": [
    {
     "name": "stdout",
     "output_type": "stream",
     "text": [
      "Total Nodes:  2023521\n",
      "Pure Nodes:  2023521\n",
      "Impure Nodes : 0\n"
     ]
    }
   ],
   "source": [
    "### cite : https://stackoverflow.com/questions/55276902/how-can-i-get-information-about-the-trees-in-a-random-forest-in-sklearn\n",
    "\n",
    "rf_trees = model_rf.estimators_\n",
    "leaf = 0\n",
    "for tree in rf_trees:\n",
    "    impure  = 0\n",
    "    tree_obj = tree.tree_\n",
    "    impure_mat = tree_obj.impurity\n",
    "    n_nodes = tree_obj.node_count\n",
    "    \n",
    "    for i in range(n_nodes):\n",
    "        if tree_obj.children_right[i]== -1 or tree_obj.children_left[i]== -1:\n",
    "            if impure_mat[i]!=0:\n",
    "                impure+=1\n",
    "            leaf+=1\n",
    "pure = leaf-impure\n",
    "print(\"Total Nodes: \", leaf)\n",
    "print(\"Pure Nodes: \", pure)\n",
    "print(\"Impure Nodes :\", impure)"
   ]
  },
  {
   "cell_type": "markdown",
   "metadata": {
    "id": "jKtznt_egqD7"
   },
   "source": [
    "**2.3: Assume you want to improve the performance of this model. Also, assume that you had to pick two hyperparameters that you could tune to improve its performance. Which hyperparameters would you choose and why?**\n"
   ]
  },
  {
   "cell_type": "markdown",
   "metadata": {
    "id": "um21KRKDl56w"
   },
   "source": [
    "***Ans:***\n",
    "We can perform parameter tuning in multiple ways. I have picked 3 features:\n",
    "- n_estimators : number of trees built before majority voting which effects the performance\n",
    "- max_samples_split : prevents larger trees and prevents overfitting\n",
    "- bootstrapping : reduces the variance in the tree\n",
    "\n",
    "Hence I will choose these parameters."
   ]
  },
  {
   "cell_type": "markdown",
   "metadata": {
    "id": "XZGgPLucgy0B"
   },
   "source": [
    "**2.4: Now, assume you had to choose up to 5 different values (each) for these two hyperparameters. How would you choose these values that could potentially give you a performance lift?**"
   ]
  },
  {
   "cell_type": "markdown",
   "metadata": {
    "id": "qV-VeSAnl7su"
   },
   "source": [
    "**Ans:** Since the model was taking alot of time during training due to time constraints I have used lesser parameter values for n_estimators, however as we increase the n_estimator value like 100, 200, etc, it will improve the performance and as well as will make the network more denser and complex, similarly on increasing max_samples_split, we can avoid the further growth of the trees hence preventing overfitting."
   ]
  },
  {
   "cell_type": "markdown",
   "metadata": {
    "id": "F4CS841Ag7YQ"
   },
   "source": [
    "**2.5: Perform model selection using the chosen values for the hyperparameters. Use cross-validation for finding the optimal hyperparameters. Report on the optimal hyperparameters. Estimate the performance of the optimal model (model trained with optimal hyperparameters) on test dataset? Has the performance improved over your plain-vanilla random forest model trained in Q2.1?**"
   ]
  },
  {
   "cell_type": "code",
   "execution_count": 36,
   "metadata": {},
   "outputs": [],
   "source": [
    "import random\n",
    "from sklearn.model_selection import GridSearchCV, RandomizedSearchCV"
   ]
  },
  {
   "cell_type": "code",
   "execution_count": 37,
   "metadata": {},
   "outputs": [
    {
     "name": "stdout",
     "output_type": "stream",
     "text": [
      "{'min_samples_split': array([ 10,  32,  55,  77, 100]), 'n_estimators': array([10, 12, 15, 17, 20]), 'bootstrap': [True]}\n"
     ]
    }
   ],
   "source": [
    "parameters = {'min_samples_split': np.linspace(10,100,5,dtype=int),\n",
    "              'n_estimators': np.linspace(10,20,5,dtype=int),\n",
    "             'bootstrap': [True]}\n",
    "\n",
    "print(parameters)"
   ]
  },
  {
   "cell_type": "code",
   "execution_count": 38,
   "metadata": {
    "id": "3BfdHWqRl8uC"
   },
   "outputs": [
    {
     "data": {
      "text/plain": [
       "GridSearchCV(cv=5, estimator=RandomForestClassifier(),\n",
       "             param_grid={'bootstrap': [True],\n",
       "                         'min_samples_split': array([ 10,  32,  55,  77, 100]),\n",
       "                         'n_estimators': array([10, 12, 15, 17, 20])})"
      ]
     },
     "execution_count": 38,
     "metadata": {},
     "output_type": "execute_result"
    }
   ],
   "source": [
    "tune_rf = GridSearchCV(estimator=model_rf,param_grid=parameters,cv=5)\n",
    "tune_rf.fit(X_dev, y_dev)"
   ]
  },
  {
   "cell_type": "code",
   "execution_count": 39,
   "metadata": {},
   "outputs": [
    {
     "name": "stdout",
     "output_type": "stream",
     "text": [
      "Best Score : 0.7883057882311484\n",
      "Best Parameters : {'bootstrap': True, 'min_samples_split': 100, 'n_estimators': 20}\n"
     ]
    }
   ],
   "source": [
    "print(\"Best Score :\", tune_rf.best_score_)\n",
    "print(\"Best Parameters :\",tune_rf.best_params_)"
   ]
  },
  {
   "cell_type": "code",
   "execution_count": 40,
   "metadata": {},
   "outputs": [
    {
     "name": "stdout",
     "output_type": "stream",
     "text": [
      "Score on Dev data for RF using GridSearchCV: 0.8368935861146748\n",
      "Score on Test data for RF using GridSearchCV: 0.7863756075045478\n"
     ]
    }
   ],
   "source": [
    "predsDevrf_tuned = tune_rf.predict(X_dev)\n",
    "predsTestrf_tuned = tune_rf.predict(X_test)\n",
    "\n",
    "print(\"Score on Dev data for RF using GridSearchCV:\", accuracy_score(y_dev, predsDevrf_tuned))\n",
    "print(\"Score on Test data for RF using GridSearchCV:\",accuracy_score(y_test, predsTestrf_tuned))"
   ]
  },
  {
   "cell_type": "markdown",
   "metadata": {
    "id": "GAdrafXxhBJW"
   },
   "source": [
    "**2.6: Can you find the top 3 most important features from the model trained in Q2.5? How do these features compare to the important features that you found from Q1.9? If they differ, which feature set makes more sense?**"
   ]
  },
  {
   "cell_type": "code",
   "execution_count": 42,
   "metadata": {
    "id": "g3QHTi1Og60-"
   },
   "outputs": [
    {
     "data": {
      "image/png": "[encoded data removed]",
      "text/plain": [
       "<Figure size 1080x432 with 1 Axes>"
      ]
     },
     "metadata": {},
     "output_type": "display_data"
    }
   ],
   "source": [
    "feature_imp_rf = tune_rf.best_estimator_.feature_importances_\n",
    "# print(\"Feature importances:\\n{}\".format(feature_imp_rf))\n",
    "final_list_rf = zip(feature_imp_rf,X_dev.columns)\n",
    "res_rf = sorted(final_list_rf, key = lambda x: x[0])\n",
    "res_rf = res_rf[-3:]\n",
    "\n",
    "plt.bar(range(len(res_rf)),[val[0] for val in res_rf],align='center')\n",
    "plt.xticks(range(len(res_rf)),[val[1] for val in res_rf])\n",
    "plt.xticks(rotation=45)\n",
    "plt.xlabel('Features')\n",
    "plt.ylabel('Feature Importance')\n",
    "plt.show()"
   ]
  },
  {
   "cell_type": "markdown",
   "metadata": {},
   "source": [
    "**Ans :** One of the features which is different than what we have recieved in Decision trees, for random forest is *\"qTRoundsPlayed\"*. I believe the features in Random forest makes more sense because they are aggregated over multiple decision trees instead of a single Decision Tree. The features that we will consider will be the following :***\n",
    "- qTRoundsPlayed\n",
    "- qTdeath\n",
    "- qtSurvived"
   ]
  },
  {
   "cell_type": "markdown",
   "metadata": {
    "id": "6ttEhHqqbOZl"
   },
   "source": [
    "## Question 3: Gradient Boosted Trees"
   ]
  },
  {
   "cell_type": "markdown",
   "metadata": {
    "id": "g4q24mXyGCjD"
   },
   "source": [
    "**3.1: Choose three hyperparameters to tune GradientBoostingClassifier and HistGradientBoostingClassifier on the development dataset using 5-fold cross validation. Report on the time taken to do model selection for both the models. Also, report the performance of the test dataset from the optimal models.**"
   ]
  },
  {
   "cell_type": "markdown",
   "metadata": {},
   "source": [
    "#### import important modules"
   ]
  },
  {
   "cell_type": "code",
   "execution_count": 43,
   "metadata": {
    "id": "I3CRf47poZzA"
   },
   "outputs": [
    {
     "name": "stderr",
     "output_type": "stream",
     "text": [
      "/Users/riyagupta/miniforge3/lib/python3.9/site-packages/sklearn/experimental/enable_hist_gradient_boosting.py:16: UserWarning: Since version 1.0, it is not needed to import enable_hist_gradient_boosting anymore. HistGradientBoostingClassifier and HistGradientBoostingRegressor are now stable and can be normally imported from sklearn.ensemble.\n",
      "  warnings.warn(\n",
      "/Users/riyagupta/miniforge3/lib/python3.9/site-packages/xgboost/compat.py:36: FutureWarning: pandas.Int64Index is deprecated and will be removed from pandas in a future version. Use pandas.Index with the appropriate dtype instead.\n",
      "  from pandas import MultiIndex, Int64Index\n"
     ]
    }
   ],
   "source": [
    "from sklearn.ensemble import GradientBoostingClassifier, HistGradientBoostingClassifier\n",
    "from sklearn.experimental import enable_hist_gradient_boosting\n",
    "from sklearn.base import TransformerMixin\n",
    "import xgboost as xgb"
   ]
  },
  {
   "cell_type": "markdown",
   "metadata": {},
   "source": [
    "##### Gradient boosting classifier (with tuning as well)"
   ]
  },
  {
   "cell_type": "code",
   "execution_count": 44,
   "metadata": {
    "id": "Cihn4VkqoaMQ"
   },
   "outputs": [
    {
     "name": "stdout",
     "output_type": "stream",
     "text": [
      "{'n_estimators': [10, 15], 'max_depth': [5, 10], 'learning_rate': [0.001, 0.01]}\n"
     ]
    }
   ],
   "source": [
    "parameters_gb = {'n_estimators': [10,15],\n",
    "                  'max_depth': [5,10],\n",
    "                  'learning_rate' : [0.001,0.01]}\n",
    "print(parameters_gb)"
   ]
  },
  {
   "cell_type": "code",
   "execution_count": 45,
   "metadata": {},
   "outputs": [],
   "source": [
    "import time\n",
    "gbm = GradientBoostingClassifier()"
   ]
  },
  {
   "cell_type": "code",
   "execution_count": 46,
   "metadata": {},
   "outputs": [
    {
     "data": {
      "text/plain": [
       "GradientBoostingClassifier()"
      ]
     },
     "execution_count": 46,
     "metadata": {},
     "output_type": "execute_result"
    }
   ],
   "source": [
    "gbm.fit(X_dev, y_dev)"
   ]
  },
  {
   "cell_type": "code",
   "execution_count": 47,
   "metadata": {},
   "outputs": [],
   "source": [
    "start_time = time.monotonic()\n",
    "tune_gbm = GridSearchCV(estimator=gbm,param_grid=parameters_gb,cv= 5)\n",
    "tune_gbm.fit(X_dev, y_dev)\n",
    "end_time = time.monotonic()"
   ]
  },
  {
   "cell_type": "code",
   "execution_count": 48,
   "metadata": {},
   "outputs": [
    {
     "name": "stdout",
     "output_type": "stream",
     "text": [
      "Best Score GB: 0.7837035896604665\n",
      "Best Parameters GB : {'learning_rate': 0.01, 'max_depth': 10, 'n_estimators': 15}\n"
     ]
    }
   ],
   "source": [
    "print(\"Best Score GB:\", tune_gbm.best_score_)\n",
    "print(\"Best Parameters GB :\",tune_gbm.best_params_)"
   ]
  },
  {
   "cell_type": "code",
   "execution_count": 49,
   "metadata": {},
   "outputs": [
    {
     "name": "stdout",
     "output_type": "stream",
     "text": [
      "Time taken by the GB to run : 0:04:54.469356\n"
     ]
    }
   ],
   "source": [
    "from datetime import timedelta\n",
    "\n",
    "print(\"Time taken by the GB to run :\", timedelta(seconds= end_time - start_time ))"
   ]
  },
  {
   "cell_type": "markdown",
   "metadata": {},
   "source": [
    "##### Hist Gradient boosting classifier (with tuning as well)"
   ]
  },
  {
   "cell_type": "code",
   "execution_count": 50,
   "metadata": {},
   "outputs": [
    {
     "name": "stdout",
     "output_type": "stream",
     "text": [
      "{'l2_regularization': [0.1, 0.55], 'max_depth': [5, 10], 'learning_rate': [0.001, 0.01]}\n"
     ]
    }
   ],
   "source": [
    "parameters_hgb = {'l2_regularization': [0.1,0.55],\n",
    "                  'max_depth': [5,10],\n",
    "                  'learning_rate' : [0.001,0.01]}\n",
    "print(parameters_hgb)"
   ]
  },
  {
   "cell_type": "code",
   "execution_count": 51,
   "metadata": {},
   "outputs": [],
   "source": [
    "hgbm_start_time = time.monotonic()\n",
    "hgbm = HistGradientBoostingClassifier()\n",
    "hgbm.fit(X_dev, y_dev)\n",
    "tune_hgbm = GridSearchCV(estimator=hgbm,param_grid=parameters_hgb,cv=5)\n",
    "tune_hgbm.fit(X_dev, y_dev)\n",
    "hgbm_end_time = time.monotonic()"
   ]
  },
  {
   "cell_type": "code",
   "execution_count": 52,
   "metadata": {},
   "outputs": [
    {
     "name": "stdout",
     "output_type": "stream",
     "text": [
      "Best Score HGB : 0.7858553452950133\n",
      "Best Parameters HGB : {'l2_regularization': 0.1, 'learning_rate': 0.01, 'max_depth': 10}\n"
     ]
    }
   ],
   "source": [
    "print(\"Best Score HGB :\", tune_hgbm.best_score_)\n",
    "print(\"Best Parameters HGB :\",tune_hgbm.best_params_)"
   ]
  },
  {
   "cell_type": "code",
   "execution_count": 53,
   "metadata": {},
   "outputs": [
    {
     "name": "stdout",
     "output_type": "stream",
     "text": [
      "Time taken by the HGB to run : 0:01:14.557747\n"
     ]
    }
   ],
   "source": [
    "print(\"Time taken by the HGB to run :\", timedelta(seconds= hgbm_end_time - hgbm_start_time ))"
   ]
  },
  {
   "cell_type": "markdown",
   "metadata": {},
   "source": [
    "### now we have to get the accuracy score of test dataset for the optimal models"
   ]
  },
  {
   "cell_type": "markdown",
   "metadata": {},
   "source": [
    "### 1. Gradient Boosting\n",
    "\n",
    "- Get the best parameters first and store them in a new variable\n",
    "- Fit the model again on best parameters\n",
    "- Get the accuracy on test and dev data for best paramaters"
   ]
  },
  {
   "cell_type": "code",
   "execution_count": 54,
   "metadata": {},
   "outputs": [],
   "source": [
    "n_estimators = tune_gbm.best_params_['n_estimators']\n",
    "max_depth = tune_gbm.best_params_['max_depth']\n",
    "learning_rate = tune_gbm.best_params_['learning_rate']"
   ]
  },
  {
   "cell_type": "code",
   "execution_count": 55,
   "metadata": {},
   "outputs": [
    {
     "name": "stdout",
     "output_type": "stream",
     "text": [
      "15 10 0.01\n"
     ]
    }
   ],
   "source": [
    "print(n_estimators,max_depth,learning_rate)"
   ]
  },
  {
   "cell_type": "code",
   "execution_count": 56,
   "metadata": {},
   "outputs": [
    {
     "data": {
      "text/plain": [
       "GradientBoostingClassifier(learning_rate=0.01, max_depth=10, n_estimators=15)"
      ]
     },
     "execution_count": 56,
     "metadata": {},
     "output_type": "execute_result"
    }
   ],
   "source": [
    "gb_best = GradientBoostingClassifier(max_depth=max_depth,n_estimators=n_estimators,learning_rate=learning_rate)\n",
    "gb_best.fit(X_dev,y_dev)"
   ]
  },
  {
   "cell_type": "code",
   "execution_count": 57,
   "metadata": {},
   "outputs": [],
   "source": [
    "predsDev_gb_best = gb_best.predict(X_dev)\n",
    "predsTest_gb_best = gb_best.predict(X_test)"
   ]
  },
  {
   "cell_type": "code",
   "execution_count": 58,
   "metadata": {},
   "outputs": [
    {
     "name": "stdout",
     "output_type": "stream",
     "text": [
      "Score on Dev data on best GB: 0.8074205306779074\n",
      "Score on Test data on best GB: 0.7846379408650321\n"
     ]
    }
   ],
   "source": [
    "print(\"Score on Dev data on best GB:\", accuracy_score(y_dev, predsDev_gb_best))\n",
    "print(\"Score on Test data on best GB:\",accuracy_score(y_test, predsTest_gb_best))"
   ]
  },
  {
   "cell_type": "markdown",
   "metadata": {},
   "source": [
    "### 2. Hist Gradient Boosting Classifier\n",
    "\n",
    "- Get the best parameters first and store them in a new variable\n",
    "- Fit the model again on best parameters\n",
    "- Get the accuracy on test and dev data for best paramaters"
   ]
  },
  {
   "cell_type": "code",
   "execution_count": 59,
   "metadata": {},
   "outputs": [],
   "source": [
    "learning_rate_hgb = tune_hgbm.best_params_['learning_rate']\n",
    "max_depth_hgb = tune_hgbm.best_params_['max_depth']\n",
    "l2_regularization_hgb = tune_hgbm.best_params_['l2_regularization']"
   ]
  },
  {
   "cell_type": "code",
   "execution_count": 60,
   "metadata": {},
   "outputs": [
    {
     "name": "stdout",
     "output_type": "stream",
     "text": [
      "0.01 10 0.1\n"
     ]
    }
   ],
   "source": [
    "print(learning_rate_hgb,max_depth_hgb,l2_regularization_hgb)"
   ]
  },
  {
   "cell_type": "code",
   "execution_count": 61,
   "metadata": {},
   "outputs": [
    {
     "data": {
      "text/plain": [
       "HistGradientBoostingClassifier(l2_regularization=0.1, learning_rate=0.01,\n",
       "                               max_depth=10)"
      ]
     },
     "execution_count": 61,
     "metadata": {},
     "output_type": "execute_result"
    }
   ],
   "source": [
    "hgb_best = HistGradientBoostingClassifier(max_depth=max_depth_hgb,l2_regularization=l2_regularization_hgb,learning_rate=learning_rate_hgb)\n",
    "hgb_best.fit(X_dev,y_dev)"
   ]
  },
  {
   "cell_type": "code",
   "execution_count": 62,
   "metadata": {},
   "outputs": [],
   "source": [
    "predsDev_hgb_best = hgb_best.predict(X_dev)\n",
    "predsTest_hgb_best = hgb_best.predict(X_test)"
   ]
  },
  {
   "cell_type": "code",
   "execution_count": 63,
   "metadata": {},
   "outputs": [
    {
     "name": "stdout",
     "output_type": "stream",
     "text": [
      "Score on Dev data on best HGB: 0.7873758663055505\n",
      "Score on Test data on best HGB: 0.7828731231842742\n"
     ]
    }
   ],
   "source": [
    "print(\"Score on Dev data on best HGB:\", accuracy_score(y_dev, predsDev_hgb_best))\n",
    "print(\"Score on Test data on best HGB:\",accuracy_score(y_test, predsTest_hgb_best))"
   ]
  },
  {
   "cell_type": "markdown",
   "metadata": {},
   "source": [
    "**3.2: Train an XGBoost model by tuning 3 hyperparameters using 5 fold cross-validation. Compare the performance of the trained XGBoost model on the test dataset against the performances obtained from 3.1**"
   ]
  },
  {
   "cell_type": "code",
   "execution_count": 64,
   "metadata": {},
   "outputs": [
    {
     "name": "stdout",
     "output_type": "stream",
     "text": [
      "{'n_estimators': [10, 15], 'max_depth': [5, 10], 'learning_rate': [0.001, 0.01]}\n"
     ]
    }
   ],
   "source": [
    "parameters_xgb = {'n_estimators': [10,15],\n",
    "                  'max_depth': [5,10],\n",
    "                  'learning_rate' : [0.001,0.01]}\n",
    "print(parameters_xgb)"
   ]
  },
  {
   "cell_type": "code",
   "execution_count": 66,
   "metadata": {
    "scrolled": true
   },
   "outputs": [
    {
     "name": "stdout",
     "output_type": "stream",
     "text": [
      "[22:43:39] WARNING: /Users/runner/miniforge3/conda-bld/xgboost-split_1645117899018/work/src/learner.cc:1115: Starting in XGBoost 1.3.0, the default evaluation metric used with the objective 'binary:logistic' was changed from 'error' to 'logloss'. Explicitly set eval_metric if you'd like to restore the old behavior.\n",
      "[22:43:45] WARNING: /Users/runner/miniforge3/conda-bld/xgboost-split_1645117899018/work/src/learner.cc:1115: Starting in XGBoost 1.3.0, the default evaluation metric used with the objective 'binary:logistic' was changed from 'error' to 'logloss'. Explicitly set eval_metric if you'd like to restore the old behavior.\n",
      "[22:43:45] WARNING: /Users/runner/miniforge3/conda-bld/xgboost-split_1645117899018/work/src/learner.cc:1115: Starting in XGBoost 1.3.0, the default evaluation metric used with the objective 'binary:logistic' was changed from 'error' to 'logloss'. Explicitly set eval_metric if you'd like to restore the old behavior.\n",
      "[22:43:45] WARNING: /Users/runner/miniforge3/conda-bld/xgboost-split_1645117899018/work/src/learner.cc:1115: Starting in XGBoost 1.3.0, the default evaluation metric used with the objective 'binary:logistic' was changed from 'error' to 'logloss'. Explicitly set eval_metric if you'd like to restore the old behavior.\n",
      "[22:43:46] WARNING: /Users/runner/miniforge3/conda-bld/xgboost-split_1645117899018/work/src/learner.cc:1115: Starting in XGBoost 1.3.0, the default evaluation metric used with the objective 'binary:logistic' was changed from 'error' to 'logloss'. Explicitly set eval_metric if you'd like to restore the old behavior.\n",
      "[22:43:46] WARNING: /Users/runner/miniforge3/conda-bld/xgboost-split_1645117899018/work/src/learner.cc:1115: Starting in XGBoost 1.3.0, the default evaluation metric used with the objective 'binary:logistic' was changed from 'error' to 'logloss'. Explicitly set eval_metric if you'd like to restore the old behavior.\n",
      "[22:43:47] WARNING: /Users/runner/miniforge3/conda-bld/xgboost-split_1645117899018/work/src/learner.cc:1115: Starting in XGBoost 1.3.0, the default evaluation metric used with the objective 'binary:logistic' was changed from 'error' to 'logloss'. Explicitly set eval_metric if you'd like to restore the old behavior.\n",
      "[22:43:47] WARNING: /Users/runner/miniforge3/conda-bld/xgboost-split_1645117899018/work/src/learner.cc:1115: Starting in XGBoost 1.3.0, the default evaluation metric used with the objective 'binary:logistic' was changed from 'error' to 'logloss'. Explicitly set eval_metric if you'd like to restore the old behavior.\n",
      "[22:43:48] WARNING: /Users/runner/miniforge3/conda-bld/xgboost-split_1645117899018/work/src/learner.cc:1115: Starting in XGBoost 1.3.0, the default evaluation metric used with the objective 'binary:logistic' was changed from 'error' to 'logloss'. Explicitly set eval_metric if you'd like to restore the old behavior.\n",
      "[22:43:48] WARNING: /Users/runner/miniforge3/conda-bld/xgboost-split_1645117899018/work/src/learner.cc:1115: Starting in XGBoost 1.3.0, the default evaluation metric used with the objective 'binary:logistic' was changed from 'error' to 'logloss'. Explicitly set eval_metric if you'd like to restore the old behavior.\n",
      "[22:43:49] WARNING: /Users/runner/miniforge3/conda-bld/xgboost-split_1645117899018/work/src/learner.cc:1115: Starting in XGBoost 1.3.0, the default evaluation metric used with the objective 'binary:logistic' was changed from 'error' to 'logloss'. Explicitly set eval_metric if you'd like to restore the old behavior.\n",
      "[22:43:50] WARNING: /Users/runner/miniforge3/conda-bld/xgboost-split_1645117899018/work/src/learner.cc:1115: Starting in XGBoost 1.3.0, the default evaluation metric used with the objective 'binary:logistic' was changed from 'error' to 'logloss'. Explicitly set eval_metric if you'd like to restore the old behavior.\n",
      "[22:43:51] WARNING: /Users/runner/miniforge3/conda-bld/xgboost-split_1645117899018/work/src/learner.cc:1115: Starting in XGBoost 1.3.0, the default evaluation metric used with the objective 'binary:logistic' was changed from 'error' to 'logloss'. Explicitly set eval_metric if you'd like to restore the old behavior.\n",
      "[22:43:52] WARNING: /Users/runner/miniforge3/conda-bld/xgboost-split_1645117899018/work/src/learner.cc:1115: Starting in XGBoost 1.3.0, the default evaluation metric used with the objective 'binary:logistic' was changed from 'error' to 'logloss'. Explicitly set eval_metric if you'd like to restore the old behavior.\n",
      "[22:43:53] WARNING: /Users/runner/miniforge3/conda-bld/xgboost-split_1645117899018/work/src/learner.cc:1115: Starting in XGBoost 1.3.0, the default evaluation metric used with the objective 'binary:logistic' was changed from 'error' to 'logloss'. Explicitly set eval_metric if you'd like to restore the old behavior.\n",
      "[22:43:54] WARNING: /Users/runner/miniforge3/conda-bld/xgboost-split_1645117899018/work/src/learner.cc:1115: Starting in XGBoost 1.3.0, the default evaluation metric used with the objective 'binary:logistic' was changed from 'error' to 'logloss'. Explicitly set eval_metric if you'd like to restore the old behavior.\n",
      "[22:43:55] WARNING: /Users/runner/miniforge3/conda-bld/xgboost-split_1645117899018/work/src/learner.cc:1115: Starting in XGBoost 1.3.0, the default evaluation metric used with the objective 'binary:logistic' was changed from 'error' to 'logloss'. Explicitly set eval_metric if you'd like to restore the old behavior.\n",
      "[22:43:56] WARNING: /Users/runner/miniforge3/conda-bld/xgboost-split_1645117899018/work/src/learner.cc:1115: Starting in XGBoost 1.3.0, the default evaluation metric used with the objective 'binary:logistic' was changed from 'error' to 'logloss'. Explicitly set eval_metric if you'd like to restore the old behavior.\n",
      "[22:43:58] WARNING: /Users/runner/miniforge3/conda-bld/xgboost-split_1645117899018/work/src/learner.cc:1115: Starting in XGBoost 1.3.0, the default evaluation metric used with the objective 'binary:logistic' was changed from 'error' to 'logloss'. Explicitly set eval_metric if you'd like to restore the old behavior.\n",
      "[22:43:59] WARNING: /Users/runner/miniforge3/conda-bld/xgboost-split_1645117899018/work/src/learner.cc:1115: Starting in XGBoost 1.3.0, the default evaluation metric used with the objective 'binary:logistic' was changed from 'error' to 'logloss'. Explicitly set eval_metric if you'd like to restore the old behavior.\n",
      "[22:44:01] WARNING: /Users/runner/miniforge3/conda-bld/xgboost-split_1645117899018/work/src/learner.cc:1115: Starting in XGBoost 1.3.0, the default evaluation metric used with the objective 'binary:logistic' was changed from 'error' to 'logloss'. Explicitly set eval_metric if you'd like to restore the old behavior.\n",
      "[22:44:02] WARNING: /Users/runner/miniforge3/conda-bld/xgboost-split_1645117899018/work/src/learner.cc:1115: Starting in XGBoost 1.3.0, the default evaluation metric used with the objective 'binary:logistic' was changed from 'error' to 'logloss'. Explicitly set eval_metric if you'd like to restore the old behavior.\n",
      "[22:44:03] WARNING: /Users/runner/miniforge3/conda-bld/xgboost-split_1645117899018/work/src/learner.cc:1115: Starting in XGBoost 1.3.0, the default evaluation metric used with the objective 'binary:logistic' was changed from 'error' to 'logloss'. Explicitly set eval_metric if you'd like to restore the old behavior.\n",
      "[22:44:03] WARNING: /Users/runner/miniforge3/conda-bld/xgboost-split_1645117899018/work/src/learner.cc:1115: Starting in XGBoost 1.3.0, the default evaluation metric used with the objective 'binary:logistic' was changed from 'error' to 'logloss'. Explicitly set eval_metric if you'd like to restore the old behavior.\n",
      "[22:44:04] WARNING: /Users/runner/miniforge3/conda-bld/xgboost-split_1645117899018/work/src/learner.cc:1115: Starting in XGBoost 1.3.0, the default evaluation metric used with the objective 'binary:logistic' was changed from 'error' to 'logloss'. Explicitly set eval_metric if you'd like to restore the old behavior.\n",
      "[22:44:04] WARNING: /Users/runner/miniforge3/conda-bld/xgboost-split_1645117899018/work/src/learner.cc:1115: Starting in XGBoost 1.3.0, the default evaluation metric used with the objective 'binary:logistic' was changed from 'error' to 'logloss'. Explicitly set eval_metric if you'd like to restore the old behavior.\n"
     ]
    },
    {
     "name": "stdout",
     "output_type": "stream",
     "text": [
      "[22:44:04] WARNING: /Users/runner/miniforge3/conda-bld/xgboost-split_1645117899018/work/src/learner.cc:1115: Starting in XGBoost 1.3.0, the default evaluation metric used with the objective 'binary:logistic' was changed from 'error' to 'logloss'. Explicitly set eval_metric if you'd like to restore the old behavior.\n",
      "[22:44:05] WARNING: /Users/runner/miniforge3/conda-bld/xgboost-split_1645117899018/work/src/learner.cc:1115: Starting in XGBoost 1.3.0, the default evaluation metric used with the objective 'binary:logistic' was changed from 'error' to 'logloss'. Explicitly set eval_metric if you'd like to restore the old behavior.\n",
      "[22:44:06] WARNING: /Users/runner/miniforge3/conda-bld/xgboost-split_1645117899018/work/src/learner.cc:1115: Starting in XGBoost 1.3.0, the default evaluation metric used with the objective 'binary:logistic' was changed from 'error' to 'logloss'. Explicitly set eval_metric if you'd like to restore the old behavior.\n",
      "[22:44:06] WARNING: /Users/runner/miniforge3/conda-bld/xgboost-split_1645117899018/work/src/learner.cc:1115: Starting in XGBoost 1.3.0, the default evaluation metric used with the objective 'binary:logistic' was changed from 'error' to 'logloss'. Explicitly set eval_metric if you'd like to restore the old behavior.\n",
      "[22:44:07] WARNING: /Users/runner/miniforge3/conda-bld/xgboost-split_1645117899018/work/src/learner.cc:1115: Starting in XGBoost 1.3.0, the default evaluation metric used with the objective 'binary:logistic' was changed from 'error' to 'logloss'. Explicitly set eval_metric if you'd like to restore the old behavior.\n",
      "[22:44:07] WARNING: /Users/runner/miniforge3/conda-bld/xgboost-split_1645117899018/work/src/learner.cc:1115: Starting in XGBoost 1.3.0, the default evaluation metric used with the objective 'binary:logistic' was changed from 'error' to 'logloss'. Explicitly set eval_metric if you'd like to restore the old behavior.\n",
      "[22:44:08] WARNING: /Users/runner/miniforge3/conda-bld/xgboost-split_1645117899018/work/src/learner.cc:1115: Starting in XGBoost 1.3.0, the default evaluation metric used with the objective 'binary:logistic' was changed from 'error' to 'logloss'. Explicitly set eval_metric if you'd like to restore the old behavior.\n",
      "[22:44:09] WARNING: /Users/runner/miniforge3/conda-bld/xgboost-split_1645117899018/work/src/learner.cc:1115: Starting in XGBoost 1.3.0, the default evaluation metric used with the objective 'binary:logistic' was changed from 'error' to 'logloss'. Explicitly set eval_metric if you'd like to restore the old behavior.\n",
      "[22:44:11] WARNING: /Users/runner/miniforge3/conda-bld/xgboost-split_1645117899018/work/src/learner.cc:1115: Starting in XGBoost 1.3.0, the default evaluation metric used with the objective 'binary:logistic' was changed from 'error' to 'logloss'. Explicitly set eval_metric if you'd like to restore the old behavior.\n",
      "[22:44:12] WARNING: /Users/runner/miniforge3/conda-bld/xgboost-split_1645117899018/work/src/learner.cc:1115: Starting in XGBoost 1.3.0, the default evaluation metric used with the objective 'binary:logistic' was changed from 'error' to 'logloss'. Explicitly set eval_metric if you'd like to restore the old behavior.\n",
      "[22:44:13] WARNING: /Users/runner/miniforge3/conda-bld/xgboost-split_1645117899018/work/src/learner.cc:1115: Starting in XGBoost 1.3.0, the default evaluation metric used with the objective 'binary:logistic' was changed from 'error' to 'logloss'. Explicitly set eval_metric if you'd like to restore the old behavior.\n",
      "[22:44:14] WARNING: /Users/runner/miniforge3/conda-bld/xgboost-split_1645117899018/work/src/learner.cc:1115: Starting in XGBoost 1.3.0, the default evaluation metric used with the objective 'binary:logistic' was changed from 'error' to 'logloss'. Explicitly set eval_metric if you'd like to restore the old behavior.\n",
      "[22:44:16] WARNING: /Users/runner/miniforge3/conda-bld/xgboost-split_1645117899018/work/src/learner.cc:1115: Starting in XGBoost 1.3.0, the default evaluation metric used with the objective 'binary:logistic' was changed from 'error' to 'logloss'. Explicitly set eval_metric if you'd like to restore the old behavior.\n",
      "[22:44:17] WARNING: /Users/runner/miniforge3/conda-bld/xgboost-split_1645117899018/work/src/learner.cc:1115: Starting in XGBoost 1.3.0, the default evaluation metric used with the objective 'binary:logistic' was changed from 'error' to 'logloss'. Explicitly set eval_metric if you'd like to restore the old behavior.\n",
      "[22:44:19] WARNING: /Users/runner/miniforge3/conda-bld/xgboost-split_1645117899018/work/src/learner.cc:1115: Starting in XGBoost 1.3.0, the default evaluation metric used with the objective 'binary:logistic' was changed from 'error' to 'logloss'. Explicitly set eval_metric if you'd like to restore the old behavior.\n",
      "[22:44:20] WARNING: /Users/runner/miniforge3/conda-bld/xgboost-split_1645117899018/work/src/learner.cc:1115: Starting in XGBoost 1.3.0, the default evaluation metric used with the objective 'binary:logistic' was changed from 'error' to 'logloss'. Explicitly set eval_metric if you'd like to restore the old behavior.\n"
     ]
    }
   ],
   "source": [
    "import warnings\n",
    "warnings.filterwarnings('ignore')\n",
    "\n",
    "xgb_start_time = time.monotonic()\n",
    "xgb_model = xgb.XGBClassifier()\n",
    "xgb_model.fit(X_dev,y_dev)\n",
    "tune_xgb = GridSearchCV(estimator=xgb_model,param_grid=parameters_xgb,cv=5)\n",
    "tune_xgb.fit(X_dev, y_dev)\n",
    "xgb_end_time = time.monotonic()"
   ]
  },
  {
   "cell_type": "code",
   "execution_count": 67,
   "metadata": {},
   "outputs": [
    {
     "name": "stdout",
     "output_type": "stream",
     "text": [
      "Best Score XGB : 0.7860589905445188\n",
      "Best Parameters XGB : {'learning_rate': 0.01, 'max_depth': 10, 'n_estimators': 15}\n"
     ]
    }
   ],
   "source": [
    "print(\"Best Score XGB :\", tune_xgb.best_score_)\n",
    "print(\"Best Parameters XGB :\",tune_xgb.best_params_)"
   ]
  },
  {
   "cell_type": "code",
   "execution_count": 68,
   "metadata": {},
   "outputs": [
    {
     "name": "stdout",
     "output_type": "stream",
     "text": [
      "Time taken by the XGBoost normal and tuned to run : 0:00:42.559885\n"
     ]
    }
   ],
   "source": [
    "print(\"Time taken by the XGBoost normal and tuned to run :\", timedelta(seconds= xgb_end_time - xgb_start_time ))"
   ]
  },
  {
   "cell_type": "code",
   "execution_count": 69,
   "metadata": {},
   "outputs": [],
   "source": [
    "n_estimators_xgb = tune_xgb.best_params_['n_estimators']\n",
    "max_depth_xgb = tune_xgb.best_params_['max_depth']\n",
    "learning_rate_xgb = tune_xgb.best_params_['learning_rate']"
   ]
  },
  {
   "cell_type": "code",
   "execution_count": 70,
   "metadata": {},
   "outputs": [
    {
     "name": "stdout",
     "output_type": "stream",
     "text": [
      "[22:46:48] WARNING: /Users/runner/miniforge3/conda-bld/xgboost-split_1645117899018/work/src/learner.cc:1115: Starting in XGBoost 1.3.0, the default evaluation metric used with the objective 'binary:logistic' was changed from 'error' to 'logloss'. Explicitly set eval_metric if you'd like to restore the old behavior.\n"
     ]
    }
   ],
   "source": [
    "best_xgb = xgb.XGBClassifier(max_depth=max_depth_xgb,n_estimators=n_estimators_xgb,learning_rate=learning_rate_xgb)\n",
    "best_xgb.fit(X_dev,y_dev)\n",
    "\n",
    "predsDev_xgb_best = best_xgb.predict(X_dev)\n",
    "predsTest_xgb_best = best_xgb.predict(X_test)"
   ]
  },
  {
   "cell_type": "code",
   "execution_count": 71,
   "metadata": {},
   "outputs": [
    {
     "name": "stdout",
     "output_type": "stream",
     "text": [
      "Score on Development data on best XGB: 0.8071558026350623\n",
      "Score on Test data on best XGB: 0.7864570606282751\n"
     ]
    }
   ],
   "source": [
    "print(\"Score on Development data on best XGB:\", accuracy_score(y_dev, predsDev_xgb_best))\n",
    "print(\"Score on Test data on best XGB:\",accuracy_score(y_test, predsTest_xgb_best))"
   ]
  },
  {
   "cell_type": "markdown",
   "metadata": {},
   "source": [
    "#### Ans : The performance of XGBoost > Gradient Boost > Histogram-based Gradient Boosting"
   ]
  },
  {
   "cell_type": "markdown",
   "metadata": {},
   "source": [
    "The performance has an average of 0.78, this can be increased with the parameter tuning(hyperparamters can be changed), but due to the time constraints I have kept the minimal values for n_estimators. The values show the better performance on XGBoost. The following are the performances:\n",
    "- XGBoost : 0.7864570606282751\n",
    "- Histogram-based Gradient Boosting : 0.7828731231842742, and \n",
    "- Gradient Boost : 0.7846379408650321\n",
    "\n",
    "Hence as you can see, XGBoost performs much better than the other models from Q3.1\n"
   ]
  },
  {
   "cell_type": "markdown",
   "metadata": {
    "id": "EvUUJPhkhneh"
   },
   "source": [
    "**3.3: Compare the results on the test dataset from XGBoost, HistGradientBoostingClassifier, GradientBoostingClassifier with results from Q1.6 and Q2.1. Which model tends to perform the best and which one does the worst? How big is the difference between the two? Which model would you choose among these 5 models and why?**"
   ]
  },
  {
   "cell_type": "code",
   "execution_count": 72,
   "metadata": {
    "id": "KFlxuwWMoa35"
   },
   "outputs": [
    {
     "name": "stdout",
     "output_type": "stream",
     "text": [
      "Score on Test data on Unpruned Decision Tree : 0.7261545980288344\n",
      "Score on Test data on Pruned Decision Tree : 0.7419293529906872\n",
      "Score on Test data on Random forest : 0.7878146126903967\n",
      "Score on Test data on best GB: 0.7846379408650321\n",
      "Score on Test data on best HGB: 0.7828731231842742\n",
      "Score on Test data on best XGB: 0.7864570606282751\n"
     ]
    }
   ],
   "source": [
    "print(\"Score on Test data on Unpruned Decision Tree :\", test_score)\n",
    "print(\"Score on Test data on Pruned Decision Tree :\", test_score_pruned)\n",
    "print(\"Score on Test data on Random forest :\", testrf_score)\n",
    "print(\"Score on Test data on best GB:\", accuracy_score(y_test, predsTest_gb_best))\n",
    "print(\"Score on Test data on best HGB:\", accuracy_score(y_test, predsTest_hgb_best))\n",
    "print(\"Score on Test data on best XGB:\", accuracy_score(y_test, predsTest_xgb_best))"
   ]
  },
  {
   "cell_type": "markdown",
   "metadata": {},
   "source": [
    "#### Random Forest > XGBoost > Gradient Boost > Histogram-based Gradient Boosting > Pruned Decision Tree > Unpruned Decision Tree (Pure)"
   ]
  },
  {
   "cell_type": "markdown",
   "metadata": {},
   "source": [
    "**Ans:** Random forest performs better than the rest of the models and the unpruned Decision Tree performs the worst. As you can see the value of XGBoost is almost near to the accuracy score of Random Forest. Additonally, on every run the value of XGBoost was fluctuating depending on the parameter tuning. \n",
    "I will choose XGBoost over Random Forest irrespective of this miniscule difference because XGBoost is faster and gives value to functional space. It is also regularized and performs better in general, hence my general approach would be to choose it over Random Forest Classifier. \n",
    "\n",
    "The difference between XGBoost and Random Forest is <0.02%"
   ]
  },
  {
   "cell_type": "markdown",
   "metadata": {
    "id": "bLzaOv8khtiz"
   },
   "source": [
    "**3.4: Can you list the top 3 features from the trained XGBoost model? How do they differ from the features found from Random Forest and Decision Tree? Which one would you trust the most?**"
   ]
  },
  {
   "cell_type": "code",
   "execution_count": 73,
   "metadata": {
    "id": "Id887PsdobRs"
   },
   "outputs": [
    {
     "data": {
      "image/png": "[encoded data removed]",
      "text/plain": [
       "<Figure size 1080x432 with 1 Axes>"
      ]
     },
     "metadata": {},
     "output_type": "display_data"
    }
   ],
   "source": [
    "feature_imp_xgb = tune_xgb.best_estimator_.feature_importances_\n",
    "final_list_xgb = zip(feature_imp_xgb,X_dev.columns)\n",
    "res_xgb = sorted(final_list_xgb, key = lambda x: x[0])\n",
    "res_xgb = res_xgb[-3:]\n",
    "plt.bar(range(len(res_xgb)),[val[0] for val in res_xgb],align='center')\n",
    "plt.xticks(range(len(res_xgb)),[val[1] for val in res_xgb])\n",
    "plt.xticks(rotation=45)\n",
    "plt.xlabel('Top 3 Features')\n",
    "plt.ylabel('Feature Importance')\n",
    "plt.show()"
   ]
  },
  {
   "cell_type": "markdown",
   "metadata": {},
   "source": [
    "**Ans :** \n",
    "One of the features in this visualization are different that is **XGB has \"qtTrade\"** but in **decision trees we have \"qtShots\"** and in **random forest we have \"qTRoundsPlayed\"**, rest are same. Additonally, the scale of \"qtSurvived\" is different in all the cases, here it is more than 0.6. I believe the features in XGBoost makes more sense since the subset or modified sample is not taken into consideration like decision trees or random forest but the feature as a whole is given importance. We will consider these features: \n",
    "- qtTrade\n",
    "- qTdeath\n",
    "- qtSurvived"
   ]
  },
  {
   "cell_type": "markdown",
   "metadata": {
    "id": "u13rx2hyhz3t"
   },
   "source": [
    "**3.5: Can you choose the top 7 features (as given by feature importances from XGBoost) and repeat Q3.2? Does this model perform better than the one trained in Q3.2? Why or why not is the performance better?**"
   ]
  },
  {
   "cell_type": "markdown",
   "metadata": {},
   "source": [
    "#### 7 features"
   ]
  },
  {
   "cell_type": "code",
   "execution_count": 74,
   "metadata": {
    "id": "uMum69ypobrp"
   },
   "outputs": [
    {
     "data": {
      "image/png": "[encoded data removed]",
      "text/plain": [
       "<Figure size 1080x432 with 1 Axes>"
      ]
     },
     "metadata": {},
     "output_type": "display_data"
    }
   ],
   "source": [
    "feature_imp_xgb = tune_xgb.best_estimator_.feature_importances_\n",
    "final_list_xgb = zip(feature_imp_xgb,X_dev.columns)\n",
    "res_xgb = sorted(final_list_xgb, key = lambda x: x[0])\n",
    "res_xgb_7 = res_xgb[-7:]\n",
    "\n",
    "plt.bar(range(len(res_xgb_7)),[val[0] for val in res_xgb_7],align='center')\n",
    "plt.xticks(range(len(res_xgb_7)),[val[1] for val in res_xgb_7])\n",
    "plt.xticks(rotation=45)\n",
    "plt.show()"
   ]
  },
  {
   "cell_type": "code",
   "execution_count": 77,
   "metadata": {},
   "outputs": [
    {
     "name": "stdout",
     "output_type": "stream",
     "text": [
      "[(0.010979449, 'qtRoundsPlayed'), (0.012762572, 'qtFirstKill'), (0.017620524, 'qtLastAlive'), (0.020249313, 'qtAssist'), (0.035073925, 'qtTrade'), (0.15532872, 'qtDeath'), (0.64698017, 'qtSurvived')]\n",
      "7 features are:  ['qtRoundsPlayed', 'qtFirstKill', 'qtLastAlive', 'qtAssist', 'qtTrade', 'qtDeath', 'qtSurvived']\n"
     ]
    }
   ],
   "source": [
    "print(res_xgb_7)\n",
    "xgb_7 = [val[1] for val in res_xgb_7]\n",
    "print(\"7 features are: \",xgb_7)"
   ]
  },
  {
   "cell_type": "code",
   "execution_count": 78,
   "metadata": {},
   "outputs": [],
   "source": [
    "###copy the original splitted data to prevent conflicts\n",
    "\n",
    "X_dev_xgb = X_dev.copy()\n",
    "X_test_xgb = X_test.copy()\n",
    "y_dev_xgb = y_dev.copy()\n",
    "y_test_xgb = y_test.copy()\n",
    "\n",
    "xgb_7_data_dev = X_dev_xgb[xgb_7]\n",
    "xgb_7_data_test = X_test_xgb[xgb_7]"
   ]
  },
  {
   "cell_type": "code",
   "execution_count": 80,
   "metadata": {},
   "outputs": [
    {
     "data": {
      "text/html": [
       "<div>\n",
       "<style scoped>\n",
       "    .dataframe tbody tr th:only-of-type {\n",
       "        vertical-align: middle;\n",
       "    }\n",
       "\n",
       "    .dataframe tbody tr th {\n",
       "        vertical-align: top;\n",
       "    }\n",
       "\n",
       "    .dataframe thead th {\n",
       "        text-align: right;\n",
       "    }\n",
       "</style>\n",
       "<table border=\"1\" class=\"dataframe\">\n",
       "  <thead>\n",
       "    <tr style=\"text-align: right;\">\n",
       "      <th></th>\n",
       "      <th>qtRoundsPlayed</th>\n",
       "      <th>qtFirstKill</th>\n",
       "      <th>qtLastAlive</th>\n",
       "      <th>qtAssist</th>\n",
       "      <th>qtTrade</th>\n",
       "      <th>qtDeath</th>\n",
       "      <th>qtSurvived</th>\n",
       "    </tr>\n",
       "  </thead>\n",
       "  <tbody>\n",
       "    <tr>\n",
       "      <th>13338</th>\n",
       "      <td>22</td>\n",
       "      <td>3</td>\n",
       "      <td>0.0</td>\n",
       "      <td>2</td>\n",
       "      <td>1.0</td>\n",
       "      <td>13</td>\n",
       "      <td>9.0</td>\n",
       "    </tr>\n",
       "    <tr>\n",
       "      <th>31975</th>\n",
       "      <td>30</td>\n",
       "      <td>5</td>\n",
       "      <td>1.0</td>\n",
       "      <td>6</td>\n",
       "      <td>4.0</td>\n",
       "      <td>22</td>\n",
       "      <td>7.0</td>\n",
       "    </tr>\n",
       "    <tr>\n",
       "      <th>126175</th>\n",
       "      <td>24</td>\n",
       "      <td>3</td>\n",
       "      <td>0.0</td>\n",
       "      <td>1</td>\n",
       "      <td>3.0</td>\n",
       "      <td>21</td>\n",
       "      <td>3.0</td>\n",
       "    </tr>\n",
       "    <tr>\n",
       "      <th>69258</th>\n",
       "      <td>28</td>\n",
       "      <td>2</td>\n",
       "      <td>1.0</td>\n",
       "      <td>7</td>\n",
       "      <td>4.0</td>\n",
       "      <td>17</td>\n",
       "      <td>10.0</td>\n",
       "    </tr>\n",
       "    <tr>\n",
       "      <th>107408</th>\n",
       "      <td>22</td>\n",
       "      <td>1</td>\n",
       "      <td>2.0</td>\n",
       "      <td>5</td>\n",
       "      <td>2.0</td>\n",
       "      <td>17</td>\n",
       "      <td>3.0</td>\n",
       "    </tr>\n",
       "    <tr>\n",
       "      <th>...</th>\n",
       "      <td>...</td>\n",
       "      <td>...</td>\n",
       "      <td>...</td>\n",
       "      <td>...</td>\n",
       "      <td>...</td>\n",
       "      <td>...</td>\n",
       "      <td>...</td>\n",
       "    </tr>\n",
       "    <tr>\n",
       "      <th>121974</th>\n",
       "      <td>21</td>\n",
       "      <td>1</td>\n",
       "      <td>0.0</td>\n",
       "      <td>2</td>\n",
       "      <td>1.0</td>\n",
       "      <td>19</td>\n",
       "      <td>2.0</td>\n",
       "    </tr>\n",
       "    <tr>\n",
       "      <th>124605</th>\n",
       "      <td>24</td>\n",
       "      <td>4</td>\n",
       "      <td>0.0</td>\n",
       "      <td>7</td>\n",
       "      <td>1.0</td>\n",
       "      <td>16</td>\n",
       "      <td>8.0</td>\n",
       "    </tr>\n",
       "    <tr>\n",
       "      <th>20463</th>\n",
       "      <td>25</td>\n",
       "      <td>1</td>\n",
       "      <td>0.0</td>\n",
       "      <td>2</td>\n",
       "      <td>3.0</td>\n",
       "      <td>21</td>\n",
       "      <td>4.0</td>\n",
       "    </tr>\n",
       "    <tr>\n",
       "      <th>18638</th>\n",
       "      <td>30</td>\n",
       "      <td>3</td>\n",
       "      <td>2.0</td>\n",
       "      <td>5</td>\n",
       "      <td>2.0</td>\n",
       "      <td>20</td>\n",
       "      <td>8.0</td>\n",
       "    </tr>\n",
       "    <tr>\n",
       "      <th>35683</th>\n",
       "      <td>25</td>\n",
       "      <td>2</td>\n",
       "      <td>1.0</td>\n",
       "      <td>5</td>\n",
       "      <td>2.0</td>\n",
       "      <td>12</td>\n",
       "      <td>12.0</td>\n",
       "    </tr>\n",
       "  </tbody>\n",
       "</table>\n",
       "<p>147321 rows × 7 columns</p>\n",
       "</div>"
      ],
      "text/plain": [
       "        qtRoundsPlayed  qtFirstKill  qtLastAlive  qtAssist  qtTrade  qtDeath  \\\n",
       "13338               22            3          0.0         2      1.0       13   \n",
       "31975               30            5          1.0         6      4.0       22   \n",
       "126175              24            3          0.0         1      3.0       21   \n",
       "69258               28            2          1.0         7      4.0       17   \n",
       "107408              22            1          2.0         5      2.0       17   \n",
       "...                ...          ...          ...       ...      ...      ...   \n",
       "121974              21            1          0.0         2      1.0       19   \n",
       "124605              24            4          0.0         7      1.0       16   \n",
       "20463               25            1          0.0         2      3.0       21   \n",
       "18638               30            3          2.0         5      2.0       20   \n",
       "35683               25            2          1.0         5      2.0       12   \n",
       "\n",
       "        qtSurvived  \n",
       "13338          9.0  \n",
       "31975          7.0  \n",
       "126175         3.0  \n",
       "69258         10.0  \n",
       "107408         3.0  \n",
       "...            ...  \n",
       "121974         2.0  \n",
       "124605         8.0  \n",
       "20463          4.0  \n",
       "18638          8.0  \n",
       "35683         12.0  \n",
       "\n",
       "[147321 rows x 7 columns]"
      ]
     },
     "execution_count": 80,
     "metadata": {},
     "output_type": "execute_result"
    }
   ],
   "source": [
    "xgb_7_data_dev"
   ]
  },
  {
   "cell_type": "code",
   "execution_count": 81,
   "metadata": {},
   "outputs": [
    {
     "data": {
      "text/html": [
       "<div>\n",
       "<style scoped>\n",
       "    .dataframe tbody tr th:only-of-type {\n",
       "        vertical-align: middle;\n",
       "    }\n",
       "\n",
       "    .dataframe tbody tr th {\n",
       "        vertical-align: top;\n",
       "    }\n",
       "\n",
       "    .dataframe thead th {\n",
       "        text-align: right;\n",
       "    }\n",
       "</style>\n",
       "<table border=\"1\" class=\"dataframe\">\n",
       "  <thead>\n",
       "    <tr style=\"text-align: right;\">\n",
       "      <th></th>\n",
       "      <th>qtRoundsPlayed</th>\n",
       "      <th>qtFirstKill</th>\n",
       "      <th>qtLastAlive</th>\n",
       "      <th>qtAssist</th>\n",
       "      <th>qtTrade</th>\n",
       "      <th>qtDeath</th>\n",
       "      <th>qtSurvived</th>\n",
       "    </tr>\n",
       "  </thead>\n",
       "  <tbody>\n",
       "    <tr>\n",
       "      <th>137470</th>\n",
       "      <td>23</td>\n",
       "      <td>2</td>\n",
       "      <td>1.0</td>\n",
       "      <td>5</td>\n",
       "      <td>3.0</td>\n",
       "      <td>13</td>\n",
       "      <td>9.0</td>\n",
       "    </tr>\n",
       "    <tr>\n",
       "      <th>149132</th>\n",
       "      <td>21</td>\n",
       "      <td>2</td>\n",
       "      <td>0.0</td>\n",
       "      <td>6</td>\n",
       "      <td>2.0</td>\n",
       "      <td>15</td>\n",
       "      <td>6.0</td>\n",
       "    </tr>\n",
       "    <tr>\n",
       "      <th>71605</th>\n",
       "      <td>27</td>\n",
       "      <td>1</td>\n",
       "      <td>2.0</td>\n",
       "      <td>4</td>\n",
       "      <td>6.0</td>\n",
       "      <td>21</td>\n",
       "      <td>4.0</td>\n",
       "    </tr>\n",
       "    <tr>\n",
       "      <th>110669</th>\n",
       "      <td>25</td>\n",
       "      <td>2</td>\n",
       "      <td>1.0</td>\n",
       "      <td>3</td>\n",
       "      <td>7.0</td>\n",
       "      <td>19</td>\n",
       "      <td>5.0</td>\n",
       "    </tr>\n",
       "    <tr>\n",
       "      <th>65391</th>\n",
       "      <td>28</td>\n",
       "      <td>0</td>\n",
       "      <td>1.0</td>\n",
       "      <td>6</td>\n",
       "      <td>7.0</td>\n",
       "      <td>19</td>\n",
       "      <td>7.0</td>\n",
       "    </tr>\n",
       "    <tr>\n",
       "      <th>...</th>\n",
       "      <td>...</td>\n",
       "      <td>...</td>\n",
       "      <td>...</td>\n",
       "      <td>...</td>\n",
       "      <td>...</td>\n",
       "      <td>...</td>\n",
       "      <td>...</td>\n",
       "    </tr>\n",
       "    <tr>\n",
       "      <th>109188</th>\n",
       "      <td>35</td>\n",
       "      <td>4</td>\n",
       "      <td>0.0</td>\n",
       "      <td>4</td>\n",
       "      <td>9.0</td>\n",
       "      <td>25</td>\n",
       "      <td>10.0</td>\n",
       "    </tr>\n",
       "    <tr>\n",
       "      <th>73288</th>\n",
       "      <td>24</td>\n",
       "      <td>3</td>\n",
       "      <td>0.0</td>\n",
       "      <td>5</td>\n",
       "      <td>1.0</td>\n",
       "      <td>13</td>\n",
       "      <td>9.0</td>\n",
       "    </tr>\n",
       "    <tr>\n",
       "      <th>93604</th>\n",
       "      <td>29</td>\n",
       "      <td>0</td>\n",
       "      <td>0.0</td>\n",
       "      <td>3</td>\n",
       "      <td>4.0</td>\n",
       "      <td>25</td>\n",
       "      <td>4.0</td>\n",
       "    </tr>\n",
       "    <tr>\n",
       "      <th>93865</th>\n",
       "      <td>24</td>\n",
       "      <td>2</td>\n",
       "      <td>1.0</td>\n",
       "      <td>3</td>\n",
       "      <td>3.0</td>\n",
       "      <td>22</td>\n",
       "      <td>1.0</td>\n",
       "    </tr>\n",
       "    <tr>\n",
       "      <th>41126</th>\n",
       "      <td>25</td>\n",
       "      <td>1</td>\n",
       "      <td>1.0</td>\n",
       "      <td>3</td>\n",
       "      <td>3.0</td>\n",
       "      <td>18</td>\n",
       "      <td>5.0</td>\n",
       "    </tr>\n",
       "  </tbody>\n",
       "</table>\n",
       "<p>36831 rows × 7 columns</p>\n",
       "</div>"
      ],
      "text/plain": [
       "        qtRoundsPlayed  qtFirstKill  qtLastAlive  qtAssist  qtTrade  qtDeath  \\\n",
       "137470              23            2          1.0         5      3.0       13   \n",
       "149132              21            2          0.0         6      2.0       15   \n",
       "71605               27            1          2.0         4      6.0       21   \n",
       "110669              25            2          1.0         3      7.0       19   \n",
       "65391               28            0          1.0         6      7.0       19   \n",
       "...                ...          ...          ...       ...      ...      ...   \n",
       "109188              35            4          0.0         4      9.0       25   \n",
       "73288               24            3          0.0         5      1.0       13   \n",
       "93604               29            0          0.0         3      4.0       25   \n",
       "93865               24            2          1.0         3      3.0       22   \n",
       "41126               25            1          1.0         3      3.0       18   \n",
       "\n",
       "        qtSurvived  \n",
       "137470         9.0  \n",
       "149132         6.0  \n",
       "71605          4.0  \n",
       "110669         5.0  \n",
       "65391          7.0  \n",
       "...            ...  \n",
       "109188        10.0  \n",
       "73288          9.0  \n",
       "93604          4.0  \n",
       "93865          1.0  \n",
       "41126          5.0  \n",
       "\n",
       "[36831 rows x 7 columns]"
      ]
     },
     "execution_count": 81,
     "metadata": {},
     "output_type": "execute_result"
    }
   ],
   "source": [
    "xgb_7_data_test"
   ]
  },
  {
   "cell_type": "code",
   "execution_count": 82,
   "metadata": {},
   "outputs": [
    {
     "name": "stdout",
     "output_type": "stream",
     "text": [
      "{'n_estimators': [10, 15], 'max_depth': [5, 10], 'learning_rate': [0.001, 0.01]}\n"
     ]
    }
   ],
   "source": [
    "parameters_xgb_7 = {'n_estimators': [10,15],\n",
    "                  'max_depth': [5,10],\n",
    "                  'learning_rate' : [0.001,0.01]}\n",
    "print(parameters_xgb_7)"
   ]
  },
  {
   "cell_type": "code",
   "execution_count": 83,
   "metadata": {
    "scrolled": true
   },
   "outputs": [
    {
     "name": "stdout",
     "output_type": "stream",
     "text": [
      "[23:10:54] WARNING: /Users/runner/miniforge3/conda-bld/xgboost-split_1645117899018/work/src/learner.cc:1115: Starting in XGBoost 1.3.0, the default evaluation metric used with the objective 'binary:logistic' was changed from 'error' to 'logloss'. Explicitly set eval_metric if you'd like to restore the old behavior.\n",
      "[23:10:59] WARNING: /Users/runner/miniforge3/conda-bld/xgboost-split_1645117899018/work/src/learner.cc:1115: Starting in XGBoost 1.3.0, the default evaluation metric used with the objective 'binary:logistic' was changed from 'error' to 'logloss'. Explicitly set eval_metric if you'd like to restore the old behavior.\n",
      "[23:11:00] WARNING: /Users/runner/miniforge3/conda-bld/xgboost-split_1645117899018/work/src/learner.cc:1115: Starting in XGBoost 1.3.0, the default evaluation metric used with the objective 'binary:logistic' was changed from 'error' to 'logloss'. Explicitly set eval_metric if you'd like to restore the old behavior.\n",
      "[23:11:00] WARNING: /Users/runner/miniforge3/conda-bld/xgboost-split_1645117899018/work/src/learner.cc:1115: Starting in XGBoost 1.3.0, the default evaluation metric used with the objective 'binary:logistic' was changed from 'error' to 'logloss'. Explicitly set eval_metric if you'd like to restore the old behavior.\n",
      "[23:11:01] WARNING: /Users/runner/miniforge3/conda-bld/xgboost-split_1645117899018/work/src/learner.cc:1115: Starting in XGBoost 1.3.0, the default evaluation metric used with the objective 'binary:logistic' was changed from 'error' to 'logloss'. Explicitly set eval_metric if you'd like to restore the old behavior.\n",
      "[23:11:01] WARNING: /Users/runner/miniforge3/conda-bld/xgboost-split_1645117899018/work/src/learner.cc:1115: Starting in XGBoost 1.3.0, the default evaluation metric used with the objective 'binary:logistic' was changed from 'error' to 'logloss'. Explicitly set eval_metric if you'd like to restore the old behavior.\n",
      "[23:11:01] WARNING: /Users/runner/miniforge3/conda-bld/xgboost-split_1645117899018/work/src/learner.cc:1115: Starting in XGBoost 1.3.0, the default evaluation metric used with the objective 'binary:logistic' was changed from 'error' to 'logloss'. Explicitly set eval_metric if you'd like to restore the old behavior.\n",
      "[23:11:02] WARNING: /Users/runner/miniforge3/conda-bld/xgboost-split_1645117899018/work/src/learner.cc:1115: Starting in XGBoost 1.3.0, the default evaluation metric used with the objective 'binary:logistic' was changed from 'error' to 'logloss'. Explicitly set eval_metric if you'd like to restore the old behavior.\n",
      "[23:11:02] WARNING: /Users/runner/miniforge3/conda-bld/xgboost-split_1645117899018/work/src/learner.cc:1115: Starting in XGBoost 1.3.0, the default evaluation metric used with the objective 'binary:logistic' was changed from 'error' to 'logloss'. Explicitly set eval_metric if you'd like to restore the old behavior.\n",
      "[23:11:03] WARNING: /Users/runner/miniforge3/conda-bld/xgboost-split_1645117899018/work/src/learner.cc:1115: Starting in XGBoost 1.3.0, the default evaluation metric used with the objective 'binary:logistic' was changed from 'error' to 'logloss'. Explicitly set eval_metric if you'd like to restore the old behavior.\n",
      "[23:11:03] WARNING: /Users/runner/miniforge3/conda-bld/xgboost-split_1645117899018/work/src/learner.cc:1115: Starting in XGBoost 1.3.0, the default evaluation metric used with the objective 'binary:logistic' was changed from 'error' to 'logloss'. Explicitly set eval_metric if you'd like to restore the old behavior.\n",
      "[23:11:04] WARNING: /Users/runner/miniforge3/conda-bld/xgboost-split_1645117899018/work/src/learner.cc:1115: Starting in XGBoost 1.3.0, the default evaluation metric used with the objective 'binary:logistic' was changed from 'error' to 'logloss'. Explicitly set eval_metric if you'd like to restore the old behavior.\n",
      "[23:11:05] WARNING: /Users/runner/miniforge3/conda-bld/xgboost-split_1645117899018/work/src/learner.cc:1115: Starting in XGBoost 1.3.0, the default evaluation metric used with the objective 'binary:logistic' was changed from 'error' to 'logloss'. Explicitly set eval_metric if you'd like to restore the old behavior.\n",
      "[23:11:06] WARNING: /Users/runner/miniforge3/conda-bld/xgboost-split_1645117899018/work/src/learner.cc:1115: Starting in XGBoost 1.3.0, the default evaluation metric used with the objective 'binary:logistic' was changed from 'error' to 'logloss'. Explicitly set eval_metric if you'd like to restore the old behavior.\n",
      "[23:11:07] WARNING: /Users/runner/miniforge3/conda-bld/xgboost-split_1645117899018/work/src/learner.cc:1115: Starting in XGBoost 1.3.0, the default evaluation metric used with the objective 'binary:logistic' was changed from 'error' to 'logloss'. Explicitly set eval_metric if you'd like to restore the old behavior.\n",
      "[23:11:08] WARNING: /Users/runner/miniforge3/conda-bld/xgboost-split_1645117899018/work/src/learner.cc:1115: Starting in XGBoost 1.3.0, the default evaluation metric used with the objective 'binary:logistic' was changed from 'error' to 'logloss'. Explicitly set eval_metric if you'd like to restore the old behavior.\n",
      "[23:11:09] WARNING: /Users/runner/miniforge3/conda-bld/xgboost-split_1645117899018/work/src/learner.cc:1115: Starting in XGBoost 1.3.0, the default evaluation metric used with the objective 'binary:logistic' was changed from 'error' to 'logloss'. Explicitly set eval_metric if you'd like to restore the old behavior.\n",
      "[23:11:10] WARNING: /Users/runner/miniforge3/conda-bld/xgboost-split_1645117899018/work/src/learner.cc:1115: Starting in XGBoost 1.3.0, the default evaluation metric used with the objective 'binary:logistic' was changed from 'error' to 'logloss'. Explicitly set eval_metric if you'd like to restore the old behavior.\n",
      "[23:11:12] WARNING: /Users/runner/miniforge3/conda-bld/xgboost-split_1645117899018/work/src/learner.cc:1115: Starting in XGBoost 1.3.0, the default evaluation metric used with the objective 'binary:logistic' was changed from 'error' to 'logloss'. Explicitly set eval_metric if you'd like to restore the old behavior.\n",
      "[23:11:13] WARNING: /Users/runner/miniforge3/conda-bld/xgboost-split_1645117899018/work/src/learner.cc:1115: Starting in XGBoost 1.3.0, the default evaluation metric used with the objective 'binary:logistic' was changed from 'error' to 'logloss'. Explicitly set eval_metric if you'd like to restore the old behavior.\n",
      "[23:11:14] WARNING: /Users/runner/miniforge3/conda-bld/xgboost-split_1645117899018/work/src/learner.cc:1115: Starting in XGBoost 1.3.0, the default evaluation metric used with the objective 'binary:logistic' was changed from 'error' to 'logloss'. Explicitly set eval_metric if you'd like to restore the old behavior.\n",
      "[23:11:16] WARNING: /Users/runner/miniforge3/conda-bld/xgboost-split_1645117899018/work/src/learner.cc:1115: Starting in XGBoost 1.3.0, the default evaluation metric used with the objective 'binary:logistic' was changed from 'error' to 'logloss'. Explicitly set eval_metric if you'd like to restore the old behavior.\n",
      "[23:11:16] WARNING: /Users/runner/miniforge3/conda-bld/xgboost-split_1645117899018/work/src/learner.cc:1115: Starting in XGBoost 1.3.0, the default evaluation metric used with the objective 'binary:logistic' was changed from 'error' to 'logloss'. Explicitly set eval_metric if you'd like to restore the old behavior.\n",
      "[23:11:17] WARNING: /Users/runner/miniforge3/conda-bld/xgboost-split_1645117899018/work/src/learner.cc:1115: Starting in XGBoost 1.3.0, the default evaluation metric used with the objective 'binary:logistic' was changed from 'error' to 'logloss'. Explicitly set eval_metric if you'd like to restore the old behavior.\n",
      "[23:11:17] WARNING: /Users/runner/miniforge3/conda-bld/xgboost-split_1645117899018/work/src/learner.cc:1115: Starting in XGBoost 1.3.0, the default evaluation metric used with the objective 'binary:logistic' was changed from 'error' to 'logloss'. Explicitly set eval_metric if you'd like to restore the old behavior.\n",
      "[23:11:17] WARNING: /Users/runner/miniforge3/conda-bld/xgboost-split_1645117899018/work/src/learner.cc:1115: Starting in XGBoost 1.3.0, the default evaluation metric used with the objective 'binary:logistic' was changed from 'error' to 'logloss'. Explicitly set eval_metric if you'd like to restore the old behavior.\n"
     ]
    },
    {
     "name": "stdout",
     "output_type": "stream",
     "text": [
      "[23:11:18] WARNING: /Users/runner/miniforge3/conda-bld/xgboost-split_1645117899018/work/src/learner.cc:1115: Starting in XGBoost 1.3.0, the default evaluation metric used with the objective 'binary:logistic' was changed from 'error' to 'logloss'. Explicitly set eval_metric if you'd like to restore the old behavior.\n",
      "[23:11:18] WARNING: /Users/runner/miniforge3/conda-bld/xgboost-split_1645117899018/work/src/learner.cc:1115: Starting in XGBoost 1.3.0, the default evaluation metric used with the objective 'binary:logistic' was changed from 'error' to 'logloss'. Explicitly set eval_metric if you'd like to restore the old behavior.\n",
      "[23:11:19] WARNING: /Users/runner/miniforge3/conda-bld/xgboost-split_1645117899018/work/src/learner.cc:1115: Starting in XGBoost 1.3.0, the default evaluation metric used with the objective 'binary:logistic' was changed from 'error' to 'logloss'. Explicitly set eval_metric if you'd like to restore the old behavior.\n",
      "[23:11:19] WARNING: /Users/runner/miniforge3/conda-bld/xgboost-split_1645117899018/work/src/learner.cc:1115: Starting in XGBoost 1.3.0, the default evaluation metric used with the objective 'binary:logistic' was changed from 'error' to 'logloss'. Explicitly set eval_metric if you'd like to restore the old behavior.\n",
      "[23:11:20] WARNING: /Users/runner/miniforge3/conda-bld/xgboost-split_1645117899018/work/src/learner.cc:1115: Starting in XGBoost 1.3.0, the default evaluation metric used with the objective 'binary:logistic' was changed from 'error' to 'logloss'. Explicitly set eval_metric if you'd like to restore the old behavior.\n",
      "[23:11:20] WARNING: /Users/runner/miniforge3/conda-bld/xgboost-split_1645117899018/work/src/learner.cc:1115: Starting in XGBoost 1.3.0, the default evaluation metric used with the objective 'binary:logistic' was changed from 'error' to 'logloss'. Explicitly set eval_metric if you'd like to restore the old behavior.\n",
      "[23:11:21] WARNING: /Users/runner/miniforge3/conda-bld/xgboost-split_1645117899018/work/src/learner.cc:1115: Starting in XGBoost 1.3.0, the default evaluation metric used with the objective 'binary:logistic' was changed from 'error' to 'logloss'. Explicitly set eval_metric if you'd like to restore the old behavior.\n",
      "[23:11:22] WARNING: /Users/runner/miniforge3/conda-bld/xgboost-split_1645117899018/work/src/learner.cc:1115: Starting in XGBoost 1.3.0, the default evaluation metric used with the objective 'binary:logistic' was changed from 'error' to 'logloss'. Explicitly set eval_metric if you'd like to restore the old behavior.\n",
      "[23:11:23] WARNING: /Users/runner/miniforge3/conda-bld/xgboost-split_1645117899018/work/src/learner.cc:1115: Starting in XGBoost 1.3.0, the default evaluation metric used with the objective 'binary:logistic' was changed from 'error' to 'logloss'. Explicitly set eval_metric if you'd like to restore the old behavior.\n",
      "[23:11:24] WARNING: /Users/runner/miniforge3/conda-bld/xgboost-split_1645117899018/work/src/learner.cc:1115: Starting in XGBoost 1.3.0, the default evaluation metric used with the objective 'binary:logistic' was changed from 'error' to 'logloss'. Explicitly set eval_metric if you'd like to restore the old behavior.\n",
      "[23:11:25] WARNING: /Users/runner/miniforge3/conda-bld/xgboost-split_1645117899018/work/src/learner.cc:1115: Starting in XGBoost 1.3.0, the default evaluation metric used with the objective 'binary:logistic' was changed from 'error' to 'logloss'. Explicitly set eval_metric if you'd like to restore the old behavior.\n",
      "[23:11:27] WARNING: /Users/runner/miniforge3/conda-bld/xgboost-split_1645117899018/work/src/learner.cc:1115: Starting in XGBoost 1.3.0, the default evaluation metric used with the objective 'binary:logistic' was changed from 'error' to 'logloss'. Explicitly set eval_metric if you'd like to restore the old behavior.\n",
      "[23:11:28] WARNING: /Users/runner/miniforge3/conda-bld/xgboost-split_1645117899018/work/src/learner.cc:1115: Starting in XGBoost 1.3.0, the default evaluation metric used with the objective 'binary:logistic' was changed from 'error' to 'logloss'. Explicitly set eval_metric if you'd like to restore the old behavior.\n",
      "[23:11:30] WARNING: /Users/runner/miniforge3/conda-bld/xgboost-split_1645117899018/work/src/learner.cc:1115: Starting in XGBoost 1.3.0, the default evaluation metric used with the objective 'binary:logistic' was changed from 'error' to 'logloss'. Explicitly set eval_metric if you'd like to restore the old behavior.\n",
      "[23:11:31] WARNING: /Users/runner/miniforge3/conda-bld/xgboost-split_1645117899018/work/src/learner.cc:1115: Starting in XGBoost 1.3.0, the default evaluation metric used with the objective 'binary:logistic' was changed from 'error' to 'logloss'. Explicitly set eval_metric if you'd like to restore the old behavior.\n",
      "[23:11:33] WARNING: /Users/runner/miniforge3/conda-bld/xgboost-split_1645117899018/work/src/learner.cc:1115: Starting in XGBoost 1.3.0, the default evaluation metric used with the objective 'binary:logistic' was changed from 'error' to 'logloss'. Explicitly set eval_metric if you'd like to restore the old behavior.\n"
     ]
    }
   ],
   "source": [
    "xgb_7_start_time = time.monotonic()\n",
    "xgb_7_model = xgb.XGBClassifier()\n",
    "xgb_7_model.fit(X_dev_xgb,y_dev_xgb)\n",
    "tune_7_xgb = GridSearchCV(estimator=xgb_7_model,param_grid=parameters_xgb_7,cv=5)\n",
    "tune_7_xgb.fit(X_dev_xgb,y_dev_xgb)\n",
    "xgb_7_end_time = time.monotonic()"
   ]
  },
  {
   "cell_type": "code",
   "execution_count": 84,
   "metadata": {},
   "outputs": [
    {
     "name": "stdout",
     "output_type": "stream",
     "text": [
      "Best Score for 7 features using tuned XGB : 0.7860589905445188\n",
      "Best Parameters for 7 features using tuned XGB : {'learning_rate': 0.01, 'max_depth': 10, 'n_estimators': 15}\n"
     ]
    }
   ],
   "source": [
    "print(\"Best Score for 7 features using tuned XGB :\", tune_7_xgb.best_score_)\n",
    "print(\"Best Parameters for 7 features using tuned XGB :\",tune_7_xgb.best_params_)"
   ]
  },
  {
   "cell_type": "code",
   "execution_count": 85,
   "metadata": {},
   "outputs": [
    {
     "name": "stdout",
     "output_type": "stream",
     "text": [
      "Time taken by the XGB to run : 0:00:39.868113\n"
     ]
    }
   ],
   "source": [
    "print(\"Time taken by the XGB to run :\", timedelta(seconds= xgb_7_end_time - xgb_7_start_time ))"
   ]
  },
  {
   "cell_type": "code",
   "execution_count": 86,
   "metadata": {},
   "outputs": [],
   "source": [
    "predsTest_xgb_7_best = tune_7_xgb.predict(X_test_xgb)"
   ]
  },
  {
   "cell_type": "code",
   "execution_count": 87,
   "metadata": {},
   "outputs": [
    {
     "name": "stdout",
     "output_type": "stream",
     "text": [
      "Score on Test data for 7 features of XGB: 0.7864570606282751\n"
     ]
    }
   ],
   "source": [
    "print(\"Score on Test data for 7 features of XGB:\",accuracy_score(y_test, predsTest_xgb_7_best))"
   ]
  },
  {
   "cell_type": "markdown",
   "metadata": {},
   "source": [
    "**Ans:** No, this model does not perform explicitly better than the original model in 3.2. The original model has the value  **0.7864570606282751 (XGB org)** and the value of the model with the 7 features is **0.7864570606282751 (XGB 7 features)**. However, this new model performs similarly to the original one with very very less difference even if this model only has 7 features. \n",
    "I will prefer using this model for future learning and processes because it consists of the important features which are required for the learning and the difference is very less between the two(<.001%) hence the variance is already captured by this new model for the features and the properties from other non-required features can be removed."
   ]
  },
  {
   "cell_type": "markdown",
   "metadata": {
    "id": "NEEmj4qsbnJ6"
   },
   "source": [
    "## Question 4: Calibration"
   ]
  },
  {
   "cell_type": "markdown",
   "metadata": {
    "id": "4avkwE8sGFhB"
   },
   "source": [
    "**4.1: Estimate the brier score for the XGBoost model (trained with optimal hyperparameters from Q3.2) scored on the test dataset.**"
   ]
  },
  {
   "cell_type": "code",
   "execution_count": 88,
   "metadata": {
    "id": "MIVBqrqrocKr"
   },
   "outputs": [],
   "source": [
    "from sklearn.metrics import brier_score_loss"
   ]
  },
  {
   "cell_type": "code",
   "execution_count": 90,
   "metadata": {},
   "outputs": [
    {
     "name": "stdout",
     "output_type": "stream",
     "text": [
      "Brier Score for the XGB without Calibration on optimal hyperparameters : 0.2205290783826086\n"
     ]
    }
   ],
   "source": [
    "b_score = brier_score_loss(y_test,tune_xgb.predict_proba(X_test)[:, [1]])\n",
    "print(\"Brier Score for the XGB without Calibration on optimal hyperparameters :\", b_score)"
   ]
  },
  {
   "cell_type": "markdown",
   "metadata": {
    "id": "k8J-WzSvh-i0"
   },
   "source": [
    "**4.2: Calibrate the trained XGBoost model using isotonic regression as well as Platt scaling. Plot predicted v.s. actual on test datasets from both the calibration methods**"
   ]
  },
  {
   "cell_type": "code",
   "execution_count": 91,
   "metadata": {
    "id": "VZJiSfhcocsn"
   },
   "outputs": [
    {
     "name": "stdout",
     "output_type": "stream",
     "text": [
      "[23:17:59] WARNING: /Users/runner/miniforge3/conda-bld/xgboost-split_1645117899018/work/src/learner.cc:1115: Starting in XGBoost 1.3.0, the default evaluation metric used with the objective 'binary:logistic' was changed from 'error' to 'logloss'. Explicitly set eval_metric if you'd like to restore the old behavior.\n"
     ]
    }
   ],
   "source": [
    "best_xgb_model = tune_xgb.best_estimator_\n",
    "\n",
    "###splitting to calibrate on a smaller dataset\n",
    "X_train_cal, X_cal, y_train_cal, y_cal = train_test_split(X_dev,y_dev,random_state=10)\n",
    "xgbcal = best_xgb_model.fit(X_train_cal,y_train_cal)"
   ]
  },
  {
   "cell_type": "code",
   "execution_count": 92,
   "metadata": {},
   "outputs": [],
   "source": [
    "from sklearn.calibration import CalibratedClassifierCV, CalibrationDisplay\n",
    "\n",
    "platt = CalibratedClassifierCV(xgbcal,cv =\"prefit\",method=\"sigmoid\")\n",
    "isotonic = CalibratedClassifierCV(xgbcal,cv =\"prefit\",method=\"isotonic\")"
   ]
  },
  {
   "cell_type": "code",
   "execution_count": 93,
   "metadata": {},
   "outputs": [
    {
     "data": {
      "text/plain": [
       "CalibratedClassifierCV(base_estimator=XGBClassifier(base_score=0.5,\n",
       "                                                    booster='gbtree',\n",
       "                                                    colsample_bylevel=1,\n",
       "                                                    colsample_bynode=1,\n",
       "                                                    colsample_bytree=1,\n",
       "                                                    enable_categorical=False,\n",
       "                                                    gamma=0, gpu_id=-1,\n",
       "                                                    importance_type=None,\n",
       "                                                    interaction_constraints='',\n",
       "                                                    learning_rate=0.01,\n",
       "                                                    max_delta_step=0,\n",
       "                                                    max_depth=10,\n",
       "                                                    min_child_weight=1,\n",
       "                                                    missing=nan,\n",
       "                                                    monotone_constraints='()',\n",
       "                                                    n_estimators=15, n_jobs=8,\n",
       "                                                    num_parallel_tree=1,\n",
       "                                                    predictor='auto',\n",
       "                                                    random_state=0, reg_alpha=0,\n",
       "                                                    reg_lambda=1,\n",
       "                                                    scale_pos_weight=1,\n",
       "                                                    subsample=1,\n",
       "                                                    tree_method='exact',\n",
       "                                                    validate_parameters=1,\n",
       "                                                    verbosity=None),\n",
       "                       cv='prefit')"
      ]
     },
     "execution_count": 93,
     "metadata": {},
     "output_type": "execute_result"
    }
   ],
   "source": [
    "platt.fit(X_cal,y_cal)"
   ]
  },
  {
   "cell_type": "code",
   "execution_count": 94,
   "metadata": {},
   "outputs": [
    {
     "data": {
      "text/plain": [
       "CalibratedClassifierCV(base_estimator=XGBClassifier(base_score=0.5,\n",
       "                                                    booster='gbtree',\n",
       "                                                    colsample_bylevel=1,\n",
       "                                                    colsample_bynode=1,\n",
       "                                                    colsample_bytree=1,\n",
       "                                                    enable_categorical=False,\n",
       "                                                    gamma=0, gpu_id=-1,\n",
       "                                                    importance_type=None,\n",
       "                                                    interaction_constraints='',\n",
       "                                                    learning_rate=0.01,\n",
       "                                                    max_delta_step=0,\n",
       "                                                    max_depth=10,\n",
       "                                                    min_child_weight=1,\n",
       "                                                    missing=nan,\n",
       "                                                    monotone_constraints='()',\n",
       "                                                    n_estimators=15, n_jobs=8,\n",
       "                                                    num_parallel_tree=1,\n",
       "                                                    predictor='auto',\n",
       "                                                    random_state=0, reg_alpha=0,\n",
       "                                                    reg_lambda=1,\n",
       "                                                    scale_pos_weight=1,\n",
       "                                                    subsample=1,\n",
       "                                                    tree_method='exact',\n",
       "                                                    validate_parameters=1,\n",
       "                                                    verbosity=None),\n",
       "                       cv='prefit', method='isotonic')"
      ]
     },
     "execution_count": 94,
     "metadata": {},
     "output_type": "execute_result"
    }
   ],
   "source": [
    "isotonic.fit(X_cal,y_cal)"
   ]
  },
  {
   "cell_type": "code",
   "execution_count": 95,
   "metadata": {},
   "outputs": [
    {
     "data": {
      "image/png": "[encoded data removed]",
      "text/plain": [
       "<Figure size 1080x432 with 1 Axes>"
      ]
     },
     "metadata": {},
     "output_type": "display_data"
    }
   ],
   "source": [
    "display1 = CalibrationDisplay.from_estimator(platt,X_test,y_test,n_bins=15,name=\"Platt Caliberation\")"
   ]
  },
  {
   "cell_type": "code",
   "execution_count": 96,
   "metadata": {},
   "outputs": [
    {
     "data": {
      "image/png": "[encoded data removed]",
      "text/plain": [
       "<Figure size 1080x432 with 1 Axes>"
      ]
     },
     "metadata": {},
     "output_type": "display_data"
    }
   ],
   "source": [
    "display2 = CalibrationDisplay.from_estimator(isotonic,X_test,y_test,n_bins=15,name=\"Isotonic Caliberation\")"
   ]
  },
  {
   "cell_type": "markdown",
   "metadata": {
    "id": "_BufbZfmiCjc"
   },
   "source": [
    "**4.3: Report brier scores from both the calibration methods. Do the calibration methods help in having better predicted probabilities?**"
   ]
  },
  {
   "cell_type": "code",
   "execution_count": 97,
   "metadata": {
    "id": "cLwrHlRXodI8"
   },
   "outputs": [],
   "source": [
    "platt_scores = platt.predict_proba(X_test)[:, 1]\n",
    "isotonic_scores = isotonic.predict_proba(X_test)[:, 1]"
   ]
  },
  {
   "cell_type": "markdown",
   "metadata": {},
   "source": [
    "#### platt brier score "
   ]
  },
  {
   "cell_type": "code",
   "execution_count": 98,
   "metadata": {},
   "outputs": [
    {
     "name": "stdout",
     "output_type": "stream",
     "text": [
      "Brier Score for the XGB with Calibration on optimal hyperparameters - Platt : 0.14331034112115176\n"
     ]
    }
   ],
   "source": [
    "b_score_platt = brier_score_loss(y_test,platt_scores)\n",
    "print(\"Brier Score for the XGB with Calibration on optimal hyperparameters - Platt :\", b_score_platt)"
   ]
  },
  {
   "cell_type": "markdown",
   "metadata": {},
   "source": [
    "#### isotonic brier score "
   ]
  },
  {
   "cell_type": "code",
   "execution_count": 99,
   "metadata": {},
   "outputs": [
    {
     "name": "stdout",
     "output_type": "stream",
     "text": [
      "Brier Score for the XGB with Calibration on optimal hyperparameters - Isotonic  0.14029112852945233\n"
     ]
    }
   ],
   "source": [
    "b_score_isotonic = brier_score_loss(y_test, isotonic_scores)\n",
    "print(\"Brier Score for the XGB with Calibration on optimal hyperparameters - Isotonic \", b_score_isotonic)"
   ]
  },
  {
   "cell_type": "markdown",
   "metadata": {},
   "source": [
    "**Ans:** Yes, the calibration methods help in having better predicted probabilities. As we can see that the values of the Brier Loss are less hence the model will perform better."
   ]
  }
 ],
 "metadata": {
  "colab": {
   "collapsed_sections": [],
   "name": "AML_Homework_2.ipynb",
   "provenance": []
  },
  "kernelspec": {
   "display_name": "Python 3 (ipykernel)",
   "language": "python",
   "name": "python3"
  },
  "language_info": {
   "codemirror_mode": {
    "name": "ipython",
    "version": 3
   },
   "file_extension": ".py",
   "mimetype": "text/x-python",
   "name": "python",
   "nbconvert_exporter": "python",
   "pygments_lexer": "ipython3",
   "version": "3.9.7"
  }
 },
 "nbformat": 4,
 "nbformat_minor": 1
}
